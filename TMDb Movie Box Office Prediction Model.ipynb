{
 "cells": [
  {
   "cell_type": "markdown",
   "metadata": {},
   "source": [
    "# TMDb Movie Box Office Prediction Model"
   ]
  },
  {
   "cell_type": "code",
   "execution_count": null,
   "metadata": {},
   "outputs": [],
   "source": []
  },
  {
   "cell_type": "code",
   "execution_count": null,
   "metadata": {},
   "outputs": [],
   "source": []
  },
  {
   "cell_type": "markdown",
   "metadata": {},
   "source": [
    "## Importing Libraries"
   ]
  },
  {
   "cell_type": "code",
   "execution_count": 1,
   "metadata": {},
   "outputs": [],
   "source": [
    "import sys\n",
    "import pandas as pd\n",
    "import numpy as np\n",
    "from numpy import mean\n",
    "import time\n",
    "from datetime import datetime\n",
    "import calendar\n",
    "import matplotlib.pyplot as plt\n",
    "from matplotlib import cm\n",
    "import seaborn as sns\n",
    "import re\n",
    "from scipy.stats import pearsonr\n",
    "plt.style.use('ggplot')\n",
    "pd.options.mode.chained_assignment = None  # default='warn'"
   ]
  },
  {
   "cell_type": "markdown",
   "metadata": {},
   "source": [
    "## Loading the data"
   ]
  },
  {
   "cell_type": "code",
   "execution_count": 2,
   "metadata": {},
   "outputs": [],
   "source": [
    "#Load in the data\n",
    "train = pd.read_csv(\"data/train.csv\")\n",
    "test = pd.read_csv(\"data/test.csv\")"
   ]
  },
  {
   "cell_type": "markdown",
   "metadata": {},
   "source": [
    "## Initial Inspection of the Data"
   ]
  },
  {
   "cell_type": "code",
   "execution_count": 3,
   "metadata": {
    "scrolled": true
   },
   "outputs": [
    {
     "name": "stdout",
     "output_type": "stream",
     "text": [
      "<class 'pandas.core.frame.DataFrame'>\n",
      "RangeIndex: 3000 entries, 0 to 2999\n",
      "Data columns (total 23 columns):\n",
      " #   Column                 Non-Null Count  Dtype  \n",
      "---  ------                 --------------  -----  \n",
      " 0   id                     3000 non-null   int64  \n",
      " 1   belongs_to_collection  604 non-null    object \n",
      " 2   budget                 3000 non-null   int64  \n",
      " 3   genres                 2993 non-null   object \n",
      " 4   homepage               946 non-null    object \n",
      " 5   imdb_id                3000 non-null   object \n",
      " 6   original_language      3000 non-null   object \n",
      " 7   original_title         3000 non-null   object \n",
      " 8   overview               2992 non-null   object \n",
      " 9   popularity             3000 non-null   float64\n",
      " 10  poster_path            2999 non-null   object \n",
      " 11  production_companies   2844 non-null   object \n",
      " 12  production_countries   2945 non-null   object \n",
      " 13  release_date           3000 non-null   object \n",
      " 14  runtime                2998 non-null   float64\n",
      " 15  spoken_languages       2980 non-null   object \n",
      " 16  status                 3000 non-null   object \n",
      " 17  tagline                2403 non-null   object \n",
      " 18  title                  3000 non-null   object \n",
      " 19  Keywords               2724 non-null   object \n",
      " 20  cast                   2987 non-null   object \n",
      " 21  crew                   2984 non-null   object \n",
      " 22  revenue                3000 non-null   int64  \n",
      "dtypes: float64(2), int64(3), object(18)\n",
      "memory usage: 539.2+ KB\n"
     ]
    }
   ],
   "source": [
    "train.info()"
   ]
  },
  {
   "cell_type": "code",
   "execution_count": 4,
   "metadata": {
    "scrolled": false
   },
   "outputs": [
    {
     "name": "stdout",
     "output_type": "stream",
     "text": [
      "The train data has 3000 rows and 23 columns\n",
      "----------------------------\n",
      "The test data has 4398 rows and 22 columns\n"
     ]
    }
   ],
   "source": [
    "print ('The train data has {} rows and {} columns'.format(train.shape[0],train.shape[1]))\n",
    "print ('----------------------------')\n",
    "print ('The test data has {} rows and {} columns'.format(test.shape[0],test.shape[1]))"
   ]
  },
  {
   "cell_type": "code",
   "execution_count": 5,
   "metadata": {
    "scrolled": false
   },
   "outputs": [
    {
     "data": {
      "text/html": [
       "<div>\n",
       "<style scoped>\n",
       "    .dataframe tbody tr th:only-of-type {\n",
       "        vertical-align: middle;\n",
       "    }\n",
       "\n",
       "    .dataframe tbody tr th {\n",
       "        vertical-align: top;\n",
       "    }\n",
       "\n",
       "    .dataframe thead th {\n",
       "        text-align: right;\n",
       "    }\n",
       "</style>\n",
       "<table border=\"1\" class=\"dataframe\">\n",
       "  <thead>\n",
       "    <tr style=\"text-align: right;\">\n",
       "      <th></th>\n",
       "      <th>id</th>\n",
       "      <th>belongs_to_collection</th>\n",
       "      <th>budget</th>\n",
       "      <th>genres</th>\n",
       "      <th>homepage</th>\n",
       "      <th>imdb_id</th>\n",
       "      <th>original_language</th>\n",
       "      <th>original_title</th>\n",
       "      <th>overview</th>\n",
       "      <th>popularity</th>\n",
       "      <th>...</th>\n",
       "      <th>release_date</th>\n",
       "      <th>runtime</th>\n",
       "      <th>spoken_languages</th>\n",
       "      <th>status</th>\n",
       "      <th>tagline</th>\n",
       "      <th>title</th>\n",
       "      <th>Keywords</th>\n",
       "      <th>cast</th>\n",
       "      <th>crew</th>\n",
       "      <th>revenue</th>\n",
       "    </tr>\n",
       "  </thead>\n",
       "  <tbody>\n",
       "    <tr>\n",
       "      <th>0</th>\n",
       "      <td>1</td>\n",
       "      <td>[{'id': 313576, 'name': 'Hot Tub Time Machine ...</td>\n",
       "      <td>14000000</td>\n",
       "      <td>[{'id': 35, 'name': 'Comedy'}]</td>\n",
       "      <td>NaN</td>\n",
       "      <td>tt2637294</td>\n",
       "      <td>en</td>\n",
       "      <td>Hot Tub Time Machine 2</td>\n",
       "      <td>When Lou, who has become the \"father of the In...</td>\n",
       "      <td>6.575393</td>\n",
       "      <td>...</td>\n",
       "      <td>2/20/15</td>\n",
       "      <td>93.0</td>\n",
       "      <td>[{'iso_639_1': 'en', 'name': 'English'}]</td>\n",
       "      <td>Released</td>\n",
       "      <td>The Laws of Space and Time are About to be Vio...</td>\n",
       "      <td>Hot Tub Time Machine 2</td>\n",
       "      <td>[{'id': 4379, 'name': 'time travel'}, {'id': 9...</td>\n",
       "      <td>[{'cast_id': 4, 'character': 'Lou', 'credit_id...</td>\n",
       "      <td>[{'credit_id': '59ac067c92514107af02c8c8', 'de...</td>\n",
       "      <td>12314651</td>\n",
       "    </tr>\n",
       "    <tr>\n",
       "      <th>1</th>\n",
       "      <td>2</td>\n",
       "      <td>[{'id': 107674, 'name': 'The Princess Diaries ...</td>\n",
       "      <td>40000000</td>\n",
       "      <td>[{'id': 35, 'name': 'Comedy'}, {'id': 18, 'nam...</td>\n",
       "      <td>NaN</td>\n",
       "      <td>tt0368933</td>\n",
       "      <td>en</td>\n",
       "      <td>The Princess Diaries 2: Royal Engagement</td>\n",
       "      <td>Mia Thermopolis is now a college graduate and ...</td>\n",
       "      <td>8.248895</td>\n",
       "      <td>...</td>\n",
       "      <td>8/6/04</td>\n",
       "      <td>113.0</td>\n",
       "      <td>[{'iso_639_1': 'en', 'name': 'English'}]</td>\n",
       "      <td>Released</td>\n",
       "      <td>It can take a lifetime to find true love; she'...</td>\n",
       "      <td>The Princess Diaries 2: Royal Engagement</td>\n",
       "      <td>[{'id': 2505, 'name': 'coronation'}, {'id': 42...</td>\n",
       "      <td>[{'cast_id': 1, 'character': 'Mia Thermopolis'...</td>\n",
       "      <td>[{'credit_id': '52fe43fe9251416c7502563d', 'de...</td>\n",
       "      <td>95149435</td>\n",
       "    </tr>\n",
       "    <tr>\n",
       "      <th>2</th>\n",
       "      <td>3</td>\n",
       "      <td>NaN</td>\n",
       "      <td>3300000</td>\n",
       "      <td>[{'id': 18, 'name': 'Drama'}]</td>\n",
       "      <td>http://sonyclassics.com/whiplash/</td>\n",
       "      <td>tt2582802</td>\n",
       "      <td>en</td>\n",
       "      <td>Whiplash</td>\n",
       "      <td>Under the direction of a ruthless instructor, ...</td>\n",
       "      <td>64.299990</td>\n",
       "      <td>...</td>\n",
       "      <td>10/10/14</td>\n",
       "      <td>105.0</td>\n",
       "      <td>[{'iso_639_1': 'en', 'name': 'English'}]</td>\n",
       "      <td>Released</td>\n",
       "      <td>The road to greatness can take you to the edge.</td>\n",
       "      <td>Whiplash</td>\n",
       "      <td>[{'id': 1416, 'name': 'jazz'}, {'id': 1523, 'n...</td>\n",
       "      <td>[{'cast_id': 5, 'character': 'Andrew Neimann',...</td>\n",
       "      <td>[{'credit_id': '54d5356ec3a3683ba0000039', 'de...</td>\n",
       "      <td>13092000</td>\n",
       "    </tr>\n",
       "    <tr>\n",
       "      <th>3</th>\n",
       "      <td>4</td>\n",
       "      <td>NaN</td>\n",
       "      <td>1200000</td>\n",
       "      <td>[{'id': 53, 'name': 'Thriller'}, {'id': 18, 'n...</td>\n",
       "      <td>http://kahaanithefilm.com/</td>\n",
       "      <td>tt1821480</td>\n",
       "      <td>hi</td>\n",
       "      <td>Kahaani</td>\n",
       "      <td>Vidya Bagchi (Vidya Balan) arrives in Kolkata ...</td>\n",
       "      <td>3.174936</td>\n",
       "      <td>...</td>\n",
       "      <td>3/9/12</td>\n",
       "      <td>122.0</td>\n",
       "      <td>[{'iso_639_1': 'en', 'name': 'English'}, {'iso...</td>\n",
       "      <td>Released</td>\n",
       "      <td>NaN</td>\n",
       "      <td>Kahaani</td>\n",
       "      <td>[{'id': 10092, 'name': 'mystery'}, {'id': 1054...</td>\n",
       "      <td>[{'cast_id': 1, 'character': 'Vidya Bagchi', '...</td>\n",
       "      <td>[{'credit_id': '52fe48779251416c9108d6eb', 'de...</td>\n",
       "      <td>16000000</td>\n",
       "    </tr>\n",
       "    <tr>\n",
       "      <th>4</th>\n",
       "      <td>5</td>\n",
       "      <td>NaN</td>\n",
       "      <td>0</td>\n",
       "      <td>[{'id': 28, 'name': 'Action'}, {'id': 53, 'nam...</td>\n",
       "      <td>NaN</td>\n",
       "      <td>tt1380152</td>\n",
       "      <td>ko</td>\n",
       "      <td>마린보이</td>\n",
       "      <td>Marine Boy is the story of a former national s...</td>\n",
       "      <td>1.148070</td>\n",
       "      <td>...</td>\n",
       "      <td>2/5/09</td>\n",
       "      <td>118.0</td>\n",
       "      <td>[{'iso_639_1': 'ko', 'name': '한국어/조선말'}]</td>\n",
       "      <td>Released</td>\n",
       "      <td>NaN</td>\n",
       "      <td>Marine Boy</td>\n",
       "      <td>NaN</td>\n",
       "      <td>[{'cast_id': 3, 'character': 'Chun-soo', 'cred...</td>\n",
       "      <td>[{'credit_id': '52fe464b9251416c75073b43', 'de...</td>\n",
       "      <td>3923970</td>\n",
       "    </tr>\n",
       "    <tr>\n",
       "      <th>5</th>\n",
       "      <td>6</td>\n",
       "      <td>NaN</td>\n",
       "      <td>8000000</td>\n",
       "      <td>[{'id': 16, 'name': 'Animation'}, {'id': 12, '...</td>\n",
       "      <td>NaN</td>\n",
       "      <td>tt0093743</td>\n",
       "      <td>en</td>\n",
       "      <td>Pinocchio and the Emperor of the Night</td>\n",
       "      <td>Pinocchio and his friends, a glow worm and a m...</td>\n",
       "      <td>0.743274</td>\n",
       "      <td>...</td>\n",
       "      <td>8/6/87</td>\n",
       "      <td>83.0</td>\n",
       "      <td>[{'iso_639_1': 'en', 'name': 'English'}]</td>\n",
       "      <td>Released</td>\n",
       "      <td>NaN</td>\n",
       "      <td>Pinocchio and the Emperor of the Night</td>\n",
       "      <td>NaN</td>\n",
       "      <td>[{'cast_id': 6, 'character': 'Pinocchio (voice...</td>\n",
       "      <td>[{'credit_id': '52fe46f49251416c9106558b', 'de...</td>\n",
       "      <td>3261638</td>\n",
       "    </tr>\n",
       "    <tr>\n",
       "      <th>6</th>\n",
       "      <td>7</td>\n",
       "      <td>NaN</td>\n",
       "      <td>14000000</td>\n",
       "      <td>[{'id': 27, 'name': 'Horror'}, {'id': 53, 'nam...</td>\n",
       "      <td>http://www.thepossessionmovie.com/</td>\n",
       "      <td>tt0431021</td>\n",
       "      <td>en</td>\n",
       "      <td>The Possession</td>\n",
       "      <td>A young girl buys an antique box at a yard sal...</td>\n",
       "      <td>7.286477</td>\n",
       "      <td>...</td>\n",
       "      <td>8/30/12</td>\n",
       "      <td>92.0</td>\n",
       "      <td>[{'iso_639_1': 'en', 'name': 'English'}]</td>\n",
       "      <td>Released</td>\n",
       "      <td>Fear The Demon That Doesn't Fear God</td>\n",
       "      <td>The Possession</td>\n",
       "      <td>NaN</td>\n",
       "      <td>[{'cast_id': 23, 'character': 'Clyde', 'credit...</td>\n",
       "      <td>[{'credit_id': '52fe4981c3a368484e12ee29', 'de...</td>\n",
       "      <td>85446075</td>\n",
       "    </tr>\n",
       "    <tr>\n",
       "      <th>7</th>\n",
       "      <td>8</td>\n",
       "      <td>NaN</td>\n",
       "      <td>0</td>\n",
       "      <td>[{'id': 99, 'name': 'Documentary'}]</td>\n",
       "      <td>NaN</td>\n",
       "      <td>tt0391024</td>\n",
       "      <td>en</td>\n",
       "      <td>Control Room</td>\n",
       "      <td>A chronicle which provides a rare window into ...</td>\n",
       "      <td>1.949044</td>\n",
       "      <td>...</td>\n",
       "      <td>1/15/04</td>\n",
       "      <td>84.0</td>\n",
       "      <td>[{'iso_639_1': 'ar', 'name': 'العربية'}, {'iso...</td>\n",
       "      <td>Released</td>\n",
       "      <td>Different channels. Different truths.</td>\n",
       "      <td>Control Room</td>\n",
       "      <td>[{'id': 917, 'name': 'journalism'}, {'id': 163...</td>\n",
       "      <td>[{'cast_id': 2, 'character': 'Himself', 'credi...</td>\n",
       "      <td>[{'credit_id': '52fe47a69251416c750a0daf', 'de...</td>\n",
       "      <td>2586511</td>\n",
       "    </tr>\n",
       "    <tr>\n",
       "      <th>8</th>\n",
       "      <td>9</td>\n",
       "      <td>[{'id': 256377, 'name': 'The Muppet Collection...</td>\n",
       "      <td>0</td>\n",
       "      <td>[{'id': 28, 'name': 'Action'}, {'id': 35, 'nam...</td>\n",
       "      <td>NaN</td>\n",
       "      <td>tt0117110</td>\n",
       "      <td>en</td>\n",
       "      <td>Muppet Treasure Island</td>\n",
       "      <td>After telling the story of Flint's last journe...</td>\n",
       "      <td>6.902423</td>\n",
       "      <td>...</td>\n",
       "      <td>2/16/96</td>\n",
       "      <td>100.0</td>\n",
       "      <td>[{'iso_639_1': 'en', 'name': 'English'}]</td>\n",
       "      <td>Released</td>\n",
       "      <td>Set sail for Muppet mayhem!</td>\n",
       "      <td>Muppet Treasure Island</td>\n",
       "      <td>[{'id': 2041, 'name': 'island'}, {'id': 4418, ...</td>\n",
       "      <td>[{'cast_id': 1, 'character': 'Long John Silver...</td>\n",
       "      <td>[{'credit_id': '52fe43c89251416c7501deb3', 'de...</td>\n",
       "      <td>34327391</td>\n",
       "    </tr>\n",
       "    <tr>\n",
       "      <th>9</th>\n",
       "      <td>10</td>\n",
       "      <td>NaN</td>\n",
       "      <td>6000000</td>\n",
       "      <td>[{'id': 35, 'name': 'Comedy'}, {'id': 10402, '...</td>\n",
       "      <td>NaN</td>\n",
       "      <td>tt0310281</td>\n",
       "      <td>en</td>\n",
       "      <td>A Mighty Wind</td>\n",
       "      <td>In \"A Mighty Wind\", director Christopher Guest...</td>\n",
       "      <td>4.672036</td>\n",
       "      <td>...</td>\n",
       "      <td>4/16/03</td>\n",
       "      <td>91.0</td>\n",
       "      <td>[{'iso_639_1': 'en', 'name': 'English'}]</td>\n",
       "      <td>Released</td>\n",
       "      <td>Back together for the first time, again.</td>\n",
       "      <td>A Mighty Wind</td>\n",
       "      <td>[{'id': 11800, 'name': 'mockumentary'}, {'id':...</td>\n",
       "      <td>[{'cast_id': 24, 'character': 'Jonathan Steinb...</td>\n",
       "      <td>[{'credit_id': '52fe45609251416c750545b3', 'de...</td>\n",
       "      <td>18750246</td>\n",
       "    </tr>\n",
       "  </tbody>\n",
       "</table>\n",
       "<p>10 rows × 23 columns</p>\n",
       "</div>"
      ],
      "text/plain": [
       "   id                              belongs_to_collection    budget  \\\n",
       "0   1  [{'id': 313576, 'name': 'Hot Tub Time Machine ...  14000000   \n",
       "1   2  [{'id': 107674, 'name': 'The Princess Diaries ...  40000000   \n",
       "2   3                                                NaN   3300000   \n",
       "3   4                                                NaN   1200000   \n",
       "4   5                                                NaN         0   \n",
       "5   6                                                NaN   8000000   \n",
       "6   7                                                NaN  14000000   \n",
       "7   8                                                NaN         0   \n",
       "8   9  [{'id': 256377, 'name': 'The Muppet Collection...         0   \n",
       "9  10                                                NaN   6000000   \n",
       "\n",
       "                                              genres  \\\n",
       "0                     [{'id': 35, 'name': 'Comedy'}]   \n",
       "1  [{'id': 35, 'name': 'Comedy'}, {'id': 18, 'nam...   \n",
       "2                      [{'id': 18, 'name': 'Drama'}]   \n",
       "3  [{'id': 53, 'name': 'Thriller'}, {'id': 18, 'n...   \n",
       "4  [{'id': 28, 'name': 'Action'}, {'id': 53, 'nam...   \n",
       "5  [{'id': 16, 'name': 'Animation'}, {'id': 12, '...   \n",
       "6  [{'id': 27, 'name': 'Horror'}, {'id': 53, 'nam...   \n",
       "7                [{'id': 99, 'name': 'Documentary'}]   \n",
       "8  [{'id': 28, 'name': 'Action'}, {'id': 35, 'nam...   \n",
       "9  [{'id': 35, 'name': 'Comedy'}, {'id': 10402, '...   \n",
       "\n",
       "                             homepage    imdb_id original_language  \\\n",
       "0                                 NaN  tt2637294                en   \n",
       "1                                 NaN  tt0368933                en   \n",
       "2   http://sonyclassics.com/whiplash/  tt2582802                en   \n",
       "3          http://kahaanithefilm.com/  tt1821480                hi   \n",
       "4                                 NaN  tt1380152                ko   \n",
       "5                                 NaN  tt0093743                en   \n",
       "6  http://www.thepossessionmovie.com/  tt0431021                en   \n",
       "7                                 NaN  tt0391024                en   \n",
       "8                                 NaN  tt0117110                en   \n",
       "9                                 NaN  tt0310281                en   \n",
       "\n",
       "                             original_title  \\\n",
       "0                    Hot Tub Time Machine 2   \n",
       "1  The Princess Diaries 2: Royal Engagement   \n",
       "2                                  Whiplash   \n",
       "3                                   Kahaani   \n",
       "4                                      마린보이   \n",
       "5    Pinocchio and the Emperor of the Night   \n",
       "6                            The Possession   \n",
       "7                              Control Room   \n",
       "8                    Muppet Treasure Island   \n",
       "9                             A Mighty Wind   \n",
       "\n",
       "                                            overview  popularity  ...  \\\n",
       "0  When Lou, who has become the \"father of the In...    6.575393  ...   \n",
       "1  Mia Thermopolis is now a college graduate and ...    8.248895  ...   \n",
       "2  Under the direction of a ruthless instructor, ...   64.299990  ...   \n",
       "3  Vidya Bagchi (Vidya Balan) arrives in Kolkata ...    3.174936  ...   \n",
       "4  Marine Boy is the story of a former national s...    1.148070  ...   \n",
       "5  Pinocchio and his friends, a glow worm and a m...    0.743274  ...   \n",
       "6  A young girl buys an antique box at a yard sal...    7.286477  ...   \n",
       "7  A chronicle which provides a rare window into ...    1.949044  ...   \n",
       "8  After telling the story of Flint's last journe...    6.902423  ...   \n",
       "9  In \"A Mighty Wind\", director Christopher Guest...    4.672036  ...   \n",
       "\n",
       "  release_date runtime                                   spoken_languages  \\\n",
       "0      2/20/15    93.0           [{'iso_639_1': 'en', 'name': 'English'}]   \n",
       "1       8/6/04   113.0           [{'iso_639_1': 'en', 'name': 'English'}]   \n",
       "2     10/10/14   105.0           [{'iso_639_1': 'en', 'name': 'English'}]   \n",
       "3       3/9/12   122.0  [{'iso_639_1': 'en', 'name': 'English'}, {'iso...   \n",
       "4       2/5/09   118.0           [{'iso_639_1': 'ko', 'name': '한국어/조선말'}]   \n",
       "5       8/6/87    83.0           [{'iso_639_1': 'en', 'name': 'English'}]   \n",
       "6      8/30/12    92.0           [{'iso_639_1': 'en', 'name': 'English'}]   \n",
       "7      1/15/04    84.0  [{'iso_639_1': 'ar', 'name': 'العربية'}, {'iso...   \n",
       "8      2/16/96   100.0           [{'iso_639_1': 'en', 'name': 'English'}]   \n",
       "9      4/16/03    91.0           [{'iso_639_1': 'en', 'name': 'English'}]   \n",
       "\n",
       "     status                                            tagline  \\\n",
       "0  Released  The Laws of Space and Time are About to be Vio...   \n",
       "1  Released  It can take a lifetime to find true love; she'...   \n",
       "2  Released    The road to greatness can take you to the edge.   \n",
       "3  Released                                                NaN   \n",
       "4  Released                                                NaN   \n",
       "5  Released                                                NaN   \n",
       "6  Released               Fear The Demon That Doesn't Fear God   \n",
       "7  Released              Different channels. Different truths.   \n",
       "8  Released                        Set sail for Muppet mayhem!   \n",
       "9  Released           Back together for the first time, again.   \n",
       "\n",
       "                                      title  \\\n",
       "0                    Hot Tub Time Machine 2   \n",
       "1  The Princess Diaries 2: Royal Engagement   \n",
       "2                                  Whiplash   \n",
       "3                                   Kahaani   \n",
       "4                                Marine Boy   \n",
       "5    Pinocchio and the Emperor of the Night   \n",
       "6                            The Possession   \n",
       "7                              Control Room   \n",
       "8                    Muppet Treasure Island   \n",
       "9                             A Mighty Wind   \n",
       "\n",
       "                                            Keywords  \\\n",
       "0  [{'id': 4379, 'name': 'time travel'}, {'id': 9...   \n",
       "1  [{'id': 2505, 'name': 'coronation'}, {'id': 42...   \n",
       "2  [{'id': 1416, 'name': 'jazz'}, {'id': 1523, 'n...   \n",
       "3  [{'id': 10092, 'name': 'mystery'}, {'id': 1054...   \n",
       "4                                                NaN   \n",
       "5                                                NaN   \n",
       "6                                                NaN   \n",
       "7  [{'id': 917, 'name': 'journalism'}, {'id': 163...   \n",
       "8  [{'id': 2041, 'name': 'island'}, {'id': 4418, ...   \n",
       "9  [{'id': 11800, 'name': 'mockumentary'}, {'id':...   \n",
       "\n",
       "                                                cast  \\\n",
       "0  [{'cast_id': 4, 'character': 'Lou', 'credit_id...   \n",
       "1  [{'cast_id': 1, 'character': 'Mia Thermopolis'...   \n",
       "2  [{'cast_id': 5, 'character': 'Andrew Neimann',...   \n",
       "3  [{'cast_id': 1, 'character': 'Vidya Bagchi', '...   \n",
       "4  [{'cast_id': 3, 'character': 'Chun-soo', 'cred...   \n",
       "5  [{'cast_id': 6, 'character': 'Pinocchio (voice...   \n",
       "6  [{'cast_id': 23, 'character': 'Clyde', 'credit...   \n",
       "7  [{'cast_id': 2, 'character': 'Himself', 'credi...   \n",
       "8  [{'cast_id': 1, 'character': 'Long John Silver...   \n",
       "9  [{'cast_id': 24, 'character': 'Jonathan Steinb...   \n",
       "\n",
       "                                                crew   revenue  \n",
       "0  [{'credit_id': '59ac067c92514107af02c8c8', 'de...  12314651  \n",
       "1  [{'credit_id': '52fe43fe9251416c7502563d', 'de...  95149435  \n",
       "2  [{'credit_id': '54d5356ec3a3683ba0000039', 'de...  13092000  \n",
       "3  [{'credit_id': '52fe48779251416c9108d6eb', 'de...  16000000  \n",
       "4  [{'credit_id': '52fe464b9251416c75073b43', 'de...   3923970  \n",
       "5  [{'credit_id': '52fe46f49251416c9106558b', 'de...   3261638  \n",
       "6  [{'credit_id': '52fe4981c3a368484e12ee29', 'de...  85446075  \n",
       "7  [{'credit_id': '52fe47a69251416c750a0daf', 'de...   2586511  \n",
       "8  [{'credit_id': '52fe43c89251416c7501deb3', 'de...  34327391  \n",
       "9  [{'credit_id': '52fe45609251416c750545b3', 'de...  18750246  \n",
       "\n",
       "[10 rows x 23 columns]"
      ]
     },
     "execution_count": 5,
     "metadata": {},
     "output_type": "execute_result"
    }
   ],
   "source": [
    "train.head(10)"
   ]
  },
  {
   "cell_type": "code",
   "execution_count": 6,
   "metadata": {
    "scrolled": false
   },
   "outputs": [
    {
     "name": "stdout",
     "output_type": "stream",
     "text": [
      "Training set missing values:\n",
      " id                          0\n",
      "belongs_to_collection    2396\n",
      "budget                      0\n",
      "genres                      7\n",
      "homepage                 2054\n",
      "imdb_id                     0\n",
      "original_language           0\n",
      "original_title              0\n",
      "overview                    8\n",
      "popularity                  0\n",
      "poster_path                 1\n",
      "production_companies      156\n",
      "production_countries       55\n",
      "release_date                0\n",
      "runtime                     2\n",
      "spoken_languages           20\n",
      "status                      0\n",
      "tagline                   597\n",
      "title                       0\n",
      "Keywords                  276\n",
      "cast                       13\n",
      "crew                       16\n",
      "revenue                     0\n",
      "dtype: int64\n",
      "\n",
      "Test set missing values:\n",
      " id                          0\n",
      "belongs_to_collection    3521\n",
      "budget                      0\n",
      "genres                     16\n",
      "homepage                 2978\n",
      "imdb_id                     0\n",
      "original_language           0\n",
      "original_title              0\n",
      "overview                   14\n",
      "popularity                  0\n",
      "poster_path                 1\n",
      "production_companies      258\n",
      "production_countries      102\n",
      "release_date                1\n",
      "runtime                     4\n",
      "spoken_languages           42\n",
      "status                      2\n",
      "tagline                   863\n",
      "title                       3\n",
      "Keywords                  393\n",
      "cast                       13\n",
      "crew                       22\n",
      "dtype: int64\n"
     ]
    }
   ],
   "source": [
    "print(\"Training set missing values:\\n\", train.isna().sum())\n",
    "print(\"\\nTest set missing values:\\n\", test.isna().sum())"
   ]
  },
  {
   "cell_type": "code",
   "execution_count": null,
   "metadata": {},
   "outputs": [],
   "source": []
  },
  {
   "cell_type": "markdown",
   "metadata": {},
   "source": [
    "## Exploratory Data Analysis and Feature Engineering"
   ]
  },
  {
   "cell_type": "code",
   "execution_count": null,
   "metadata": {},
   "outputs": [],
   "source": []
  },
  {
   "cell_type": "markdown",
   "metadata": {},
   "source": [
    "### Revenue"
   ]
  },
  {
   "cell_type": "markdown",
   "metadata": {},
   "source": [
    "#### Univariate Analysis"
   ]
  },
  {
   "cell_type": "code",
   "execution_count": 7,
   "metadata": {},
   "outputs": [
    {
     "name": "stdout",
     "output_type": "stream",
     "text": [
      "Movies missing revenue: 0\n"
     ]
    }
   ],
   "source": [
    "print('Movies missing revenue:',train.revenue.isna().sum())"
   ]
  },
  {
   "cell_type": "code",
   "execution_count": 8,
   "metadata": {},
   "outputs": [
    {
     "data": {
      "image/png": "[encoded data removed]",
      "text/plain": [
       "<Figure size 720x432 with 3 Axes>"
      ]
     },
     "metadata": {},
     "output_type": "display_data"
    }
   ],
   "source": [
    "f, ax = plt.subplots(3, figsize=(10,6))\n",
    "\n",
    "sns.set(rc={'figure.figsize':(12,8)})\n",
    "sns.boxplot(x=train.revenue, ax = ax[0], color='indianred')\n",
    "ax[0].set_title(\"Box Plot of revenue variable\")\n",
    "sns.distplot(a=train.revenue, kde = False, ax = ax[1], color='indianred', hist_kws=dict(alpha=1))\n",
    "ax[1].set_title(\"Histogram of revenue variable\")\n",
    "sns.distplot(a=np.log1p(train.revenue), kde = False, ax = ax[2], color='indianred', hist_kws=dict(alpha=1))\n",
    "ax[2].set_title(\"Log1p transformed revenue Histogram\")\n",
    "f.tight_layout()\n",
    "\n"
   ]
  },
  {
   "cell_type": "code",
   "execution_count": 9,
   "metadata": {},
   "outputs": [],
   "source": [
    "train['log_revenue'] = np.log1p(train['revenue'])"
   ]
  },
  {
   "cell_type": "markdown",
   "metadata": {},
   "source": [
    "### Belongs to Collection "
   ]
  },
  {
   "cell_type": "code",
   "execution_count": 10,
   "metadata": {
    "scrolled": false
   },
   "outputs": [],
   "source": [
    "# here is a quick line to sort out the collection stuff\n",
    "train.belongs_to_collection = train.belongs_to_collection.apply(lambda x: 1 if type(x) == str else 0)"
   ]
  },
  {
   "cell_type": "code",
   "execution_count": 11,
   "metadata": {
    "scrolled": true
   },
   "outputs": [
    {
     "name": "stdout",
     "output_type": "stream",
     "text": [
      "0    2396\n",
      "1     604\n",
      "Name: belongs_to_collection, dtype: int64\n"
     ]
    }
   ],
   "source": [
    "print(train.belongs_to_collection.value_counts())"
   ]
  },
  {
   "cell_type": "markdown",
   "metadata": {},
   "source": [
    "### Univariate Analysis"
   ]
  },
  {
   "cell_type": "code",
   "execution_count": 12,
   "metadata": {
    "scrolled": false
   },
   "outputs": [
    {
     "data": {
      "text/plain": [
       "<matplotlib.legend.Legend at 0x7fe5fddd7690>"
      ]
     },
     "execution_count": 12,
     "metadata": {},
     "output_type": "execute_result"
    },
    {
     "data": {
      "image/png": "[encoded data removed]",
      "text/plain": [
       "<Figure size 864x576 with 1 Axes>"
      ]
     },
     "metadata": {},
     "output_type": "display_data"
    }
   ],
   "source": [
    "# plotting belongs to collection data\n",
    "labels = 'Belongs to Collection', 'Not in Collection'\n",
    "btc_1 = [sum(train.belongs_to_collection), (train.belongs_to_collection == 0).sum(axis=0)]\n",
    "explode = (0.1, 0)\n",
    "\n",
    "colors = ['mediumorchid', 'darkmagenta']\n",
    "\n",
    "# plot\n",
    "fig, ax = plt.subplots()\n",
    "ax.pie(btc_1, explode=explode, autopct='%1.1f%%', shadow=True, startangle=90, colors=colors, textprops={'color':\"w\", 'fontsize': 22, 'weight':\"bold\"})\n",
    "ax.axis('equal') # ensures chart is a circle\n",
    "\n",
    "ax.legend(labels,\n",
    "          title=\"Legend\",\n",
    "          loc=\"center left\",\n",
    "          fontsize=14,\n",
    "          bbox_to_anchor=(0.8, 0.25, 0.5, 1))\n"
   ]
  },
  {
   "cell_type": "markdown",
   "metadata": {},
   "source": [
    "From a total of 3000 data points, 604 or 20.1% were a part of a collection of films, while the other 2396 or 79.9% were not. Belonging to a collection has the potential to be an important feature when predicting revenue as customers may be more likely to pay for a movie-going experience when it is the next iteration of a series into which they have already invested time and money. The origin of serial media is largely accredited to The Pickwick Papers, written by Charles Dickens in 1836, and has since boomed all the way into the 21st century. Given the current and historic popularity of the format, it is hypothesized that belonging to a collection will indicate a positive correlation with revenue."
   ]
  },
  {
   "cell_type": "code",
   "execution_count": 13,
   "metadata": {
    "scrolled": false
   },
   "outputs": [
    {
     "data": {
      "text/plain": [
       "id                          0\n",
       "belongs_to_collection       0\n",
       "budget                      0\n",
       "genres                      7\n",
       "homepage                 2054\n",
       "imdb_id                     0\n",
       "original_language           0\n",
       "original_title              0\n",
       "overview                    8\n",
       "popularity                  0\n",
       "poster_path                 1\n",
       "production_companies      156\n",
       "production_countries       55\n",
       "release_date                0\n",
       "runtime                     2\n",
       "spoken_languages           20\n",
       "status                      0\n",
       "tagline                   597\n",
       "title                       0\n",
       "Keywords                  276\n",
       "cast                       13\n",
       "crew                       16\n",
       "revenue                     0\n",
       "log_revenue                 0\n",
       "dtype: int64"
      ]
     },
     "execution_count": 13,
     "metadata": {},
     "output_type": "execute_result"
    }
   ],
   "source": [
    "train.isna().sum()"
   ]
  },
  {
   "cell_type": "markdown",
   "metadata": {},
   "source": [
    "#### Bivariate Analysis"
   ]
  },
  {
   "cell_type": "code",
   "execution_count": 14,
   "metadata": {
    "scrolled": false
   },
   "outputs": [
    {
     "name": "stdout",
     "output_type": "stream",
     "text": [
      "0    2396\n",
      "1     604\n",
      "Name: belongs_to_collection, dtype: int64\n"
     ]
    },
    {
     "data": {
      "text/plain": [
       "[Text(0, 0, 'Not in Collection'), Text(0, 0, 'Belongs to Collection')]"
      ]
     },
     "execution_count": 14,
     "metadata": {},
     "output_type": "execute_result"
    },
    {
     "data": {
      "image/png": "[encoded data removed]",
      "text/plain": [
       "<Figure size 864x432 with 1 Axes>"
      ]
     },
     "metadata": {},
     "output_type": "display_data"
    }
   ],
   "source": [
    "# bivariate analysis of revenue with belongs_to_collection\n",
    "print(train['belongs_to_collection'].value_counts())\n",
    "\n",
    "labels = 'Not in Collection', 'Belongs to Collection'\n",
    "\n",
    "pal1 = ['darkmagenta', 'mediumorchid']\n",
    "\n",
    "fig, ax = plt.subplots(figsize=(12, 6))\n",
    "sns.boxplot(x='belongs_to_collection', y='revenue', data=train, palette=pal1)\n",
    "plt.title('Films by Revenue Based on belongs_to_collection Status')\n",
    "plt.ylabel(\"Revenue\")\n",
    "plt.xlabel(\"Collection Status\")\n",
    "\n",
    "ax.set_xticklabels(labels)"
   ]
  },
  {
   "cell_type": "markdown",
   "metadata": {},
   "source": [
    "The graph above supports the hypothesis that belonging to a collection enhances a film's revenue in a positive correlation. More work could be done to quantify the precise benefit associated with a film's status as 'Belongs in Collection.'"
   ]
  },
  {
   "cell_type": "code",
   "execution_count": 15,
   "metadata": {
    "scrolled": false
   },
   "outputs": [
    {
     "name": "stdout",
     "output_type": "stream",
     "text": [
      "Pearsons correlation between belongs_to_collection and revenue: 0.339\n",
      "Pearsons correlation between belongs_to_collection and revenue: 0.257\n"
     ]
    }
   ],
   "source": [
    "#analysis of correlation and create log feature\n",
    "corr, _ = pearsonr(train['belongs_to_collection'], train['revenue'])\n",
    "print('Pearsons correlation between belongs_to_collection and revenue: %.3f' % corr)\n",
    "corr, _ = pearsonr(np.log1p(train['belongs_to_collection']), np.log1p(train['revenue']))\n",
    "print('Pearsons correlation between belongs_to_collection and revenue: %.3f' % corr)"
   ]
  },
  {
   "cell_type": "markdown",
   "metadata": {},
   "source": [
    "### Budget"
   ]
  },
  {
   "cell_type": "markdown",
   "metadata": {},
   "source": [
    "#### Univariate Analysis"
   ]
  },
  {
   "cell_type": "code",
   "execution_count": 16,
   "metadata": {
    "scrolled": false
   },
   "outputs": [
    {
     "name": "stdout",
     "output_type": "stream",
     "text": [
      "Movies missing a budget: 0\n"
     ]
    }
   ],
   "source": [
    "print('Movies missing a budget:',train.budget.isna().sum())"
   ]
  },
  {
   "cell_type": "code",
   "execution_count": 17,
   "metadata": {
    "scrolled": true
   },
   "outputs": [
    {
     "data": {
      "image/png": "[encoded data removed]",
      "text/plain": [
       "<Figure size 720x432 with 3 Axes>"
      ]
     },
     "metadata": {},
     "output_type": "display_data"
    }
   ],
   "source": [
    "#plotting the data\n",
    "f, ax = plt.subplots(3, figsize=(10,6))\n",
    "\n",
    "sns.set(rc={'figure.figsize':(12,8)})\n",
    "sns.boxplot(x=train.budget, ax = ax[0], color='mediumaquamarine')\n",
    "ax[0].set_title(\"Box Plot of budget variable\")\n",
    "sns.distplot(a=train.budget, kde = False, ax = ax[1], color='mediumaquamarine', hist_kws=dict(alpha=1))\n",
    "ax[1].set_title(\"Histogram of budget variable\")\n",
    "sns.distplot(a=np.log1p(train.budget), kde = False, ax = ax[2], color='mediumaquamarine', hist_kws=dict(alpha=1))\n",
    "ax[2].set_title(\"Log1p transformed budget Histogram\")\n",
    "f.tight_layout()"
   ]
  },
  {
   "cell_type": "code",
   "execution_count": 18,
   "metadata": {
    "scrolled": false
   },
   "outputs": [
    {
     "name": "stdout",
     "output_type": "stream",
     "text": [
      "Movies with budget listed as 0:  812\n"
     ]
    }
   ],
   "source": [
    "print('Movies with budget listed as 0: ',(train.budget == 0).sum())"
   ]
  },
  {
   "cell_type": "markdown",
   "metadata": {},
   "source": [
    "The distribution on budget in the training set is heavily skewed, so we perform a log1p transform to make the distribution more normal. Additionally, while there are no movies missing a budget, there are over 800 movies in our training set that have a budget of 0. This is highly unlikely and every feature film has a budget, so it is likely that the films where the budget was not found were replaced with 0. For the sake of our model, we will replace these values with the median budget to reduce the skew."
   ]
  },
  {
   "cell_type": "code",
   "execution_count": 19,
   "metadata": {
    "scrolled": false
   },
   "outputs": [],
   "source": [
    "median = train.loc[train['budget']> 0, 'budget'].median()\n",
    "train[\"budget_processed\"] = train[\"budget\"].mask(train[\"budget\"] == 0, median)\n",
    "test[\"budget_processed\"] = train[\"budget\"].mask(train[\"budget\"] == 0, median)"
   ]
  },
  {
   "cell_type": "code",
   "execution_count": 20,
   "metadata": {
    "scrolled": true
   },
   "outputs": [
    {
     "data": {
      "image/png": "[encoded data removed]",
      "text/plain": [
       "<Figure size 720x432 with 3 Axes>"
      ]
     },
     "metadata": {},
     "output_type": "display_data"
    }
   ],
   "source": [
    "#plotting the data\n",
    "f, ax = plt.subplots(3, figsize=(10,6))\n",
    "\n",
    "sns.set(rc={'figure.figsize':(12,8)})\n",
    "sns.boxplot(x=train.budget_processed, ax = ax[0], color='mediumaquamarine')\n",
    "ax[0].set_title(\"Box Plot of budget_processed variable\")\n",
    "sns.distplot(a=train.budget_processed, kde = False, ax = ax[1], color='mediumaquamarine', hist_kws=dict(alpha=1))\n",
    "ax[1].set_title(\"Histogram of budget_processed variable\")\n",
    "sns.distplot(a=np.log1p(train.budget), kde = False, ax = ax[2], color='mediumaquamarine', hist_kws=dict(alpha=1))\n",
    "ax[2].set_title(\"Log1p transformed budget_processed Histogram\")\n",
    "f.tight_layout()\n"
   ]
  },
  {
   "cell_type": "code",
   "execution_count": null,
   "metadata": {},
   "outputs": [],
   "source": []
  },
  {
   "cell_type": "markdown",
   "metadata": {},
   "source": [
    "#### Bivariate Analysis"
   ]
  },
  {
   "cell_type": "code",
   "execution_count": 21,
   "metadata": {
    "scrolled": true
   },
   "outputs": [
    {
     "data": {
      "image/png": "[encoded data removed]",
      "text/plain": [
       "<Figure size 1152x576 with 2 Axes>"
      ]
     },
     "metadata": {},
     "output_type": "display_data"
    }
   ],
   "source": [
    "plt.figure(figsize=(16, 8))\n",
    "plt.subplot(1, 2, 1)\n",
    "plt.scatter(train['budget_processed'], train['revenue'], color='mediumaquamarine')\n",
    "plt.title('Revenue vs budget_processed');\n",
    "plt.subplot(1, 2, 2)\n",
    "plt.scatter(np.log1p(train['budget_processed']), np.log1p(train['revenue']), color='mediumaquamarine')\n",
    "plt.title('Log Revenue vs log budget_processed');"
   ]
  },
  {
   "cell_type": "code",
   "execution_count": 22,
   "metadata": {
    "scrolled": false
   },
   "outputs": [
    {
     "name": "stdout",
     "output_type": "stream",
     "text": [
      "Pearsons correlation between budget_processed and revenue: 0.747\n",
      "Pearsons correlation between log budget_processed and log revenue: 0.455\n"
     ]
    }
   ],
   "source": [
    "#analysis of correlation and create log feature probably\n",
    "corr, _ = pearsonr(train['budget_processed'], train['revenue'])\n",
    "print('Pearsons correlation between budget_processed and revenue: %.3f' % corr)\n",
    "corr, _ = pearsonr(np.log1p(train['budget_processed']), np.log1p(train['revenue']))\n",
    "print('Pearsons correlation between log budget_processed and log revenue: %.3f' % corr)"
   ]
  },
  {
   "cell_type": "code",
   "execution_count": null,
   "metadata": {},
   "outputs": [],
   "source": []
  },
  {
   "cell_type": "markdown",
   "metadata": {},
   "source": [
    "### Genres"
   ]
  },
  {
   "cell_type": "markdown",
   "metadata": {},
   "source": [
    "#### Pre-processing"
   ]
  },
  {
   "cell_type": "code",
   "execution_count": 23,
   "metadata": {},
   "outputs": [],
   "source": [
    "train['genres'] = train['genres'].fillna('')\n",
    "train['genres_reform'] = train['genres'].apply(lambda x:re.findall(\"'name': \\'(.+?)\\'\", x))\n",
    "\n",
    "test['genres'] = test['genres'].fillna('')\n",
    "test['genres_reform'] = test['genres'].apply(lambda x:re.findall(\"'name': \\'(.+?)\\'\", x))"
   ]
  },
  {
   "cell_type": "code",
   "execution_count": 24,
   "metadata": {},
   "outputs": [],
   "source": [
    "df = train.copy(deep=True)"
   ]
  },
  {
   "cell_type": "code",
   "execution_count": 25,
   "metadata": {
    "scrolled": false
   },
   "outputs": [],
   "source": [
    "def unpackCol(list, df):\n",
    "    for i in range(len(df)):\n",
    "        for name in list[i]:\n",
    "            if name not in df.columns:\n",
    "                df[name] = 0\n",
    "            df[name][i] = 1\n",
    "    return df"
   ]
  },
  {
   "cell_type": "code",
   "execution_count": 26,
   "metadata": {
    "scrolled": true
   },
   "outputs": [
    {
     "name": "stdout",
     "output_type": "stream",
     "text": [
      "Index(['id', 'belongs_to_collection', 'budget', 'genres', 'homepage',\n",
      "       'imdb_id', 'original_language', 'original_title', 'overview',\n",
      "       'popularity', 'poster_path', 'production_companies',\n",
      "       'production_countries', 'release_date', 'runtime', 'spoken_languages',\n",
      "       'status', 'tagline', 'title', 'Keywords', 'cast', 'crew', 'revenue',\n",
      "       'log_revenue', 'budget_processed', 'genres_reform', 'Comedy', 'Drama',\n",
      "       'Family', 'Romance', 'Thriller', 'Action', 'Animation', 'Adventure',\n",
      "       'Horror', 'Documentary', 'Music', 'Crime', 'Science Fiction', 'Mystery',\n",
      "       'Foreign', 'Fantasy', 'War', 'Western', 'History', 'TV Movie'],\n",
      "      dtype='object')\n",
      "\n",
      "0       0\n",
      "1       1\n",
      "2       1\n",
      "3       1\n",
      "4       0\n",
      "       ..\n",
      "2995    0\n",
      "2996    1\n",
      "2997    0\n",
      "2998    0\n",
      "2999    0\n",
      "Name: Drama, Length: 3000, dtype: int64\n",
      "\n",
      "Total number of Dramas:  1531\n"
     ]
    }
   ],
   "source": [
    "# example of using it to unpack the genres \n",
    "df = unpackCol(df['genres_reform'], df)\n",
    "\n",
    "# here's what it did\n",
    "print(df.columns)\n",
    "print()\n",
    "print(df['Drama'])\n",
    "print()\n",
    "print('Total number of Dramas: ', sum(df['Drama']))"
   ]
  },
  {
   "cell_type": "code",
   "execution_count": 27,
   "metadata": {},
   "outputs": [
    {
     "data": {
      "text/plain": [
       "2    972\n",
       "3    900\n",
       "1    593\n",
       "4    393\n",
       "5    111\n",
       "6     21\n",
       "0      7\n",
       "7      3\n",
       "Name: num_genres, dtype: int64"
      ]
     },
     "execution_count": 27,
     "metadata": {},
     "output_type": "execute_result"
    }
   ],
   "source": [
    "# new feature for a count of the number of genres\n",
    "train['num_genres'] = train.genres_reform.apply(lambda x: len(x))\n",
    "test['num_genres'] = test.genres_reform.apply(lambda x: len(x))\n",
    "\n",
    "train['num_genres'].value_counts()"
   ]
  },
  {
   "cell_type": "markdown",
   "metadata": {},
   "source": [
    "#### Univariate Analysis"
   ]
  },
  {
   "cell_type": "code",
   "execution_count": 28,
   "metadata": {
    "scrolled": false
   },
   "outputs": [
    {
     "data": {
      "text/plain": [
       "Text(0.5, 0, 'Genre')"
      ]
     },
     "execution_count": 28,
     "metadata": {},
     "output_type": "execute_result"
    },
    {
     "data": {
      "image/png": "[encoded data removed]",
      "text/plain": [
       "<Figure size 864x432 with 1 Axes>"
      ]
     },
     "metadata": {},
     "output_type": "display_data"
    }
   ],
   "source": [
    "# plotting genres in order of number of instances in the df.csv dataset\n",
    "genresDict = dict()\n",
    "\n",
    "for genre in df[\"genres_reform\"]:\n",
    "    for elem in genre:\n",
    "        if elem not in genresDict:\n",
    "            genresDict[elem] = 1\n",
    "        else:\n",
    "            genresDict[elem] += 1\n",
    "\n",
    "\n",
    "sns.set(rc={'figure.figsize':(12,6)})\n",
    "genres_df = pd.DataFrame.from_dict(genresDict, orient='index')\n",
    "genres_df.columns = [\"number_of_movies\"]\n",
    "genres_df = genres_df.sort_values(by=\"number_of_movies\", ascending=False)\n",
    "genres_df.plot.bar(color='royalblue')\n",
    "plt.title(\"Number of films per genre\")\n",
    "plt.ylabel(\"Number of Films\")\n",
    "plt.xlabel(\"Genre\")"
   ]
  },
  {
   "cell_type": "markdown",
   "metadata": {},
   "source": [
    "Genres of movies follow certain trends in popularity; such as the latest boom of superhero movies originating in the 1990s with 20th Century Fox's X-Men series. Although superhero films have been around since at least 1978 with Richard Donner's Superman, the recent trend has helped define the film industry over the past two decades. For the purposes of this report, Action/Adventure films (and Fantasy) encompass superhero films, but also many other types of popular films subgenres.\n",
    "\n",
    "Action and Adventure do relatively well in terms of number of films, so it could be hypothesized that more common genres are more popular, meaning that Drama, Comedy, and Thriller movies should see the highest respective revenues. Regardless, the importance of genre for determining the revenue of a film (and likewise predicting future success) will be highly useful given the sometimes nebulous patterns of viewership. "
   ]
  },
  {
   "cell_type": "code",
   "execution_count": 29,
   "metadata": {
    "scrolled": false
   },
   "outputs": [
    {
     "name": "stdout",
     "output_type": "stream",
     "text": [
      "1531\n",
      "1028\n",
      "789\n",
      "741\n",
      "571\n",
      "469\n",
      "439\n",
      "301\n",
      "290\n",
      "260\n",
      "232\n",
      "225\n",
      "141\n",
      "132\n",
      "100\n",
      "100\n",
      "87\n",
      "43\n",
      "31\n",
      "1\n"
     ]
    }
   ],
   "source": [
    "# list of film genres by order of number of films in set\n",
    "print(df['Drama'].sum())\n",
    "print(df['Comedy'].sum())\n",
    "print(df['Thriller'].sum())\n",
    "print(df['Action'].sum())\n",
    "print(df['Romance'].sum())\n",
    "print(df['Crime'].sum())\n",
    "print(df['Adventure'].sum())\n",
    "print(df['Horror'].sum())\n",
    "print(df['Science Fiction'].sum())\n",
    "print(df['Family'].sum())\n",
    "print(df['Fantasy'].sum())\n",
    "print(df['Mystery'].sum())\n",
    "print(df['Animation'].sum())\n",
    "print(df['History'].sum())\n",
    "print(df['War'].sum())\n",
    "print(df['Music'].sum())\n",
    "print(df['Documentary'].sum())\n",
    "print(df['Western'].sum())\n",
    "print(df['Foreign'].sum())\n",
    "print(df['TV Movie'].sum())"
   ]
  },
  {
   "cell_type": "markdown",
   "metadata": {},
   "source": [
    "In the case of genres, we see a near logarithmic function from Drama (1531 films) to TV Movies (1). It is assumed that this dataset is representative of broader filmography trends for the purposes of constructing hypotheses about the data. The more popular genres should typically see a likewise correlation in revenue given the increased popularity. However, it is worth considering the unique attraction of 'rare genre' films. Musicals like La La Land grossed S446.1 million for its Box Office total and did so with only a $30 million budget. Therefore, the possibility for outliers or even inverse hypotheses are worth considering."
   ]
  },
  {
   "cell_type": "markdown",
   "metadata": {},
   "source": [
    "#### Bivariate Analysis"
   ]
  },
  {
   "cell_type": "code",
   "execution_count": 30,
   "metadata": {
    "scrolled": false
   },
   "outputs": [
    {
     "data": {
      "text/html": [
       "<div>\n",
       "<style scoped>\n",
       "    .dataframe tbody tr th:only-of-type {\n",
       "        vertical-align: middle;\n",
       "    }\n",
       "\n",
       "    .dataframe tbody tr th {\n",
       "        vertical-align: top;\n",
       "    }\n",
       "\n",
       "    .dataframe thead th {\n",
       "        text-align: right;\n",
       "    }\n",
       "</style>\n",
       "<table border=\"1\" class=\"dataframe\">\n",
       "  <thead>\n",
       "    <tr style=\"text-align: right;\">\n",
       "      <th></th>\n",
       "      <th>number_of_movies</th>\n",
       "      <th>median_rev</th>\n",
       "      <th>mean_rev</th>\n",
       "    </tr>\n",
       "  </thead>\n",
       "  <tbody>\n",
       "    <tr>\n",
       "      <th>Drama</th>\n",
       "      <td>1531</td>\n",
       "      <td>11293663.0</td>\n",
       "      <td>4.540607e+07</td>\n",
       "    </tr>\n",
       "    <tr>\n",
       "      <th>Comedy</th>\n",
       "      <td>1028</td>\n",
       "      <td>18809184.0</td>\n",
       "      <td>6.087574e+07</td>\n",
       "    </tr>\n",
       "    <tr>\n",
       "      <th>Thriller</th>\n",
       "      <td>789</td>\n",
       "      <td>21890845.0</td>\n",
       "      <td>6.833664e+07</td>\n",
       "    </tr>\n",
       "    <tr>\n",
       "      <th>Action</th>\n",
       "      <td>741</td>\n",
       "      <td>36000000.0</td>\n",
       "      <td>1.110434e+08</td>\n",
       "    </tr>\n",
       "    <tr>\n",
       "      <th>Romance</th>\n",
       "      <td>571</td>\n",
       "      <td>14016568.0</td>\n",
       "      <td>5.270501e+07</td>\n",
       "    </tr>\n",
       "    <tr>\n",
       "      <th>Crime</th>\n",
       "      <td>469</td>\n",
       "      <td>24048000.0</td>\n",
       "      <td>5.949128e+07</td>\n",
       "    </tr>\n",
       "    <tr>\n",
       "      <th>Adventure</th>\n",
       "      <td>439</td>\n",
       "      <td>59700000.0</td>\n",
       "      <td>1.758095e+08</td>\n",
       "    </tr>\n",
       "    <tr>\n",
       "      <th>Horror</th>\n",
       "      <td>301</td>\n",
       "      <td>17037887.0</td>\n",
       "      <td>5.270907e+07</td>\n",
       "    </tr>\n",
       "    <tr>\n",
       "      <th>Science Fiction</th>\n",
       "      <td>290</td>\n",
       "      <td>35109301.5</td>\n",
       "      <td>1.223672e+08</td>\n",
       "    </tr>\n",
       "    <tr>\n",
       "      <th>Family</th>\n",
       "      <td>260</td>\n",
       "      <td>57470029.5</td>\n",
       "      <td>1.388978e+08</td>\n",
       "    </tr>\n",
       "  </tbody>\n",
       "</table>\n",
       "</div>"
      ],
      "text/plain": [
       "                 number_of_movies  median_rev      mean_rev\n",
       "Drama                        1531  11293663.0  4.540607e+07\n",
       "Comedy                       1028  18809184.0  6.087574e+07\n",
       "Thriller                      789  21890845.0  6.833664e+07\n",
       "Action                        741  36000000.0  1.110434e+08\n",
       "Romance                       571  14016568.0  5.270501e+07\n",
       "Crime                         469  24048000.0  5.949128e+07\n",
       "Adventure                     439  59700000.0  1.758095e+08\n",
       "Horror                        301  17037887.0  5.270907e+07\n",
       "Science Fiction               290  35109301.5  1.223672e+08\n",
       "Family                        260  57470029.5  1.388978e+08"
      ]
     },
     "execution_count": 30,
     "metadata": {},
     "output_type": "execute_result"
    }
   ],
   "source": [
    "# bivariate analysis of revenue with genre\n",
    "# creating a callable index for genres\n",
    "genres_df.index.values\n",
    "for g in genres_df.index.values:\n",
    "    df[g] = df['genres_reform'].apply(lambda x: 1 if g in x else 0)\n",
    "\n",
    "# median revenue per genre type\n",
    "for i, g in enumerate(genres_df.index.values):\n",
    "    genres_df.loc[g, \"median_rev\"] = df[df[g]==1].revenue.median()\n",
    "    \n",
    "genres_df.sort_values(by=[\"number_of_movies\", \"median_rev\"], ascending=False).head(10)\n",
    "\n",
    "# mean revenue for genre type\n",
    "for i, g in enumerate(genres_df.index.values):\n",
    "    genres_df.loc[g, \"mean_rev\"] = df[df[g]==1].revenue.mean()\n",
    "\n",
    "genres_df.sort_values(by=[\"number_of_movies\", \"mean_rev\"], ascending=False).head(10)"
   ]
  },
  {
   "cell_type": "code",
   "execution_count": 31,
   "metadata": {
    "scrolled": false
   },
   "outputs": [
    {
     "data": {
      "text/plain": [
       "Text(0.5, 0, 'Genre')"
      ]
     },
     "execution_count": 31,
     "metadata": {},
     "output_type": "execute_result"
    },
    {
     "data": {
      "image/png": "[encoded data removed]",
      "text/plain": [
       "<Figure size 864x432 with 1 Axes>"
      ]
     },
     "metadata": {},
     "output_type": "display_data"
    }
   ],
   "source": [
    "# genres by median revenue\n",
    "genres_df.sort_values(by=[\"median_rev\"], ascending=False).median_rev.plot.bar(color='royalblue')\n",
    "plt.title(\"Film Genre by Median Revenue\")\n",
    "plt.ylabel(\"Revenue\")\n",
    "plt.xlabel(\"Genre\")"
   ]
  },
  {
   "cell_type": "code",
   "execution_count": 32,
   "metadata": {
    "scrolled": false
   },
   "outputs": [
    {
     "data": {
      "text/plain": [
       "Text(0.5, 0, 'Genre')"
      ]
     },
     "execution_count": 32,
     "metadata": {},
     "output_type": "execute_result"
    },
    {
     "data": {
      "image/png": "[encoded data removed]",
      "text/plain": [
       "<Figure size 864x432 with 1 Axes>"
      ]
     },
     "metadata": {},
     "output_type": "display_data"
    }
   ],
   "source": [
    "# genres by mean revenue\n",
    "genres_df.sort_values(by=[\"mean_rev\"], ascending=False).mean_rev.plot.bar(color='royalblue')\n",
    "plt.title(\"Film Genre by Mean Revenue\")\n",
    "plt.ylabel(\"Revenue\")\n",
    "plt.xlabel(\"Genre\")"
   ]
  },
  {
   "cell_type": "markdown",
   "metadata": {},
   "source": [
    "In both 'Film Genre by Median Revenue' and 'Film Genre by Mean Revenue' Adventure films have the highest revenue values, with fairly consistent ordering down save a few notable changes. For example, using 'median_rev' the TV Movie genre scores fourth highest revenue, while using 'mean_rev' lowers the genre to fourth lowest revenue. History loses five places from 'median_rev' to 'mean_rev' and Comedy goes up three.\n",
    "\n",
    "Although some common film genres (those with higher numbers of films in the training data) do well with regards to revenue, the overall hypothesis that commonality of a film would correlate positively to revenue is disproven with the relatively lower revenues for Dramas, Comedies, and Thrillers (the top three most numerous film genres). This could be a result of saturated genre demand, or it could be unrelated. What is certain is that Adventure, Family, Fantasy, and Animation score well with regards to median and mean revenue."
   ]
  },
  {
   "cell_type": "code",
   "execution_count": 33,
   "metadata": {},
   "outputs": [
    {
     "data": {
      "text/plain": [
       "<matplotlib.axes._subplots.AxesSubplot at 0x7fe5e6ec6110>"
      ]
     },
     "execution_count": 33,
     "metadata": {},
     "output_type": "execute_result"
    },
    {
     "data": {
      "image/png": "[encoded data removed]",
      "text/plain": [
       "<Figure size 864x432 with 1 Axes>"
      ]
     },
     "metadata": {},
     "output_type": "display_data"
    }
   ],
   "source": [
    "topGenreDict = {}\n",
    "for element in train[[\"revenue\", \"genres_reform\"]].values:\n",
    "   # compare results when looking at top genre\n",
    "    temp = 1\n",
    "    if len(element[1]) < temp:\n",
    "        temp = len(element[1])\n",
    "    for i in range(temp):\n",
    "        if element[1][i] not in topGenreDict:\n",
    "            topGenreDict[element[1][i]] = [element[0], 1]\n",
    "        else:\n",
    "            topGenreDict[element[1][i]][0] += element[0]\n",
    "            topGenreDict[element[1][i]][1] += 1    \n",
    "\n",
    "for genre in topGenreDict:\n",
    "    topGenreDict[genre][0] = topGenreDict[genre][0]/topGenreDict[genre][1]\n",
    "    topGenreDict[genre] = topGenreDict[genre][0]\n",
    "\n",
    "\n",
    "    \n",
    "    \n",
    "genres_df = pd.DataFrame.from_dict(topGenreDict, orient='index', columns=[\"mean_movies_revenue\"])\n",
    "genres_df.sort_values(by=\"mean_movies_revenue\", ascending=False).head(25).plot.bar(color='royalblue')"
   ]
  },
  {
   "cell_type": "code",
   "execution_count": 34,
   "metadata": {
    "scrolled": true
   },
   "outputs": [
    {
     "name": "stdout",
     "output_type": "stream",
     "text": [
      "{'Foreign': 140650.0, 'Documentary': 3538249.971830986, 'War': 24388514.85, 'Music': 33890384.55, 'Drama': 37298750.1133758, 'Crime': 40820052.02040816, 'TV Movie': 42000000.0, 'History': 44237822.875, 'Mystery': 47674838.90909091, 'Comedy': 47754836.36092715, 'Horror': 49586852.62352941, 'Romance': 51648567.82089552, 'Thriller': 56574423.54310345, 'Western': 64905713.538461536, 'Fantasy': 82345105.41176471, 'Action': 93596599.80576923, 'Animation': 148089684.90789473, 'Family': 157347482.6111111, 'Science Fiction': 163833801.36585367, 'Adventure': 187715537.32085562}\n",
      "{'Drama': 1531, 'Comedy': 1028, 'Thriller': 789, 'Action': 741, 'Romance': 571, 'Crime': 469, 'Adventure': 439, 'Horror': 301, 'Science Fiction': 290, 'Family': 260, 'Fantasy': 232, 'Mystery': 225, 'Animation': 141, 'History': 132, 'Music': 100, 'War': 100, 'Documentary': 87, 'Western': 43, 'Foreign': 31, 'TV Movie': 1}\n"
     ]
    }
   ],
   "source": [
    "# Sort both of our dicts of studios and top studios to more easily access the 'most successful studios'\n",
    "topGenreDict = {k: v for k, v in sorted(topGenreDict.items(), key=lambda item: item[1], reverse = False)}\n",
    "genresDict = {k: v for k, v in sorted(genresDict.items(), key=lambda item: item[1], reverse = True)}\n",
    "print(topGenreDict)\n",
    "print(genresDict)"
   ]
  },
  {
   "cell_type": "code",
   "execution_count": 35,
   "metadata": {},
   "outputs": [
    {
     "data": {
      "text/plain": [
       "4     785\n",
       "9     604\n",
       "15    520\n",
       "19    187\n",
       "10    170\n",
       "5     147\n",
       "12    116\n",
       "16     76\n",
       "1      71\n",
       "14     68\n",
       "11     67\n",
       "18     41\n",
       "17     36\n",
       "8      33\n",
       "3      20\n",
       "2      20\n",
       "7      16\n",
       "13     13\n",
       "0       9\n",
       "6       1\n",
       "Name: genre_rank, dtype: int64"
      ]
     },
     "execution_count": 35,
     "metadata": {},
     "output_type": "execute_result"
    }
   ],
   "source": [
    "train['genre_rank'] = train['genres_reform'].apply(lambda x: list(topGenreDict.keys()).index(x[0]) if len(x) > 0 else 0)\n",
    "test['genre_rank'] = test['genres_reform'].apply(lambda x: list(topGenreDict.keys()).index(x[0]) if len(x) > 0 else 0)\n",
    "\n",
    "train['genre_rank'].value_counts()"
   ]
  },
  {
   "cell_type": "code",
   "execution_count": 36,
   "metadata": {},
   "outputs": [
    {
     "name": "stdout",
     "output_type": "stream",
     "text": [
      "Pearsons correlation between genre_rank and revenue: 0.283\n",
      "Pearsons correlation between genre_rank and revenue: 0.266\n"
     ]
    }
   ],
   "source": [
    "#analysis of correlation and create log feature\n",
    "corr, _ = pearsonr(train['genre_rank'], train['revenue'])\n",
    "print('Pearsons correlation between genre_rank and revenue: %.3f' % corr)\n",
    "corr, _ = pearsonr(np.log1p(train['genre_rank']), np.log1p(train['revenue']))\n",
    "print('Pearsons correlation between genre_rank and revenue: %.3f' % corr)"
   ]
  },
  {
   "cell_type": "code",
   "execution_count": 37,
   "metadata": {
    "scrolled": false
   },
   "outputs": [
    {
     "name": "stdout",
     "output_type": "stream",
     "text": [
      "Pearsons correlation between num_genres and revenue: 0.164\n",
      "Pearsons correlation between num_genres and revenue: 0.191\n"
     ]
    }
   ],
   "source": [
    "#analysis of correlation and create log feature\n",
    "corr, _ = pearsonr(train['num_genres'], train['revenue'])\n",
    "print('Pearsons correlation between num_genres and revenue: %.3f' % corr)\n",
    "corr, _ = pearsonr(np.log1p(train['num_genres']), np.log1p(train['revenue']))\n",
    "print('Pearsons correlation between num_genres and revenue: %.3f' % corr)"
   ]
  },
  {
   "cell_type": "markdown",
   "metadata": {},
   "source": [
    "### Homepage"
   ]
  },
  {
   "cell_type": "markdown",
   "metadata": {},
   "source": [
    "#### Univariate Analysis"
   ]
  },
  {
   "cell_type": "code",
   "execution_count": 38,
   "metadata": {
    "scrolled": false
   },
   "outputs": [
    {
     "name": "stdout",
     "output_type": "stream",
     "text": [
      "Movies missing a homepage: 2054\n"
     ]
    }
   ],
   "source": [
    "#homepage\n",
    "print('Movies missing a homepage:',train.homepage.isna().sum())"
   ]
  },
  {
   "cell_type": "markdown",
   "metadata": {},
   "source": [
    "Since the homepage itself is very unique and specific to each particular film, it not of much use to us and we will not be analyzing the content of the homepage for this project. Instead, we will create a new column representing whether a move has a homepage or not."
   ]
  },
  {
   "cell_type": "code",
   "execution_count": 39,
   "metadata": {
    "scrolled": false
   },
   "outputs": [
    {
     "data": {
      "text/plain": [
       "0    2054\n",
       "1     946\n",
       "Name: has_homepage, dtype: int64"
      ]
     },
     "execution_count": 39,
     "metadata": {},
     "output_type": "execute_result"
    }
   ],
   "source": [
    "#Creating new column\n",
    "train['has_homepage'] = train.homepage.apply(lambda x: 0 if pd.isnull(x) else 1)\n",
    "train['has_homepage'].value_counts()"
   ]
  },
  {
   "cell_type": "code",
   "execution_count": 40,
   "metadata": {
    "scrolled": false
   },
   "outputs": [
    {
     "data": {
      "image/png": "[encoded data removed]",
      "text/plain": [
       "<Figure size 864x432 with 1 Axes>"
      ]
     },
     "metadata": {},
     "output_type": "display_data"
    }
   ],
   "source": [
    "# plotting 'has a homepage' data\n",
    "labels = 'Has a homepage', 'Does not have a homepage'\n",
    "btc_1 = [sum(train.has_homepage), (train.has_homepage == 0).sum(axis=0)]\n",
    "explode = (0.1, 0)\n",
    "\n",
    "colors = ['lightcoral', 'crimson']\n",
    "\n",
    "fig, ax = plt.subplots()\n",
    "ax.pie(btc_1, explode=explode, autopct='%1.1f%%', shadow=True, startangle=90, colors=colors, textprops={'color':\"w\", 'fontsize': 22, 'weight':\"bold\"})\n",
    "ax.axis('equal')\n",
    "\n",
    "ax.legend(labels,\n",
    "          title=\"Legend\",\n",
    "          loc=\"center left\",\n",
    "          fontsize=14,\n",
    "          bbox_to_anchor=(0.8, 0.25, 0.5, 1))\n",
    "\n",
    "plt.show()\n"
   ]
  },
  {
   "cell_type": "code",
   "execution_count": null,
   "metadata": {},
   "outputs": [],
   "source": []
  },
  {
   "cell_type": "markdown",
   "metadata": {},
   "source": [
    "#### Bivariate Analysis"
   ]
  },
  {
   "cell_type": "code",
   "execution_count": 41,
   "metadata": {
    "scrolled": false
   },
   "outputs": [
    {
     "data": {
      "text/plain": [
       "<seaborn.axisgrid.FacetGrid at 0x7fe5e700fd50>"
      ]
     },
     "execution_count": 41,
     "metadata": {},
     "output_type": "execute_result"
    },
    {
     "data": {
      "image/png": "[encoded data removed]",
      "text/plain": [
       "<Figure size 360x360 with 1 Axes>"
      ]
     },
     "metadata": {},
     "output_type": "display_data"
    }
   ],
   "source": [
    "pal1 = ['lightcoral', 'crimson']\n",
    "\n",
    "ax = sns.catplot(x='has_homepage', y='revenue', data=train, palette=pal1);\n",
    "plt.title('Revenue for films with and without a homepage');\n",
    "\n",
    "labels = 'Has a homepage', 'Does not have a homepage'\n",
    "ax.set_xticklabels(labels)"
   ]
  },
  {
   "cell_type": "code",
   "execution_count": 42,
   "metadata": {
    "scrolled": false
   },
   "outputs": [
    {
     "name": "stdout",
     "output_type": "stream",
     "text": [
      "Pearsons correlation between has_homepage and revenue: 0.263\n"
     ]
    }
   ],
   "source": [
    "#analysis of correlation and create log feature probably\n",
    "corr, _ = pearsonr(train['has_homepage'], train['revenue'])\n",
    "print('Pearsons correlation between has_homepage and revenue: %.3f' % corr)"
   ]
  },
  {
   "cell_type": "markdown",
   "metadata": {},
   "source": [
    "Although it is not very strong, we do still observe a positive correlation between the existence of a homepage for a film and the revenue"
   ]
  },
  {
   "cell_type": "code",
   "execution_count": null,
   "metadata": {},
   "outputs": [],
   "source": []
  },
  {
   "cell_type": "markdown",
   "metadata": {},
   "source": [
    "### IMDb ID"
   ]
  },
  {
   "cell_type": "code",
   "execution_count": 43,
   "metadata": {},
   "outputs": [],
   "source": [
    "## Nothing we need this id for, justify dropping it"
   ]
  },
  {
   "cell_type": "markdown",
   "metadata": {},
   "source": [
    "#### Univariate Analysis"
   ]
  },
  {
   "cell_type": "code",
   "execution_count": null,
   "metadata": {},
   "outputs": [],
   "source": []
  },
  {
   "cell_type": "markdown",
   "metadata": {},
   "source": [
    "#### Bivariate Analysis"
   ]
  },
  {
   "cell_type": "code",
   "execution_count": null,
   "metadata": {},
   "outputs": [],
   "source": []
  },
  {
   "cell_type": "markdown",
   "metadata": {},
   "source": [
    "### Original Language"
   ]
  },
  {
   "cell_type": "markdown",
   "metadata": {},
   "source": [
    "#### Univariate Analysis"
   ]
  },
  {
   "cell_type": "code",
   "execution_count": 44,
   "metadata": {
    "scrolled": true
   },
   "outputs": [
    {
     "name": "stdout",
     "output_type": "stream",
     "text": [
      "Counts of each original language:\n",
      "en    2575\n",
      "fr      78\n",
      "ru      47\n",
      "es      43\n",
      "hi      42\n",
      "ja      37\n",
      "it      24\n",
      "cn      20\n",
      "ko      20\n",
      "zh      19\n",
      "Name: original_language, dtype: int64\n"
     ]
    }
   ],
   "source": [
    "print(\"Counts of each original language:\")\n",
    "print(train['original_language'].value_counts()[:10])"
   ]
  },
  {
   "cell_type": "code",
   "execution_count": 45,
   "metadata": {
    "scrolled": false
   },
   "outputs": [
    {
     "data": {
      "text/plain": [
       "Text(0.5, 1, 'Revenue for a movie and its and original_language')"
      ]
     },
     "execution_count": 45,
     "metadata": {},
     "output_type": "execute_result"
    },
    {
     "data": {
      "image/png": "[encoded data removed]",
      "text/plain": [
       "<Figure size 360x360 with 1 Axes>"
      ]
     },
     "metadata": {},
     "output_type": "display_data"
    }
   ],
   "source": [
    "sns.catplot(x='original_language', y='revenue', color='sandybrown', data=train.loc[train['original_language'].isin(train['original_language'].value_counts().head(10).index)])\n",
    "plt.title('Revenue for a movie and its and original_language')"
   ]
  },
  {
   "cell_type": "markdown",
   "metadata": {},
   "source": [
    "Since 2575 of the 3000 movies in the training were originally released in English, and all other languages making up only a small portion of the movies, we will create a new dummy variable, simply specifying if the movie was released in english or not. It seems that it is not important what the specific other language is, but rather just that the movie is not english is most significant for our model. Additionally, the films that are in english reach mich higher revenues, so this may be a good feature to include."
   ]
  },
  {
   "cell_type": "code",
   "execution_count": 46,
   "metadata": {
    "scrolled": false
   },
   "outputs": [
    {
     "data": {
      "text/plain": [
       "1    2575\n",
       "0     425\n",
       "Name: in_english, dtype: int64"
      ]
     },
     "execution_count": 46,
     "metadata": {},
     "output_type": "execute_result"
    }
   ],
   "source": [
    "#Creating new feature\n",
    "train['in_english'] = train.original_language.apply(lambda x: 1 if x == 'en' else 0)\n",
    "train['in_english'].value_counts()"
   ]
  },
  {
   "cell_type": "code",
   "execution_count": 47,
   "metadata": {
    "scrolled": false
   },
   "outputs": [
    {
     "data": {
      "image/png": "[encoded data removed]",
      "text/plain": [
       "<Figure size 864x432 with 1 Axes>"
      ]
     },
     "metadata": {},
     "output_type": "display_data"
    }
   ],
   "source": [
    "# plotting original data\n",
    "labels = 'In English', 'Not in English'\n",
    "btc_1 = [sum(train.in_english), (train.in_english == 0).sum(axis=0)]\n",
    "explode = (0.1, 0)\n",
    "\n",
    "colors = ['sandybrown', 'peachpuff']\n",
    "\n",
    "fig, ax = plt.subplots()\n",
    "ax.pie(btc_1, explode=explode, autopct='%1.1f%%', shadow=True, startangle=90, colors=colors, textprops={'color':\"w\", 'fontsize': 22, 'weight':\"bold\"})\n",
    "ax.axis('equal') # ensures chart is a circle\n",
    "\n",
    "ax.legend(labels,\n",
    "          title=\"Legend\",\n",
    "          loc=\"center left\",\n",
    "          fontsize=14,\n",
    "          bbox_to_anchor=(0.8, 0.25, 0.5, 1))\n",
    "\n",
    "plt.show()\n"
   ]
  },
  {
   "cell_type": "markdown",
   "metadata": {},
   "source": [
    "#### Bivariate Analysis"
   ]
  },
  {
   "cell_type": "code",
   "execution_count": 48,
   "metadata": {
    "scrolled": true
   },
   "outputs": [
    {
     "data": {
      "text/plain": [
       "<seaborn.axisgrid.FacetGrid at 0x7fe5e6b8af10>"
      ]
     },
     "execution_count": 48,
     "metadata": {},
     "output_type": "execute_result"
    },
    {
     "data": {
      "image/png": "[encoded data removed]",
      "text/plain": [
       "<Figure size 360x360 with 1 Axes>"
      ]
     },
     "metadata": {},
     "output_type": "display_data"
    }
   ],
   "source": [
    "pal2 = ['peachpuff', 'sandybrown']\n",
    "\n",
    "ax = sns.catplot(x='in_english', y='revenue', data=train, palette=pal2);\n",
    "plt.title('Revenue for films orginally in english vs other languages');\n",
    "\n",
    "labels = 'Not in English', 'In English'\n",
    "ax.set_xticklabels(labels)"
   ]
  },
  {
   "cell_type": "code",
   "execution_count": 49,
   "metadata": {
    "scrolled": false
   },
   "outputs": [
    {
     "name": "stdout",
     "output_type": "stream",
     "text": [
      "Pearsons correlation between in_english and revenue: 0.142\n"
     ]
    }
   ],
   "source": [
    "#analysis of correlation and create log feature probably\n",
    "corr, _ = pearsonr(train['in_english'], train['revenue'])\n",
    "print('Pearsons correlation between in_english and revenue: %.3f' % corr)"
   ]
  },
  {
   "cell_type": "markdown",
   "metadata": {},
   "source": [
    "We can see there is a weak positive correlation between the films being in english and the revenue of the film. While the films in english reach miuch greater revenues overall, this may just be simply because there are a far greater number of films released in english.\n"
   ]
  },
  {
   "cell_type": "markdown",
   "metadata": {},
   "source": [
    "### Original Title"
   ]
  },
  {
   "cell_type": "code",
   "execution_count": 50,
   "metadata": {},
   "outputs": [],
   "source": [
    "## SO for this im thinking we just justify not using it since there \n",
    "## is no advantages to using original title compared to the other title column\n",
    "## if anything, we could do a dummy variable to see if the original title matches actual title, but that seems useless"
   ]
  },
  {
   "cell_type": "markdown",
   "metadata": {},
   "source": [
    "#### Univariate Analysis"
   ]
  },
  {
   "cell_type": "code",
   "execution_count": null,
   "metadata": {},
   "outputs": [],
   "source": []
  },
  {
   "cell_type": "markdown",
   "metadata": {},
   "source": [
    "#### Bivariate Analysis"
   ]
  },
  {
   "cell_type": "code",
   "execution_count": null,
   "metadata": {},
   "outputs": [],
   "source": []
  },
  {
   "cell_type": "markdown",
   "metadata": {},
   "source": [
    "### Overview"
   ]
  },
  {
   "cell_type": "markdown",
   "metadata": {},
   "source": [
    "#### Univariate Analysis"
   ]
  },
  {
   "cell_type": "code",
   "execution_count": 51,
   "metadata": {
    "scrolled": false
   },
   "outputs": [
    {
     "name": "stdout",
     "output_type": "stream",
     "text": [
      "Movies missing an overview: 8\n"
     ]
    }
   ],
   "source": [
    "#overview\n",
    "print('Movies missing an overview:',train.overview.isna().sum())"
   ]
  },
  {
   "cell_type": "markdown",
   "metadata": {},
   "source": [
    "We will first fill the films that are missing overviews with an empty string, then for the sake of our model we will ust be looking at the length of the overview. The content in the overview could be something that is interesting to analyze, but we will not be looking at it for the scope of this project."
   ]
  },
  {
   "cell_type": "code",
   "execution_count": 52,
   "metadata": {
    "scrolled": false
   },
   "outputs": [],
   "source": [
    "train.overview = train.overview.fillna(\"\")\n",
    "train['overview_len'] = train.overview.apply(len)\n",
    "test.overview = test.overview.fillna(\"\")\n",
    "test['overview_len'] = test.overview.apply(len)"
   ]
  },
  {
   "cell_type": "code",
   "execution_count": 53,
   "metadata": {
    "scrolled": true
   },
   "outputs": [
    {
     "data": {
      "image/png": "[encoded data removed]",
      "text/plain": [
       "<Figure size 720x432 with 3 Axes>"
      ]
     },
     "metadata": {},
     "output_type": "display_data"
    }
   ],
   "source": [
    "f, ax = plt.subplots(3, figsize=(10,6))\n",
    "\n",
    "sns.set(rc={'figure.figsize':(12,8)})\n",
    "sns.boxplot(x=train.overview_len, ax = ax[0], color='skyblue')\n",
    "ax[0].set_title(\"Box Plot of overview_len variable\")\n",
    "sns.distplot(a=train.overview_len, kde = False, ax = ax[1], color='skyblue', hist_kws=dict(alpha=1))\n",
    "ax[1].set_title(\"Histogram of overview_len variable\")\n",
    "sns.distplot(a=np.log1p(train.overview_len), kde = False, ax = ax[2], color='skyblue', hist_kws=dict(alpha=1))\n",
    "ax[2].set_title(\"Log1p transformed overview_len Histogram\")\n",
    "f.tight_layout()"
   ]
  },
  {
   "cell_type": "markdown",
   "metadata": {},
   "source": [
    "#### Bivariate Analysis"
   ]
  },
  {
   "cell_type": "code",
   "execution_count": 54,
   "metadata": {
    "scrolled": true
   },
   "outputs": [
    {
     "data": {
      "image/png": "[encoded data removed]",
      "text/plain": [
       "<Figure size 1152x576 with 2 Axes>"
      ]
     },
     "metadata": {},
     "output_type": "display_data"
    }
   ],
   "source": [
    "plt.figure(figsize=(16, 8))\n",
    "plt.subplot(1, 2, 1)\n",
    "plt.scatter(train['overview_len'], train['revenue'], color='skyblue')\n",
    "plt.title('Revenue vs overview_len');\n",
    "plt.subplot(1, 2, 2)\n",
    "plt.scatter(np.log1p(train['overview_len']), np.log1p(train['revenue']), color='skyblue')\n",
    "plt.title('Log Revenue vs log overview_len');"
   ]
  },
  {
   "cell_type": "code",
   "execution_count": 55,
   "metadata": {
    "scrolled": false
   },
   "outputs": [
    {
     "name": "stdout",
     "output_type": "stream",
     "text": [
      "Pearsons correlation: -0.005\n"
     ]
    }
   ],
   "source": [
    "# calculate Pearson's correlation\n",
    "corr, _ = pearsonr(train['overview_len'], train['revenue'])\n",
    "print('Pearsons correlation: %.3f' % corr)"
   ]
  },
  {
   "cell_type": "markdown",
   "metadata": {},
   "source": [
    "### Popularity"
   ]
  },
  {
   "cell_type": "markdown",
   "metadata": {},
   "source": [
    "#### Univariate Analysis"
   ]
  },
  {
   "cell_type": "code",
   "execution_count": 56,
   "metadata": {
    "scrolled": true
   },
   "outputs": [
    {
     "data": {
      "image/png": "[encoded data removed]",
      "text/plain": [
       "<Figure size 864x576 with 1 Axes>"
      ]
     },
     "metadata": {},
     "output_type": "display_data"
    }
   ],
   "source": [
    "# plotting popularity\n",
    "sns.distplot(train['popularity'], kde=True, color='goldenrod', hist_kws=dict(alpha=1))\n",
    "sns.set(rc={'figure.figsize':(12, 2)})\n",
    "plt.title('Histogram of Film Popularity')\n",
    "plt.show();"
   ]
  },
  {
   "cell_type": "code",
   "execution_count": 57,
   "metadata": {
    "scrolled": false
   },
   "outputs": [
    {
     "name": "stdout",
     "output_type": "stream",
     "text": [
      "count    3000.000000\n",
      "mean        8.463274\n",
      "std        12.104000\n",
      "min         0.000001\n",
      "25%         4.018053\n",
      "50%         7.374861\n",
      "75%        10.890983\n",
      "max       294.337037\n",
      "Name: popularity, dtype: float64\n"
     ]
    }
   ],
   "source": [
    "print(train['popularity'].describe())"
   ]
  },
  {
   "cell_type": "markdown",
   "metadata": {},
   "source": [
    "Popularity is likely to be a significant feature in prediting revenue outcome given the importance of popularity for movie viewership (this is of course contingent upon popularity refering to the 'hype' surrounding a film and not the post-release ratings - if the later than popularity should more directly map to revenue in theory). Because of the more popularity is a good thing for marketing, and thus increased ticket sales, it is hypothesized that popularity and revenue will have a positive correlation. \n",
    "\n",
    "Above it is seen that of the 3000 films in the dataset the average popularity was an 8.46 with a minimum of 0.00 and a max of 294.34. The histogram reveals that the bulk of the films fall between a popularity score of 0 and 25, with sparse highly popular outliers. Dealing with these outliers will be addressed later."
   ]
  },
  {
   "cell_type": "markdown",
   "metadata": {},
   "source": [
    "#### Bivariate Analysis"
   ]
  },
  {
   "cell_type": "code",
   "execution_count": 58,
   "metadata": {
    "scrolled": false
   },
   "outputs": [
    {
     "name": "stdout",
     "output_type": "stream",
     "text": [
      "Pearsons correlation between popularity and revenue: 0.461\n",
      "Pearsons correlation between popularity and revenue: 0.542\n"
     ]
    },
    {
     "data": {
      "image/png": "[encoded data removed]",
      "text/plain": [
       "<Figure size 864x432 with 1 Axes>"
      ]
     },
     "metadata": {},
     "output_type": "display_data"
    }
   ],
   "source": [
    "#analysis of correlation and create log feature\n",
    "corr, _ = pearsonr(train['popularity'], train['revenue'])\n",
    "print('Pearsons correlation between popularity and revenue: %.3f' % corr)\n",
    "corr, _ = pearsonr(np.log1p(train['popularity']), np.log1p(train['revenue']))\n",
    "print('Pearsons correlation between popularity and revenue: %.3f' % corr)# bivariate: plotting popularity and revenue\n",
    "sns.set(rc={'figure.figsize':(12, 6)})\n",
    "cx = train['revenue']\n",
    "pop = train['popularity']\n",
    "plt.plot(cx, pop, 'o', color='goldenrod')\n",
    "plt.ylabel(\"Revenue\")\n",
    "plt.xlabel(\"Popularity\")\n",
    "plt.title(\"Popularity of Films by Revenue\")\n",
    "\n",
    "z = np.polyfit(cx, pop, 1)\n",
    "p = np.poly1d(z)\n",
    "plt.plot(cx, p(cx), \"--\", color='khaki');\n"
   ]
  },
  {
   "cell_type": "code",
   "execution_count": 59,
   "metadata": {
    "scrolled": false
   },
   "outputs": [
    {
     "name": "stdout",
     "output_type": "stream",
     "text": [
      "Pearsons correlation between popularity and revenue: 0.461\n",
      "Pearsons correlation between log popularity and log revenue: 0.542\n"
     ]
    }
   ],
   "source": [
    "#analysis of correlation and create log feature\n",
    "corr, _ = pearsonr(train['popularity'], train['revenue'])\n",
    "print('Pearsons correlation between popularity and revenue: %.3f' % corr)\n",
    "corr, _ = pearsonr(np.log1p(train['popularity']), np.log1p(train['revenue']))\n",
    "print('Pearsons correlation between log popularity and log revenue: %.3f' % corr)"
   ]
  },
  {
   "cell_type": "markdown",
   "metadata": {},
   "source": [
    "In comparing popularity against revenue, there is an overall positive correlation. This is to be expected given the influence of popularity on a film's monetary success via more developed viewership. Further investigation should be conducted by playing around with the outlier values; notably, certain highly popular films do not see concurrently higher revenue, which leads to the conclusion that popularity is not a perfect indicator of a movie's revenue.\n",
    "\n",
    "However, because of the confusion regarding outliers and the scale around which this value is produced, the feature is lacking in clarity. More detrimentally, the popularity can only be judged after the film has been released, which means it is not useful to a film studio as a metric by which to predict box office totals. Instead, popularity could be used as another label (akin to the idea of predicting for a movie's \"rating\" as opposed to its \"revenue\"). Regardless, for the purposes of this project the popularity feature will not be included in the model."
   ]
  },
  {
   "cell_type": "code",
   "execution_count": null,
   "metadata": {},
   "outputs": [],
   "source": []
  },
  {
   "cell_type": "markdown",
   "metadata": {},
   "source": [
    "### Poster Path"
   ]
  },
  {
   "cell_type": "markdown",
   "metadata": {},
   "source": [
    "#### Univariate Analysis"
   ]
  },
  {
   "cell_type": "code",
   "execution_count": 60,
   "metadata": {
    "scrolled": true
   },
   "outputs": [
    {
     "name": "stdout",
     "output_type": "stream",
     "text": [
      "Movies missing a poster path: 1\n"
     ]
    }
   ],
   "source": [
    "#poster_path\n",
    "print('Movies missing a poster path:',train.poster_path.isna().sum())"
   ]
  },
  {
   "cell_type": "code",
   "execution_count": 61,
   "metadata": {},
   "outputs": [
    {
     "data": {
      "text/plain": [
       "0    /tQtWuwvMf0hCc2QR2tkolwl7c3c.jpg\n",
       "1    /w9Z7A0GHEhIp7etpj0vyKOeU1Wx.jpg\n",
       "2    /lIv1QinFqz4dlp5U4lQ6HaiskOZ.jpg\n",
       "3    /aTXRaPrWSinhcmCrcfJK17urp3F.jpg\n",
       "4    /m22s7zvkVFDU9ir56PiiqIEWFdT.jpg\n",
       "5    /6IDqA1D2NBIVhzEEaMMRL28iBrq.jpg\n",
       "6    /4QjzFuaZmB4btGnLwAgdp23BzIU.jpg\n",
       "7    /83BV8fGy5p9i8RwE9oj76tZ1Ikp.jpg\n",
       "8    /5A8gKzOrF9Z7tSUX6xd5dEx4NXf.jpg\n",
       "9    /xwD4EsPOGLuKP50Q1gwqAsyhAFB.jpg\n",
       "Name: poster_path, dtype: object"
      ]
     },
     "execution_count": 61,
     "metadata": {},
     "output_type": "execute_result"
    }
   ],
   "source": [
    "train.poster_path.head(10)"
   ]
  },
  {
   "cell_type": "markdown",
   "metadata": {},
   "source": [
    "Only 1 movie in the training set is missing a poster path, therefore it is likely not very useful for our model. Since we will not be analyzing the content found at the poster path, this variable is not of use to us and we will drop it."
   ]
  },
  {
   "cell_type": "markdown",
   "metadata": {},
   "source": [
    "### Production Companies"
   ]
  },
  {
   "cell_type": "markdown",
   "metadata": {},
   "source": [
    "#### Pre-processing"
   ]
  },
  {
   "cell_type": "code",
   "execution_count": 62,
   "metadata": {
    "scrolled": false
   },
   "outputs": [],
   "source": [
    "train['production_companies'] = train['production_companies'].fillna('')\n",
    "train['production_companies_reform'] = train['production_companies'].apply(lambda x:re.findall(\"'name': \\'(.+?)\\'\", x))\n",
    "\n",
    "test['production_companies'] = test['production_companies'].fillna('')\n",
    "test['production_companies_reform'] = test['production_companies'].apply(lambda x:re.findall(\"'name': \\'(.+?)\\'\", x))\n",
    "\n",
    "df['production_companies'] = df['production_companies'].fillna('')\n",
    "df['production_companies_reform'] = df['production_companies'].apply(lambda x:re.findall(\"'name': \\'(.+?)\\'\", x))"
   ]
  },
  {
   "cell_type": "code",
   "execution_count": 63,
   "metadata": {
    "scrolled": false
   },
   "outputs": [
    {
     "data": {
      "text/plain": [
       "1     781\n",
       "2     734\n",
       "3     582\n",
       "4     308\n",
       "5     166\n",
       "0     157\n",
       "6     116\n",
       "7      69\n",
       "8      36\n",
       "9      27\n",
       "10      8\n",
       "11      6\n",
       "15      3\n",
       "12      3\n",
       "14      2\n",
       "13      1\n",
       "16      1\n",
       "Name: num_studios, dtype: int64"
      ]
     },
     "execution_count": 63,
     "metadata": {},
     "output_type": "execute_result"
    }
   ],
   "source": [
    "# new column for a count of the number of production studios\n",
    "train['num_studios'] = train.production_companies_reform.apply(lambda x: len(x))\n",
    "test['num_studios'] = test.production_companies_reform.apply(lambda x: len(x))\n",
    "df['num_studios'] = train.production_companies_reform.apply(lambda x: len(x))\n",
    "\n",
    "train['num_studios'].value_counts()"
   ]
  },
  {
   "cell_type": "markdown",
   "metadata": {},
   "source": [
    "#### Univariate Analysis"
   ]
  },
  {
   "cell_type": "code",
   "execution_count": 64,
   "metadata": {
    "scrolled": false
   },
   "outputs": [
    {
     "data": {
      "image/png": "[encoded data removed]",
      "text/plain": [
       "<Figure size 864x432 with 1 Axes>"
      ]
     },
     "metadata": {},
     "output_type": "display_data"
    }
   ],
   "source": [
    "# plotting films by number of production studios\n",
    "sns.distplot(train['num_studios'], kde=False, color='mediumseagreen', hist_kws=dict(alpha=1))\n",
    "sns.set(rc={'figure.figsize':(15,6)})\n",
    "plt.title('Histogram of Number of Production Studios')\n",
    "plt.show();"
   ]
  },
  {
   "cell_type": "markdown",
   "metadata": {},
   "source": [
    "Most movies have between 1 and 4 production studios, with fewer films having higher numbers and some even with 0 studio partners (independent films). However, given only the sheer number of production studios it is difficult to produce a reasonable hypothesis regarding the box office success of the film. Instead, determining the larger, more established, or otherwise previously successful production studios and applying those findings toward whether or not the dataset films in question have said studios would be a more useful way to analyze the impact of production companies."
   ]
  },
  {
   "cell_type": "code",
   "execution_count": 65,
   "metadata": {
    "scrolled": true
   },
   "outputs": [
    {
     "data": {
      "image/png": "[encoded data removed]",
      "text/plain": [
       "<Figure size 1080x432 with 1 Axes>"
      ]
     },
     "metadata": {},
     "output_type": "display_data"
    }
   ],
   "source": [
    "# production companies\n",
    "companiesDict = {}\n",
    "for element in train[\"production_companies_reform\"].values:\n",
    "    for company in element:\n",
    "        if company not in companiesDict:\n",
    "            companiesDict[company] = 1\n",
    "        else:\n",
    "            companiesDict[company] += 1\n",
    "\n",
    "companies_train = pd.DataFrame.from_dict(companiesDict, orient='index', columns=[\"movies per company\"])\n",
    "companies_train.sort_values(by=\"movies per company\", ascending=False).head(20).plot.bar(color='mediumseagreen')\n",
    "\n",
    "companies_train.columns = [\"number_of_studios\"]"
   ]
  },
  {
   "cell_type": "markdown",
   "metadata": {},
   "source": [
    "Using the number of movies per production company may be useful for determining what the biggest studios are, and correlating how the size of a production company influences the success of its films. There are two possibilities; either 1. a larger studio has the funding and means to draw in big-name cast and crew, with the necessary experience to turn that into a successful film project or 2. the studio is too franchised to create successful novel ideas and merely continually pumps out mediocre performing films. While some of both is likely possible, machine learning will help to weigh the relative influence of studio size on the movie's predicted revenue. Marking whether or not one of these major studios is involved in a film will be a useful feature for determining this connection."
   ]
  },
  {
   "cell_type": "markdown",
   "metadata": {},
   "source": [
    "#### Bivariate Analysis"
   ]
  },
  {
   "cell_type": "code",
   "execution_count": null,
   "metadata": {
    "scrolled": false
   },
   "outputs": [],
   "source": [
    "# bivariate analysis of revenue with production studios\n",
    "# production companies copy\n",
    "companiesDict2 = {}\n",
    "for element in df[\"production_companies_reform\"].values:\n",
    "    for company in element:\n",
    "        if company not in companiesDict2:\n",
    "            companiesDict2[company] = 1\n",
    "        else:\n",
    "            companiesDict2[company] += 1\n",
    "\n",
    "companies_df = pd.DataFrame.from_dict(companiesDict2, orient='index', columns=[\"movies per company\"])\n",
    "\n",
    "companies_df.columns = [\"number_of_studios\"]\n",
    "\n",
    "# creating a callable index for production studios\n",
    "companies_df.index.values\n",
    "for g in companies_df.index.values:\n",
    "    df[g] = df['production_companies_reform'].apply(lambda x: 1 if g in x else 0)\n",
    "\n",
    "# median revenue per production studio\n",
    "for i, g in enumerate(companies_df.index.values):\n",
    "    companies_df.loc[g, \"median_rev\"] = df[df[g]==1].revenue.median()\n",
    "    \n",
    "companies_df.sort_values(by=[\"number_of_studios\", \"median_rev\"], ascending=False).head(10)\n",
    "\n",
    "# mean revenue per production studio\n",
    "for i, g in enumerate(companies_df.index.values):\n",
    "    companies_df.loc[g, \"mean_rev\"] = df[df[g]==1].revenue.mean()\n",
    "\n",
    "companies_df.sort_values(by=[\"number_of_studios\", \"mean_rev\"], ascending=False).head(10)\n",
    "\n",
    "# total revenue per production studio\n",
    "for i, g in enumerate(companies_df.index.values):\n",
    "    companies_df.loc[g, \"sum_rev\"] = df[df[g]==1].revenue.sum()\n",
    "\n",
    "companies_df.sort_values(by=[\"number_of_studios\", \"sum_rev\"], ascending=False).head(10)"
   ]
  },
  {
   "cell_type": "code",
   "execution_count": null,
   "metadata": {
    "scrolled": false
   },
   "outputs": [],
   "source": [
    "# production studios by median revenue\n",
    "companies_df.sort_values(by=[\"median_rev\"], ascending=False).median_rev.head(20).plot.bar(color='mediumseagreen')\n",
    "plt.title(\"Production Studios by Median Revenue\")\n",
    "plt.ylabel(\"Revenue\")\n",
    "plt.xlabel(\"Production Studio\")"
   ]
  },
  {
   "cell_type": "code",
   "execution_count": null,
   "metadata": {
    "scrolled": false
   },
   "outputs": [],
   "source": [
    "# production studios by mean revenue\n",
    "companies_df.sort_values(by=[\"mean_rev\"], ascending=False).mean_rev.head(20).plot.bar(color='mediumseagreen')\n",
    "plt.title(\"Production Studios by Mean Revenue\")\n",
    "plt.ylabel(\"Revenue\")\n",
    "plt.xlabel(\"Production Studio\")"
   ]
  },
  {
   "cell_type": "markdown",
   "metadata": {},
   "source": [
    "Both mean and median revenue compared against the production studio provide relatively uninformative results. Namely, the Colorado Office of Film, Television & Media appears as a minor production studio for 'Furious 7' of the Fast & Furious Film Franchise. This is the only time it appears on the list, greatly skewing its influence on a film's revenue. Similarly, the Abu Dhabi Film Commision is involved in Furious 7 and seven other films including the highly profitable 'Ghost Rider: Spirit of Vengeance.' These outliers are unduly weighted with greater importance using this system, but other options exist.\n",
    "\n",
    "Firstly, the total revenue of each production company can be analyzed to see the studio with the overall highest box office totals (although this is expected to mirror the largest studios with the greatest number of films). Secondly, the mean and median revenue values can be applied to only the primary production company working on a film."
   ]
  },
  {
   "cell_type": "code",
   "execution_count": null,
   "metadata": {
    "scrolled": false
   },
   "outputs": [],
   "source": [
    "# production studios by total revenue\n",
    "companies_df.sort_values(by=[\"sum_rev\"], ascending=False).sum_rev.head(20).plot.bar(color='mediumseagreen')\n",
    "plt.title(\"Production Studios by Total Revenue\")\n",
    "plt.ylabel(\"Revenue\")\n",
    "plt.xlabel(\"Production Studio\")"
   ]
  },
  {
   "cell_type": "markdown",
   "metadata": {},
   "source": [
    "As expected, the production studios largely mirror the studios with the largest number of films produced. One notable exception is Walt Disney Pictures which rises from ninth place in terms of films produced to fourth place for total revenue. While other studios change position some, the focus on primary studios should also be tried."
   ]
  },
  {
   "cell_type": "code",
   "execution_count": null,
   "metadata": {
    "scrolled": false
   },
   "outputs": [],
   "source": [
    "# isolating the primary production studios for the films\n",
    "studiosDict = {}\n",
    "for element in train[[\"revenue\", \"production_companies_reform\"]].values:\n",
    "   # compare results when looking at x top production companies in films vs all affiliated studios \n",
    "    temp = 3\n",
    "    if len(element[1]) < temp:\n",
    "        temp = len(element[1])\n",
    "    for i in range(temp):\n",
    "        if element[1][i] not in studiosDict:\n",
    "            studiosDict[element[1][i]] = [element[0], 1]\n",
    "        else:\n",
    "            studiosDict[element[1][i]][0] += element[0]\n",
    "            studiosDict[element[1][i]][1] += 1    \n",
    "\n",
    "studiosDict = {k: v for k, v in studiosDict.items() if v[1] >= 3}\n",
    "\n",
    "for company in studiosDict:\n",
    "    studiosDict[company][0] = studiosDict[company][0]/studiosDict[company][1]\n",
    "    studiosDict[company] = studiosDict[company][0]\n",
    "\n",
    "\n",
    "    \n",
    "    \n",
    "studios_train = pd.DataFrame.from_dict(studiosDict, orient='index', columns=[\"mean_movies_revenue\"])\n",
    "studios_train.sort_values(by=\"mean_movies_revenue\", ascending=False).head(20).plot.bar(color='mediumseagreen')\n",
    "plt.title(\"Primary (Top 3) Production Studios by Mean Revenue\")\n",
    "plt.ylabel(\"Revenue\")\n",
    "plt.xlabel(\"Production Studio\")"
   ]
  },
  {
   "cell_type": "markdown",
   "metadata": {},
   "source": [
    "When isolating the top three production studios from an example's production_companies feature, a different barplot for production studio by mean revenue is produced. Notably, the film commissions associated with regional media permitting only associated with one or several films with high revenue (see the Colorado Office of Film, Television & Media's listing on 'Furious 7') are eliminated from this method for analyzing the production studios. This allows for a more effective usage of mean revenue based on the primary studios, while also more appropriately treating the issue of studios with immense filmographies (such as Warner Bros.) receiving too high of a value for 'total revenue.'"
   ]
  },
  {
   "cell_type": "code",
   "execution_count": null,
   "metadata": {},
   "outputs": [],
   "source": [
    "topStudiosDict = {}\n",
    "for element in train[[\"revenue\", \"production_companies_reform\"]].values:\n",
    "   # compare results when looking at x top studios\n",
    "    temp = 1\n",
    "    if len(element[1]) < temp:\n",
    "        temp = len(element[1])\n",
    "    for i in range(temp):\n",
    "        if element[1][i] not in topStudiosDict:\n",
    "            topStudiosDict[element[1][i]] = [element[0], 1]\n",
    "        else:\n",
    "            topStudiosDict[element[1][i]][0] += element[0]\n",
    "            topStudiosDict[element[1][i]][1] += 1    \n",
    "\n",
    "topStudiosDict = {k: v for k, v in topStudiosDict.items() if v[1] >= 5}\n",
    "\n",
    "for company in topStudiosDict:\n",
    "    topStudiosDict[company][0] = topStudiosDict[company][0]/topStudiosDict[company][1]\n",
    "    topStudiosDict[company] = topStudiosDict[company][0]\n",
    "\n",
    "\n",
    "    \n",
    "    \n",
    "studios_df = pd.DataFrame.from_dict(topStudiosDict, orient='index', columns=[\"mean_movies_revenue\"])\n",
    "studios_df.sort_values(by=\"mean_movies_revenue\", ascending=False).head(25).plot.bar(color='mediumseagreen')"
   ]
  },
  {
   "cell_type": "code",
   "execution_count": null,
   "metadata": {},
   "outputs": [],
   "source": [
    "# Sort both of our dicts of studios and top studios to more easily access the 'most successful studios'\n",
    "topStudiosDict = {k: v for k, v in sorted(topStudiosDict.items(), key=lambda item: item[1], reverse = True)}\n",
    "studiosDict = {k: v for k, v in sorted(studiosDict.items(), key=lambda item: item[1], reverse = True)}\n",
    "\n",
    "\n",
    "# function to check if lead role is a 'top studio'\n",
    "def checkTopStudios(studio):\n",
    "    if len(studio) < 1 or studio[0] not in list(topStudiosDict)[:25]:\n",
    "        return 0\n",
    "    else:\n",
    "        return 1\n",
    "\n",
    "def checkStudios(studio):\n",
    "    if len(studio) < 1:\n",
    "        return 0\n",
    "    count = 0\n",
    "    for company in studio[:5]:\n",
    "        if company in list(studiosDict)[:100]:\n",
    "            count += 1\n",
    "    return count\n",
    "\n",
    "#Creating a feature for top production studios\n",
    "train['topStudio'] = train['production_companies_reform'].apply(lambda x: checkTopStudios(x))\n",
    "test['topStudio'] = test['production_companies_reform'].apply(lambda x: checkTopStudios(x))\n",
    "#Creating feature for number of top studios\n",
    "train['numTopStudios'] = train['production_companies_reform'].apply(lambda x: checkStudios(x))\n",
    "test['numTopStudios'] = test['production_companies_reform'].apply(lambda x: checkStudios(x))\n",
    "\n",
    "print(train['topStudio'].value_counts())\n",
    "print()\n",
    "print(train['numTopStudios'].value_counts())"
   ]
  },
  {
   "cell_type": "code",
   "execution_count": null,
   "metadata": {
    "scrolled": false
   },
   "outputs": [],
   "source": [
    "# analysis of correlation and create log feature\n",
    "corr, _ = pearsonr(train['topStudio'], train['revenue'])\n",
    "print('Pearsons correlation between topStudio and revenue: %.3f' % corr)\n",
    "corr, _ = pearsonr(np.log1p(train['topStudio']), np.log1p(train['revenue']))\n",
    "print('Pearsons correlation between topStudio and revenue: %.3f' % corr)\n",
    "print()\n",
    "\n",
    "# analysis of correlation and create log feature\n",
    "corr, _ = pearsonr(train['numTopStudios'], train['revenue'])\n",
    "print('Pearsons correlation between numTopStudios and revenue: %.3f' % corr)\n",
    "corr, _ = pearsonr(np.log1p(train['numTopStudios']), np.log1p(train['revenue']))\n",
    "print('Pearsons correlation between numTopStudios and revenue: %.3f' % corr)\n",
    "print()\n",
    "\n",
    "# analysis of correlation and create log feature\n",
    "corr, _ = pearsonr(train['num_studios'], train['revenue'])\n",
    "print('Pearsons correlation between num_studios and revenue: %.3f' % corr)\n",
    "corr, _ = pearsonr(np.log1p(train['num_studios']), np.log1p(train['revenue']))\n",
    "print('Pearsons correlation between num_studios and revenue: %.3f' % corr)"
   ]
  },
  {
   "cell_type": "code",
   "execution_count": null,
   "metadata": {},
   "outputs": [],
   "source": []
  },
  {
   "cell_type": "markdown",
   "metadata": {},
   "source": [
    "### Production Countries"
   ]
  },
  {
   "cell_type": "markdown",
   "metadata": {},
   "source": [
    "#### Univariate Analysis"
   ]
  },
  {
   "cell_type": "code",
   "execution_count": null,
   "metadata": {
    "scrolled": false
   },
   "outputs": [],
   "source": [
    "print('Movies missing production countries:',train.poster_path.isna().sum())"
   ]
  },
  {
   "cell_type": "code",
   "execution_count": null,
   "metadata": {
    "scrolled": false
   },
   "outputs": [],
   "source": [
    "train.production_countries = train.production_countries.fillna(\"\")\n",
    "train['production_countries_processed'] = train['production_countries'].apply(lambda x: re.findall(\"'name': \\'(.+?)\\'\", x))\n",
    "\n",
    "train['num_production_countries'] = train['production_countries_processed'].apply(lambda x: len(x))\n",
    "\n",
    "test.production_countries = test.production_countries.fillna(\"\")\n",
    "test['production_countries_processed'] = test['production_countries'].apply(lambda x: re.findall(\"'name': \\'(.+?)\\'\", x))\n",
    "\n",
    "test['num_production_countries'] = test['production_countries_processed'].apply(lambda x: len(x))"
   ]
  },
  {
   "cell_type": "code",
   "execution_count": null,
   "metadata": {},
   "outputs": [],
   "source": [
    "sns.set(rc={'figure.figsize':(12,8)})\n",
    "sns.countplot(x=train.num_production_countries, color='cornflowerblue')"
   ]
  },
  {
   "cell_type": "code",
   "execution_count": null,
   "metadata": {
    "scrolled": false
   },
   "outputs": [],
   "source": [
    "countriesDict = {}\n",
    "for element in train[\"production_countries_processed\"].values:\n",
    "    for country in element:\n",
    "        if country not in countriesDict:\n",
    "            countriesDict[country] = 1\n",
    "        else:\n",
    "            countriesDict[country] += 1\n",
    "\n",
    "countries_train = pd.DataFrame.from_dict(countriesDict, orient='index', columns=[\"movies per country\"])\n",
    "countries_train.sort_values(by=\"movies per country\", ascending=False).head(10).plot.bar(color='cornflowerblue')\n"
   ]
  },
  {
   "cell_type": "markdown",
   "metadata": {},
   "source": [
    "We can see from the plot that the overwhelming majority of films have the United States listed as a production country, with the second highest (United Kingdom) being incredibly far behind. Because of this observation, we will not look at all of the different production countries, but instead create a feature to determine whether or not a film was produced in the United States"
   ]
  },
  {
   "cell_type": "code",
   "execution_count": null,
   "metadata": {
    "scrolled": false
   },
   "outputs": [],
   "source": [
    "#Creating new feature\n",
    "train['usa_produced'] = train.production_countries_processed.apply(lambda x: 1 if 'United States of America' in x else 0)\n",
    "test['usa_produced'] = test.production_countries_processed.apply(lambda x: 1 if 'United States of America' in x else 0)\n",
    "train['usa_produced'].value_counts()"
   ]
  },
  {
   "cell_type": "code",
   "execution_count": null,
   "metadata": {
    "scrolled": true
   },
   "outputs": [],
   "source": [
    "# plotting has a homepage data\n",
    "labels = 'Produced in USA', 'Produced outside of USA'\n",
    "btc_1 = [sum(train.usa_produced), (train.usa_produced == 0).sum(axis=0)]\n",
    "explode = (0.1, 0)\n",
    "\n",
    "colors = ['cornflowerblue', 'lightsteelblue']\n",
    "\n",
    "fig, ax = plt.subplots()\n",
    "ax.pie(btc_1, explode=explode, autopct='%1.1f%%', shadow=True, startangle=90, colors=colors, textprops={'color':\"w\", 'fontsize': 22, 'weight':\"bold\"})\n",
    "ax.axis('equal') # ensures chart is a circle\n",
    "\n",
    "ax.legend(labels,\n",
    "          title=\"Legend\",\n",
    "          loc=\"center left\",\n",
    "          fontsize=14,\n",
    "          bbox_to_anchor=(0.8, 0.25, 0.5, 1))\n",
    "\n",
    "plt.show()                                        "
   ]
  },
  {
   "cell_type": "markdown",
   "metadata": {},
   "source": [
    "#### Bivariate Analysis"
   ]
  },
  {
   "cell_type": "code",
   "execution_count": null,
   "metadata": {
    "scrolled": true
   },
   "outputs": [],
   "source": [
    "sns.boxplot(x='num_production_countries', y='revenue', data=train, color='cornflowerblue')\n",
    "plt.title('Revenue based on number of production countries')"
   ]
  },
  {
   "cell_type": "code",
   "execution_count": null,
   "metadata": {
    "scrolled": false
   },
   "outputs": [],
   "source": [
    "# calculate Pearson's correlation\n",
    "corr, _ = pearsonr(train['num_production_countries'], train['revenue'])\n",
    "print('Pearsons correlation: %.3f' % corr)"
   ]
  },
  {
   "cell_type": "code",
   "execution_count": null,
   "metadata": {},
   "outputs": [],
   "source": []
  },
  {
   "cell_type": "code",
   "execution_count": null,
   "metadata": {
    "scrolled": true
   },
   "outputs": [],
   "source": [
    "pal3 = ['lightsteelblue', 'cornflowerblue']\n",
    "\n",
    "ax = sns.catplot(x='usa_produced', y='revenue', data=train, palette=pal3);\n",
    "plt.title('Revenue for films produced in the USA vs produced in other countries');\n",
    "\n",
    "labels = 'Produced outside of USA', 'Produced in USA'\n",
    "ax.set_xticklabels(labels)"
   ]
  },
  {
   "cell_type": "code",
   "execution_count": null,
   "metadata": {
    "scrolled": false
   },
   "outputs": [],
   "source": [
    "# calculate Pearson's correlation\n",
    "corr, _ = pearsonr(train['usa_produced'], train['revenue'])\n",
    "print('Pearsons correlation: %.3f' % corr)"
   ]
  },
  {
   "cell_type": "markdown",
   "metadata": {},
   "source": [
    "We observe a small positive correlation between our created feature and the revenue. While the correlation is not incredibly strong, it may be useful to include in our model."
   ]
  },
  {
   "cell_type": "markdown",
   "metadata": {},
   "source": [
    "### Release Date"
   ]
  },
  {
   "cell_type": "code",
   "execution_count": null,
   "metadata": {
    "scrolled": false
   },
   "outputs": [],
   "source": [
    "# release date data manipulation\n",
    "# naming a date-specific dataframe for housekeeping\n",
    "train_date = train['release_date']\n",
    "\n",
    "# converting to datetime format, with .dt used for accessing quantities\n",
    "train_date = pd.to_datetime(train_date)\n",
    "train_date.dt\n",
    "print(train_date)"
   ]
  },
  {
   "cell_type": "code",
   "execution_count": null,
   "metadata": {
    "scrolled": false
   },
   "outputs": [],
   "source": [
    "# possible output options\n",
    "print(train_date.dt.year) # absolutely necessary\n",
    "print(train_date.dt.dayofweek) # friday night hits!\n",
    "print(train_date.dt.dayofyear) # it's a christmas miracle\n",
    "print(train_date.dt.weekofyear) # of interest"
   ]
  },
  {
   "cell_type": "code",
   "execution_count": null,
   "metadata": {
    "scrolled": false
   },
   "outputs": [],
   "source": [
    "print(train.release_date.describe())\n",
    "print()\n",
    "print(train_date.dt.year.describe())"
   ]
  },
  {
   "cell_type": "markdown",
   "metadata": {},
   "source": [
    "#### Univariate Analysis"
   ]
  },
  {
   "cell_type": "code",
   "execution_count": null,
   "metadata": {
    "scrolled": false
   },
   "outputs": [],
   "source": [
    "# plotting the year of the films release\n",
    "fig, dx = plt.subplots()\n",
    "sns.distplot(train_date.dt.year, bins=99, kde=False, color='gold', hist_kws=dict(alpha=1))\n",
    "sns.set(rc={'figure.figsize':(12, 6)})\n",
    "\n",
    "dx.set(xlim=(1965, 2020),ylim=(0,200))\n",
    "dx.set_xlabel(\"Year\")\n",
    "dx.set_ylabel(\"Number of Films\")\n",
    "dx.set_title(\"Year of Release Date by Number of Films\")"
   ]
  },
  {
   "cell_type": "markdown",
   "metadata": {},
   "source": [
    "The plot for year of release for the dataset shows a general increase in number of films as time progresses, which makes sense for a growing/maturing industry. While mostly linear, there are several peaks throughout. Finding a relationship between the years with above average number films and revenue could be an interesting direction for investigation."
   ]
  },
  {
   "cell_type": "code",
   "execution_count": null,
   "metadata": {
    "scrolled": false
   },
   "outputs": [],
   "source": [
    "# plotting the films release day of the week\n",
    "fig, ex = plt.subplots()\n",
    "sns.distplot(train_date.dt.dayofweek, kde=False, color='gold', hist_kws=dict(alpha=1))\n",
    "sns.set(rc={'figure.figsize':(15,6)})\n",
    "\n",
    "ex.set_xlabel(\"Day of Week\")\n",
    "ex.set_ylabel(\"Number of Films\")\n",
    "ex.set_title(\"Release Date Day of the Week\")\n",
    "\n",
    "labels = [item.get_text() for item in ex.get_xticklabels()]\n",
    "labels[1] = 'Monday'\n",
    "labels[2] = 'Tuesday'\n",
    "labels[3] = 'Wednesday'\n",
    "labels[4] = 'Thursday'\n",
    "labels[5] = 'Friday'\n",
    "labels[6] = 'Saturday'\n",
    "labels[7] = 'Sunday'\n",
    "\n",
    "ex.set_xticklabels(labels)"
   ]
  },
  {
   "cell_type": "markdown",
   "metadata": {},
   "source": [
    "The dayofweek data shows a clear outlier in Friday release days, which is somewhat obviously tied to the end of the common Monday to Friday five day workweek. Individuals are more likely to attend a several hour long event after work if they have fewer responsibilities the following day. A movie's release is expected to follow market patterns that best benefit the film, so it is hypothesized that Friday release dates will have a positive impact on sales (and by association box office totals). Unexpectedly, Saturday release dates are lower even than Tuesday, Wednesday, and Thursday - it might be logical to assume many movie-goers would attend a film opening on Saturday."
   ]
  },
  {
   "cell_type": "code",
   "execution_count": null,
   "metadata": {
    "scrolled": false
   },
   "outputs": [],
   "source": [
    "# plotting the films release day of the year\n",
    "fig, fx = plt.subplots()\n",
    "sns.distplot(train_date.dt.dayofyear, bins=365, kde=False, color='gold', hist_kws=dict(alpha=1))\n",
    "sns.set(rc={'figure.figsize':(15,6)})\n",
    "\n",
    "fx.set_xlabel(\"Day of Year\")\n",
    "fx.set_ylabel(\"Number of Films\")\n",
    "fx.set_title(\"Release Date Day of the Year\")"
   ]
  },
  {
   "cell_type": "markdown",
   "metadata": {},
   "source": [
    "The dayofyear data is a fairly noisy set of data, however as expected, there are certain days with notably higher numbers of films produced. For example, the Christmas Eve and New Years Day release dates are well-known as popular choices for when to release a movie. Whether this is an advent largely born out of tradition or out of true benefit to revenue will be parsed in later data exploration. \n",
    "\n",
    "There is also a clumping of films curiously released in September. Further research reveals that August and September are among the months listed as 'dump months' during which a large number of films that did bad in testing, star a less prominent cast, or otherwise cannot be easily marketted. This aligns with the return of children to the public school system after summer as well as other indicators of a slump period for the film industry. So high number of releases could be positive in some cases and negative in others. In fact, periods with low release may be due to a major title opening (with the studios wanting less box office competition)."
   ]
  },
  {
   "cell_type": "code",
   "execution_count": null,
   "metadata": {
    "scrolled": false
   },
   "outputs": [],
   "source": [
    "# plotting the films release week of the year\n",
    "fig, gx = plt.subplots()\n",
    "sns.distplot(train_date.dt.weekofyear, bins=52, kde=False, color='gold', hist_kws=dict(alpha=1))\n",
    "sns.set(rc={'figure.figsize':(12,6)})\n",
    "\n",
    "gx.set_xlabel(\"Week of Year\")\n",
    "gx.set_ylabel(\"Number of Films\")\n",
    "gx.set_title(\"Release Date Week of the Year\")\n",
    "\n",
    "print()\n",
    "\n",
    "# plotting the films release month of the year\n",
    "fig, hx = plt.subplots()\n",
    "sns.distplot(train_date.dt.month, bins=12, kde=False, color='gold', hist_kws=dict(alpha=1))\n",
    "sns.set(rc={'figure.figsize':(12,6)})\n",
    "\n",
    "hx.set_xlabel(\"Month of Year\")\n",
    "hx.set_ylabel(\"Number of Films\")\n",
    "hx.set_title(\"Release Date Month of the Year\")"
   ]
  },
  {
   "cell_type": "markdown",
   "metadata": {},
   "source": [
    "Similarly to the dayofyear data, the weekofyear data shows the highest number of films released at the end of August and beginning of September. As the 'dump months' this is unlikely to be indicative of a positive correlation with revenue. The second largest spike in December may have better box office totals due to the popularity of going to the movies over the holidays. Late Fall into Winter are typically denoted as the beginning of Oscar Season, which could mean higher grossing films released regardless of the overall number of film. As such, it can be theorized that the number of films released in a given week of the year is not as important as the characteristics of that week with respect to the film industry's cyclical patterns."
   ]
  },
  {
   "cell_type": "markdown",
   "metadata": {},
   "source": [
    "#### Bivariate Analysis"
   ]
  },
  {
   "cell_type": "code",
   "execution_count": null,
   "metadata": {
    "scrolled": true
   },
   "outputs": [],
   "source": [
    "# bivariate year of release with revenue data\n",
    "fig, dx = plt.subplots()\n",
    "sns.boxplot(x=train_date.dt.year, y=train['revenue'], color='gold')\n",
    "sns.set(rc={'figure.figsize':(12, 6)})\n",
    "\n",
    "dx.set(xlim=(-5, 50))\n",
    "dx.set_xlabel(\"Year of Film\")\n",
    "dx.set_ylabel(\"Revenue\")\n",
    "dx.set_title(\"Year of Release Date by Revenue\")\n",
    "\n",
    "dx.set_xticklabels(dx.get_xticklabels(), rotation=90)"
   ]
  },
  {
   "cell_type": "markdown",
   "metadata": {},
   "source": [
    "The revenue of films generally increases from year to year, with some notably higher years than others. The latest year in the dataset, 2017, has far an away the highest revenue in no small part because of Wonder Woman."
   ]
  },
  {
   "cell_type": "code",
   "execution_count": null,
   "metadata": {
    "scrolled": false
   },
   "outputs": [],
   "source": [
    "# bivariate day of week of release with revenue data\n",
    "fig, ex = plt.subplots()\n",
    "sns.boxplot(x=train_date.dt.dayofweek, y=train['revenue'], color='gold')\n",
    "sns.set(rc={'figure.figsize':(12, 6)})\n",
    "\n",
    "ex.set_xlabel(\"Day of Week\")\n",
    "ex.set_ylabel(\"Revenue\")\n",
    "ex.set_title(\"Release Date Day of the Week by Revenue\")\n",
    "\n",
    "labels = [item.get_text() for item in ex.get_xticklabels()]\n",
    "labels[0] = 'Monday'\n",
    "labels[1] = 'Tuesday'\n",
    "labels[2] = 'Wednesday'\n",
    "labels[3] = 'Thursday'\n",
    "labels[4] = 'Friday'\n",
    "labels[5] = 'Saturday'\n",
    "labels[6] = 'Sunday'\n",
    "\n",
    "ex.set_xticklabels(labels)\n"
   ]
  },
  {
   "cell_type": "markdown",
   "metadata": {},
   "source": [
    "Surprisingly, despite the hypothesis that Friday was the most common release date because of some monetary benefit to sales, Wednesday (followed by Tuesday & Thursday) has the highest revenue. It would be interesting to investigate why this is the case, but regardless it will help inform the outcome of the model."
   ]
  },
  {
   "cell_type": "code",
   "execution_count": null,
   "metadata": {
    "scrolled": false
   },
   "outputs": [],
   "source": [
    "# bivariate day of year of release with revenue data\n",
    "# WIP\n",
    "fig, fx = plt.subplots()\n",
    "sns.boxplot(x=train_date.dt.dayofyear, y=train['revenue'], color='gold')\n",
    "sns.set(rc={'figure.figsize':(12, 6)})\n",
    "\n",
    "fx.set_xlabel(\"Day of Year\")\n",
    "fx.set_ylabel(\"Revenue\")\n",
    "fx.set_title(\"Release Date Day of the Year by Revenue\")"
   ]
  },
  {
   "cell_type": "markdown",
   "metadata": {},
   "source": [
    "The sheer amount of data is difficult to present in the same format as the other release_date by revenue bivariate analysis plots."
   ]
  },
  {
   "cell_type": "code",
   "execution_count": null,
   "metadata": {
    "scrolled": false
   },
   "outputs": [],
   "source": [
    "fig, gx = plt.subplots()\n",
    "sns.boxplot(x=train_date.dt.weekofyear, y=train['revenue'], color='gold')\n",
    "sns.set(rc={'figure.figsize':(12, 6)})\n",
    "\n",
    "gx.set_xlabel(\"Week of Year\")\n",
    "gx.set_ylabel(\"Revenue\")\n",
    "gx.set_title(\"Release Date Week of the Year by Revenue\")"
   ]
  },
  {
   "cell_type": "markdown",
   "metadata": {},
   "source": [
    "The revenue for weeks of the year match fairly well with the expected results from the univariate analysis, with the weeks preceding the holiday season having relatively high revenue. There is also a notable midsummer peak season in June (the 25th week of the year)."
   ]
  },
  {
   "cell_type": "code",
   "execution_count": null,
   "metadata": {
    "scrolled": false
   },
   "outputs": [],
   "source": [
    "fig, hx = plt.subplots()\n",
    "sns.boxplot(x=train_date.dt.month, y=train['revenue'], color='gold')\n",
    "sns.set(rc={'figure.figsize':(12, 6)})\n",
    "\n",
    "hx.set_xlabel(\"Month of Year\")\n",
    "hx.set_ylabel(\"Revenue\")\n",
    "hx.set_title(\"Release Date Month by Revenue\")"
   ]
  },
  {
   "cell_type": "markdown",
   "metadata": {},
   "source": [
    "Similarly to above, the month of the year follows a similar trend. The midsummer months are successful, although not numerous in terms of release, while the 'dump months' during the start of the school year have a higher number of films and significantly lower revenue. The holiday season in December shows a higher number of releases and a concurrently higher revenue."
   ]
  },
  {
   "cell_type": "code",
   "execution_count": null,
   "metadata": {
    "scrolled": false
   },
   "outputs": [],
   "source": [
    "# fill possible NA values with the statistical mode\n",
    "train[\"release_date\"] = train[\"release_date\"].fillna(train[\"release_date\"].mode()[0])\n",
    "test[\"release_date\"] = test[\"release_date\"].fillna(train[\"release_date\"].mode()[0])\n",
    "\n",
    "train['temp'] = train.release_date.apply(lambda x: datetime.strptime(x, '%m/%d/%y'))\n",
    "test['temp'] = test.release_date.apply(lambda x: datetime.strptime(x, '%m/%d/%y'))\n",
    "\n",
    "train[\"month\"] = train.temp.apply(lambda x: x.month)\n",
    "test[\"month\"] = test.temp.apply(lambda x: x.month)\n",
    "\n",
    "train[\"season\"] = train[\"month\"]%4\n",
    "test[\"season\"] = test[\"month\"]%4\n",
    "\n",
    "train[\"year\"] = train.temp.apply(lambda x: x.year)\n",
    "test[\"year\"] = test.temp.apply(lambda x: x.year)\n",
    "\n",
    "train[\"day_of_week\"] = train.temp.apply(lambda x: x.weekday()+1)\n",
    "test[\"day_of_week\"] = test.temp.apply(lambda x: x.weekday()+1)\n",
    "\n",
    "train[\"week_of_year\"] = train.temp.apply(lambda x: x.isocalendar()[1])\n",
    "test[\"week_of_year\"] = test.temp.apply(lambda x: x.isocalendar()[1])\n",
    "\n",
    "\n",
    "train = train.drop(['temp'], axis=1)\n",
    "test = test.drop(['temp'], axis=1)\n",
    "\n",
    "\n",
    "train[\"day_of_week\"] = train[\"day_of_week\"].fillna(train[\"day_of_week\"].mode()[0])\n",
    "test[\"day_of_week\"] = test[\"day_of_week\"].fillna(train[\"day_of_week\"].mode()[0])\n",
    "\n",
    "train[\"year\"] = train[\"year\"].fillna(train[\"year\"].mode()[0])\n",
    "test[\"year\"] = test[\"year\"].fillna(train[\"year\"].mode()[0])\n",
    "\n",
    "train[\"month\"] = train[\"month\"].fillna(train[\"month\"].mode()[0])\n",
    "test[\"month\"] = test[\"month\"].fillna(train[\"month\"].mode()[0])\n",
    "\n",
    "train[\"week_of_year\"] = train[\"week_of_year\"].fillna(train[\"week_of_year\"].mode()[0])\n",
    "test[\"week_of_year\"] = test[\"week_of_year\"].fillna(train[\"week_of_year\"].mode()[0])\n",
    "\n",
    "train[\"season\"] = train[\"season\"].fillna(train[\"season\"].mode()[0])\n",
    "test[\"season\"] = test[\"season\"].fillna(train[\"season\"].mode()[0])\n",
    "\n",
    "train[[\"release_date\", \"month\", \"year\", \"day_of_week\", \"week_of_year\", \"season\"]].head()"
   ]
  },
  {
   "cell_type": "code",
   "execution_count": null,
   "metadata": {
    "scrolled": true
   },
   "outputs": [],
   "source": [
    "#analysis of correlation and create log feature\n",
    "corr, _ = pearsonr(train['day_of_week'], train['revenue'])\n",
    "print('Pearsons correlation between day_of_week and revenue: %.3f' % corr)\n",
    "corr, _ = pearsonr(np.log1p(train['day_of_week']), np.log1p(train['revenue']))\n",
    "print('Pearsons correlation between day_of_week and revenue: %.3f' % corr)\n",
    "print()\n",
    "\n",
    "#analysis of correlation and create log feature\n",
    "corr, _ = pearsonr(train['year'], train['revenue'])\n",
    "print('Pearsons correlation between year and revenue: %.3f' % corr)\n",
    "corr, _ = pearsonr(np.log1p(train['year']), np.log1p(train['revenue']))\n",
    "print('Pearsons correlation between year and revenue: %.3f' % corr)\n",
    "print()\n",
    "\n",
    "#analysis of correlation and create log feature\n",
    "corr, _ = pearsonr(train['month'], train['revenue'])\n",
    "print('Pearsons correlation between month and revenue: %.3f' % corr)\n",
    "corr, _ = pearsonr(np.log1p(train['month']), np.log1p(train['revenue']))\n",
    "print('Pearsons correlation between month and revenue: %.3f' % corr)\n",
    "print()\n",
    "\n",
    "#analysis of correlation and create log feature\n",
    "corr, _ = pearsonr(train['week_of_year'], train['revenue'])\n",
    "print('Pearsons correlation between week_of_year and revenue: %.3f' % corr)\n",
    "corr, _ = pearsonr(np.log1p(train['week_of_year']), np.log1p(train['revenue']))\n",
    "print('Pearsons correlation between week_of_year and revenue: %.3f' % corr)\n",
    "print()\n",
    "\n",
    "#analysis of correlation and create log feature\n",
    "corr, _ = pearsonr(train['season'], train['revenue'])\n",
    "print('Pearsons correlation between season and revenue: %.3f' % corr)\n",
    "corr, _ = pearsonr(np.log1p(train['season']), np.log1p(train['revenue']))\n",
    "print('Pearsons correlation between season and revenue: %.3f' % corr)"
   ]
  },
  {
   "cell_type": "markdown",
   "metadata": {},
   "source": [
    "### Runtime"
   ]
  },
  {
   "cell_type": "markdown",
   "metadata": {},
   "source": [
    "#### Univariate Analysis"
   ]
  },
  {
   "cell_type": "code",
   "execution_count": null,
   "metadata": {
    "scrolled": false
   },
   "outputs": [],
   "source": [
    "#runtime\n",
    "print('Movies missing a runtime:',train.runtime.isna().sum())"
   ]
  },
  {
   "cell_type": "code",
   "execution_count": null,
   "metadata": {
    "scrolled": false
   },
   "outputs": [],
   "source": [
    "#pre-processing\n",
    "train.runtime = train.runtime.fillna(train.runtime.median())"
   ]
  },
  {
   "cell_type": "code",
   "execution_count": null,
   "metadata": {
    "scrolled": false
   },
   "outputs": [],
   "source": [
    "f, ax = plt.subplots(3, figsize=(10,6))\n",
    "\n",
    "sns.set(rc={'figure.figsize':(12,8)})\n",
    "sns.boxplot(x=train.runtime, ax = ax[0], color='slateblue')\n",
    "ax[0].set_title(\"Box Plot of runtime variable\")\n",
    "sns.distplot(a=train.runtime, kde = False, ax = ax[1], color='slateblue', hist_kws=dict(alpha=1))\n",
    "ax[1].set_title(\"Histogram of runtime variable\")\n",
    "sns.distplot(a=np.log1p(train.runtime), kde = False, ax = ax[2], color='slateblue', hist_kws=dict(alpha=1))\n",
    "ax[2].set_title(\"Log1p transformed runtime Histogram\")\n",
    "f.tight_layout()"
   ]
  },
  {
   "cell_type": "code",
   "execution_count": null,
   "metadata": {},
   "outputs": [],
   "source": [
    "train.loc[train['runtime'].argmax(), ['title', 'runtime']]"
   ]
  },
  {
   "cell_type": "code",
   "execution_count": null,
   "metadata": {
    "scrolled": false
   },
   "outputs": [],
   "source": [
    "train = train.drop(train['runtime'].argmax())"
   ]
  },
  {
   "cell_type": "code",
   "execution_count": null,
   "metadata": {
    "scrolled": false
   },
   "outputs": [],
   "source": [
    "print('Movies with runtime listed as 0: ',(train.runtime == 0).sum())"
   ]
  },
  {
   "cell_type": "markdown",
   "metadata": {},
   "source": [
    "There are 12 movies with the runtime listed as 0 in the dataset, which is also a clear error as no movie will have a true runtime of 0. We will replace these values the the median of the non-zero runtimes."
   ]
  },
  {
   "cell_type": "code",
   "execution_count": null,
   "metadata": {
    "scrolled": false
   },
   "outputs": [],
   "source": [
    "median = train.loc[train['runtime'] > 0, 'runtime'].median()\n",
    "train[\"runtime_processed\"] = train[\"runtime\"].mask(train[\"runtime\"] == 0, median)\n",
    "test[\"runtime_processed\"] = test[\"runtime\"].mask(train[\"runtime\"] == 0, median)"
   ]
  },
  {
   "cell_type": "code",
   "execution_count": null,
   "metadata": {
    "scrolled": false
   },
   "outputs": [],
   "source": [
    "f, ax = plt.subplots(3, figsize=(10,6))\n",
    "\n",
    "sns.set(rc={'figure.figsize':(12,8)})\n",
    "sns.boxplot(x=train.runtime_processed, ax = ax[0], color='slateblue')\n",
    "ax[0].set_title(\"Box Plot of runtime_processed variable\")\n",
    "sns.distplot(a=train.runtime_processed, kde = False, ax = ax[1], color='slateblue', hist_kws=dict(alpha=1))\n",
    "ax[1].set_title(\"Histogram of runtime_processed variable\")\n",
    "sns.distplot(a=np.log1p(train.runtime_processed), kde = False, ax = ax[2], color='slateblue', hist_kws=dict(alpha=1))\n",
    "ax[2].set_title(\"Log1p transformed runtime_processed Histogram\")\n",
    "f.tight_layout()"
   ]
  },
  {
   "cell_type": "markdown",
   "metadata": {},
   "source": [
    "#### Bivariate Analysis"
   ]
  },
  {
   "cell_type": "code",
   "execution_count": null,
   "metadata": {
    "scrolled": false
   },
   "outputs": [],
   "source": [
    "#### Bivariate Analysisplt.figure(figsize=(16, 8))\n",
    "plt.subplot(1, 2, 1)\n",
    "plt.scatter(train['runtime_processed'], train['revenue'], color='slateblue')\n",
    "plt.title('Revenue vs runtime_processed');\n",
    "plt.subplot(1, 2, 2)\n",
    "plt.scatter(np.log1p(train['runtime_processed']), np.log1p(train['revenue']), color='slateblue')\n",
    "plt.title('Log Revenue vs log runtime_processed');"
   ]
  },
  {
   "cell_type": "code",
   "execution_count": null,
   "metadata": {
    "scrolled": true
   },
   "outputs": [],
   "source": [
    "# calculate Pearson's correlation\n",
    "corr, _ = pearsonr(train['runtime_processed'], train['revenue'])\n",
    "print('Pearsons correlation: %.3f' % corr)\n",
    "corr, _ = pearsonr(np.log1p(train['runtime_processed']), np.log1p(train['revenue']))\n",
    "print('Pearsons correlation: %.3f' % corr)"
   ]
  },
  {
   "cell_type": "markdown",
   "metadata": {},
   "source": [
    "### Spoken Languages"
   ]
  },
  {
   "cell_type": "code",
   "execution_count": null,
   "metadata": {},
   "outputs": [],
   "source": [
    "# new column for a count of the number of spoken languages\n",
    "train.spoken_languages = train.spoken_languages.fillna(\"\")\n",
    "train['spoken_languages_reform'] = train['spoken_languages'].apply(lambda x: re.findall(\"'name': \\'(.+?)\\'\", x))\n",
    "train['num_languages'] = train.spoken_languages_reform.apply(lambda x: len(x))\n",
    "print(train['num_languages'])\n",
    "\n",
    "\n",
    "test.spoken_languages = test.spoken_languages.fillna(\"\")\n",
    "test['spoken_languages_reform'] = test['spoken_languages'].apply(lambda x: re.findall(\"'name': \\'(.+?)\\'\", x))\n",
    "test['num_languages'] = test.spoken_languages_reform.apply(lambda x: len(x))\n",
    "print(test['num_languages'])"
   ]
  },
  {
   "cell_type": "code",
   "execution_count": null,
   "metadata": {},
   "outputs": [],
   "source": [
    "print(train.num_languages.describe())"
   ]
  },
  {
   "cell_type": "markdown",
   "metadata": {},
   "source": [
    "#### Univariate Analysis"
   ]
  },
  {
   "cell_type": "code",
   "execution_count": null,
   "metadata": {
    "scrolled": false
   },
   "outputs": [],
   "source": [
    "# univariate analysis of spoken languages\n",
    "languagesDict = {}\n",
    "for element in train[\"spoken_languages_reform\"].values:\n",
    "    for name in element:\n",
    "        if name not in languagesDict:\n",
    "            languagesDict[name] = 1\n",
    "        else:\n",
    "            languagesDict[name] += 1\n",
    "            \n",
    "sns.set(rc={'figure.figsize':(12,6)})\n",
    "            \n",
    "languages_train = pd.DataFrame.from_dict(languagesDict, orient='index', columns=[\"movies per spoken language\"])\n",
    "languages_train.sort_values(by=\"movies per spoken language\", ascending=False).head(6).plot.bar(color='darkcyan')\n",
    "\n",
    "languages_train.columns = [\"number_of_languages\"]"
   ]
  },
  {
   "cell_type": "markdown",
   "metadata": {},
   "source": [
    "Due to the significantly higher value for films with English as the spoken language, this value can likely be broken down to a simple, \"Is English a spoken language or not?\" This will provide interesting insight into the importance of English as the spoken language as a factor toward the movie's success. Because of the higher market for movies in English speaking countries (save perhaps India - although it is unclear if an appropriately proportioned number of Bollywood films are included in the training data). A sound hypothesis would be that English may not denote a successful movie, but an absence of English may harm the film's chance for being as successful."
   ]
  },
  {
   "cell_type": "code",
   "execution_count": null,
   "metadata": {},
   "outputs": [],
   "source": [
    "# spoken languages (english vs non-english)\n",
    "train['lang'] = train['spoken_languages_reform'].apply(lambda x: 1 if 'English' in x else 0)\n",
    "test['lang'] = test['spoken_languages_reform'].apply(lambda x: 1 if 'English' in x else 0)\n",
    "\n",
    "lang = [sum(train.lang), (train.lang == 0).sum(axis=0)]\n",
    "lang_test = [sum(test.lang), (test.lang == 0).sum(axis=0)]\n",
    "\n",
    "labels = 'Spoken Language English', 'Non-English Spoken Language'\n",
    "explode = (0.1, 0)\n",
    "\n",
    "# plot\n",
    "colors = [\"darkcyan\", \"turquoise\"]\n",
    "\n",
    "fig, ix = plt.subplots(figsize=(10, 8))\n",
    "ix.pie(lang, explode=explode, autopct='%1.1f%%', shadow=True, startangle=90, colors=colors, textprops={'color':\"w\", 'fontsize':22, 'weight':\"bold\"})\n",
    "ix.axis('equal')\n",
    "\n",
    "ix.legend(labels,\n",
    "          title=\"Legend\",\n",
    "          loc=\"center left\",\n",
    "          fontsize=14,\n",
    "          bbox_to_anchor=(0.8, 0.25, 0.5, 1))\n"
   ]
  },
  {
   "cell_type": "markdown",
   "metadata": {},
   "source": [
    "#### Bivariate Analysis"
   ]
  },
  {
   "cell_type": "code",
   "execution_count": null,
   "metadata": {},
   "outputs": [],
   "source": [
    "# bivariate analysis of revenue with english as spoken language\n",
    "print(train['lang'].value_counts())\n",
    "print(test['lang'].value_counts())\n",
    "\n",
    "labels = 'Non-English Spoken Language', 'Spoken Language English'\n",
    "\n",
    "pal2 = [\"darkcyan\", \"turquoise\"]\n",
    "\n",
    "fig, ix = plt.subplots(figsize=(12, 6))\n",
    "sns.boxplot(x='lang', y='revenue', data=train, palette=pal2)\n",
    "plt.title('Films by Revenue Based on Spoken Language')\n",
    "plt.ylabel(\"Revenue\")\n",
    "plt.xlabel(\"Language Status\")\n",
    "\n",
    "ix.set_xticklabels(labels)"
   ]
  },
  {
   "cell_type": "code",
   "execution_count": null,
   "metadata": {},
   "outputs": [],
   "source": [
    "#analysis of correlation and create log feature\n",
    "corr, _ = pearsonr(train['lang'], train['revenue'])\n",
    "print('Pearsons correlation between lang and revenue: %.3f' % corr)\n",
    "corr, _ = pearsonr(np.log1p(train['lang']), np.log1p(train['revenue']))\n",
    "print('Pearsons correlation between lang and revenue: %.3f' % corr)"
   ]
  },
  {
   "cell_type": "code",
   "execution_count": null,
   "metadata": {},
   "outputs": [],
   "source": [
    "#analysis of correlation and create log feature\n",
    "corr, _ = pearsonr(train['num_languages'], train['revenue'])\n",
    "print('Pearsons correlation between num_languages and revenue: %.3f' % corr)\n",
    "corr, _ = pearsonr(np.log1p(train['num_languages']), np.log1p(train['revenue']))\n",
    "print('Pearsons correlation between num_languages and revenue: %.3f' % corr)"
   ]
  },
  {
   "cell_type": "markdown",
   "metadata": {},
   "source": [
    "### Status"
   ]
  },
  {
   "cell_type": "code",
   "execution_count": null,
   "metadata": {
    "scrolled": false
   },
   "outputs": [],
   "source": [
    "#status\n",
    "print(train.status.value_counts())"
   ]
  },
  {
   "cell_type": "markdown",
   "metadata": {},
   "source": [
    "All but 4 of the movies in the training set are released, so this variable is not very useful. Additionally, the goal of our model is to accurately predict box office success (revenue) regardless of if the movie is released or not. The model has use in predicting movies that have not released yet and will be trained on already released movies, therefore the release status is not useful and we will drop this column."
   ]
  },
  {
   "cell_type": "markdown",
   "metadata": {},
   "source": [
    "### Tagline"
   ]
  },
  {
   "cell_type": "markdown",
   "metadata": {},
   "source": [
    "#### Univariate Analysis"
   ]
  },
  {
   "cell_type": "code",
   "execution_count": null,
   "metadata": {
    "scrolled": true
   },
   "outputs": [],
   "source": [
    "print('Movies missing keywords:', train.tagline.isna().sum())"
   ]
  },
  {
   "cell_type": "code",
   "execution_count": null,
   "metadata": {},
   "outputs": [],
   "source": [
    "train['has_tagline'] = train.tagline.apply(lambda x: 1 if type(x) == str else 0)\n",
    "test['has_tagline'] = test.tagline.apply(lambda x: 1 if type(x) == str else 0)"
   ]
  },
  {
   "cell_type": "code",
   "execution_count": null,
   "metadata": {
    "scrolled": false
   },
   "outputs": [],
   "source": [
    "# plotting belongs to collection data\n",
    "labels = 'Has Tagline', 'Does not have Tagline'\n",
    "btc_1 = [sum(train.has_tagline), (train.has_tagline == 0).sum(axis=0)]\n",
    "explode = (0.1, 0)\n",
    "\n",
    "colors = ['palevioletred', 'lightpink']\n",
    "\n",
    "# plot\n",
    "fig, ax = plt.subplots(figsize=(10, 8))\n",
    "ax.pie(btc_1, explode=explode, autopct='%1.1f%%', shadow=True, startangle=90, colors=colors, textprops={'color':\"w\", 'fontsize': 22, 'weight':\"bold\"})\n",
    "ax.axis('equal') # ensures chart is a circle\n",
    "\n",
    "ax.legend(labels,\n",
    "          title=\"Legend\",\n",
    "          loc=\"center left\",\n",
    "          fontsize=14,\n",
    "          bbox_to_anchor=(0.8, 0.25, 0.5, 1))"
   ]
  },
  {
   "cell_type": "markdown",
   "metadata": {},
   "source": [
    "#### Bivariate Analysis"
   ]
  },
  {
   "cell_type": "code",
   "execution_count": null,
   "metadata": {
    "scrolled": true
   },
   "outputs": [],
   "source": [
    "pal1 = ['lightpink', 'palevioletred']\n",
    "\n",
    "sns.set(rc={'figure.figsize':(15, 8)})\n",
    "ax = sns.boxplot(x='has_tagline', y='revenue', data=train, palette=pal1)\n",
    "plt.title('Films by Revenue Based on Prescence of Tagline')\n",
    "plt.ylabel(\"Revenue\")\n",
    "plt.xlabel(\"Tagline Exists\")\n",
    "labels = 'Does not have tagline', 'Has tagline'\n",
    "ax.set_xticklabels(labels)"
   ]
  },
  {
   "cell_type": "code",
   "execution_count": null,
   "metadata": {},
   "outputs": [],
   "source": [
    "pal4 = ['lightpink', 'palevioletred']\n",
    "\n",
    "ax = sns.catplot(x='has_tagline', y='revenue', data=train, palette=pal4);\n",
    "plt.title('Revenue for films with a Tagline vs without a Tagline');\n",
    "\n",
    "labels = 'Does not have tagline', 'Has tagline'\n",
    "ax.set_xticklabels(labels)"
   ]
  },
  {
   "cell_type": "code",
   "execution_count": null,
   "metadata": {
    "scrolled": true
   },
   "outputs": [],
   "source": [
    "#analysis of correlation and create log feature\n",
    "corr, _ = pearsonr(train['has_tagline'], train['revenue'])\n",
    "print('Pearsons correlation between has_tagline and revenue: %.3f' % corr)\n",
    "corr, _ = pearsonr(train['has_tagline'], np.log1p(train['revenue']))\n",
    "print('Pearsons correlation between has_tagline and revenue: %.3f' % corr)"
   ]
  },
  {
   "cell_type": "code",
   "execution_count": null,
   "metadata": {},
   "outputs": [],
   "source": []
  },
  {
   "cell_type": "markdown",
   "metadata": {},
   "source": [
    "### Title"
   ]
  },
  {
   "cell_type": "markdown",
   "metadata": {},
   "source": [
    "#### Univariate Analysis"
   ]
  },
  {
   "cell_type": "code",
   "execution_count": null,
   "metadata": {
    "scrolled": false
   },
   "outputs": [],
   "source": [
    "print('Movies missing a title:',train.title.isna().sum())"
   ]
  },
  {
   "cell_type": "code",
   "execution_count": null,
   "metadata": {
    "scrolled": false
   },
   "outputs": [],
   "source": [
    "train.title.fillna('')\n",
    "test.title.fillna('')\n",
    "train['title_len'] = train.title.apply(lambda x: len(str(x)))\n",
    "test['title_len'] = test.title.apply(lambda x: len(str(x)))"
   ]
  },
  {
   "cell_type": "code",
   "execution_count": null,
   "metadata": {
    "scrolled": true
   },
   "outputs": [],
   "source": [
    "f, ax = plt.subplots(3, figsize=(10,6))\n",
    "\n",
    "sns.set(rc={'figure.figsize':(12,8)})\n",
    "sns.boxplot(x=train.title_len, ax = ax[0], color='burlywood')\n",
    "ax[0].set_title(\"Box Plot of title_len variable\")\n",
    "sns.distplot(a=train.title_len, kde = False, ax = ax[1], color='burlywood', hist_kws=dict(alpha=1))\n",
    "ax[1].set_title(\"Histogram of title_len variable\")\n",
    "sns.distplot(a=np.log1p(train.title_len), kde = False, ax = ax[2], color='burlywood', hist_kws=dict(alpha=1))\n",
    "ax[2].set_title(\"Log1p transformed title_len Histogram\")\n",
    "f.tight_layout()"
   ]
  },
  {
   "cell_type": "markdown",
   "metadata": {},
   "source": [
    "For the scope of this project, we do not look at the contents of the titles, so instead we create a new feature based on the length of the title. The plots above are the distributions of title lengths and then the log transformed distribution"
   ]
  },
  {
   "cell_type": "markdown",
   "metadata": {},
   "source": [
    "#### Bivariate Analysis"
   ]
  },
  {
   "cell_type": "code",
   "execution_count": null,
   "metadata": {
    "scrolled": true
   },
   "outputs": [],
   "source": [
    "#### Bivariate Analysisplt.figure(figsize=(16, 8))\n",
    "plt.subplot(1, 2, 1)\n",
    "plt.scatter(train['title_len'], train['revenue'], color='burlywood')\n",
    "plt.title('Revenue vs title_len');\n",
    "plt.subplot(1, 2, 2)\n",
    "plt.scatter(np.log1p(train['title_len']), np.log1p(train['revenue']), color='burlywood')\n",
    "plt.title('Log Revenue vs log title_len');"
   ]
  },
  {
   "cell_type": "code",
   "execution_count": null,
   "metadata": {
    "scrolled": true
   },
   "outputs": [],
   "source": [
    "# calculate Pearson's correlation\n",
    "corr, _ = pearsonr(train['title_len'], train['revenue'])\n",
    "print('Pearsons correlation: %.3f' % corr)"
   ]
  },
  {
   "cell_type": "markdown",
   "metadata": {},
   "source": [
    "### Keywords"
   ]
  },
  {
   "cell_type": "markdown",
   "metadata": {},
   "source": [
    "#### Univariate Analysis"
   ]
  },
  {
   "cell_type": "code",
   "execution_count": null,
   "metadata": {
    "scrolled": true
   },
   "outputs": [],
   "source": [
    "print('Movies missing keywords:', train.Keywords.isna().sum())"
   ]
  },
  {
   "cell_type": "code",
   "execution_count": null,
   "metadata": {},
   "outputs": [],
   "source": [
    "train['has_keywords'] = train.Keywords.apply(lambda x: 1 if type(x) == str else 0)\n",
    "test['has_keywords'] = test.Keywords.apply(lambda x: 1 if type(x) == str else 0)"
   ]
  },
  {
   "cell_type": "code",
   "execution_count": null,
   "metadata": {
    "scrolled": false
   },
   "outputs": [],
   "source": [
    "# plotting belongs to collection data\n",
    "labels = 'Has Keywords', 'Does not have Keywords'\n",
    "btc_1 = [sum(train.has_keywords), (train.has_keywords == 0).sum(axis=0)]\n",
    "explode = (0.1, 0)\n",
    "\n",
    "colors = ['seagreen', 'darkseagreen']\n",
    "\n",
    "# plot\n",
    "fig, ax = plt.subplots(figsize=(10, 8))\n",
    "ax.pie(btc_1, explode=explode, autopct='%1.1f%%', shadow=True, startangle=90, colors=colors, textprops={'color':\"w\", 'fontsize': 22, 'weight':\"bold\"})\n",
    "ax.axis('equal') # ensures chart is a circle\n",
    "\n",
    "ax.legend(labels,\n",
    "          title=\"Legend\",\n",
    "          loc=\"center left\",\n",
    "          fontsize=14,\n",
    "          bbox_to_anchor=(0.8, 0.25, 0.5, 1))\n"
   ]
  },
  {
   "cell_type": "markdown",
   "metadata": {},
   "source": [
    "#### Bivariate Analysis"
   ]
  },
  {
   "cell_type": "code",
   "execution_count": null,
   "metadata": {
    "scrolled": true
   },
   "outputs": [],
   "source": [
    "pal8 = ['darkseagreen', 'seagreen']\n",
    "\n",
    "sns.set(rc={'figure.figsize':(12, 6)})\n",
    "ax = sns.boxplot(x='has_keywords', y='revenue', data=train, palette=pal8)\n",
    "plt.title('Films by Revenue Based on Keywords')\n",
    "plt.ylabel(\"Revenue\")\n",
    "plt.xlabel(\"Keywords Exist\")\n",
    "\n",
    "labels = 'Does not have keywords', 'Has keywords'\n",
    "ax.set_xticklabels(labels)"
   ]
  },
  {
   "cell_type": "code",
   "execution_count": null,
   "metadata": {},
   "outputs": [],
   "source": [
    "pal5 = ['darkseagreen', 'seagreen']\n",
    "\n",
    "ax = sns.catplot(x='has_keywords', y='revenue', data=train, palette=pal5);\n",
    "plt.title('Revenue for films with Keywords vs without Keywords');\n",
    "\n",
    "labels = 'Does not have keywords', 'Has keywords'\n",
    "ax.set_xticklabels(labels)"
   ]
  },
  {
   "cell_type": "code",
   "execution_count": null,
   "metadata": {
    "scrolled": false
   },
   "outputs": [],
   "source": [
    "#analysis of correlation and create log feature\n",
    "corr, _ = pearsonr(train['has_keywords'], train['revenue'])\n",
    "print('Pearsons correlation between has_keywords and revenue: %.3f' % corr)\n",
    "corr, _ = pearsonr(train['has_keywords'], np.log1p(train['revenue']))\n",
    "print('Pearsons correlation between has_keywords and revenue: %.3f' % corr)"
   ]
  },
  {
   "cell_type": "code",
   "execution_count": null,
   "metadata": {},
   "outputs": [],
   "source": []
  },
  {
   "cell_type": "markdown",
   "metadata": {},
   "source": [
    "### Cast -----REORDER SECTION"
   ]
  },
  {
   "cell_type": "code",
   "execution_count": null,
   "metadata": {
    "scrolled": true
   },
   "outputs": [],
   "source": [
    "print('Movies missing a cast:',train.cast.isna().sum())"
   ]
  },
  {
   "cell_type": "code",
   "execution_count": null,
   "metadata": {
    "scrolled": false
   },
   "outputs": [],
   "source": [
    "#pre-processing\n",
    "train.cast = train.cast.fillna(\"\")\n",
    "train['cast_processed'] = train['cast'].apply(lambda x: re.findall(\"'name': \\'(.+?)\\'\", x))\n",
    "test.cast = test.cast.fillna(\"\")\n",
    "test['cast_processed'] = test['cast'].apply(lambda x: re.findall(\"'name': \\'(.+?)\\'\", x))"
   ]
  },
  {
   "cell_type": "code",
   "execution_count": null,
   "metadata": {
    "scrolled": false
   },
   "outputs": [],
   "source": [
    "# explain preprocessing and how we will be using the cast variable\n"
   ]
  },
  {
   "cell_type": "code",
   "execution_count": null,
   "metadata": {},
   "outputs": [],
   "source": [
    "train['num_cast'] = train['cast_processed'].apply(lambda x: len(x))\n",
    "test['num_cast'] = test['cast_processed'].apply(lambda x: len(x))\n",
    "train['num_cast'].value_counts()"
   ]
  },
  {
   "cell_type": "code",
   "execution_count": null,
   "metadata": {},
   "outputs": [],
   "source": [
    "f, ax = plt.subplots(3, figsize=(10,6))\n",
    "\n",
    "sns.set(rc={'figure.figsize':(12,8)})\n",
    "sns.boxplot(x=train.num_cast, ax = ax[0], color='darkslateblue')\n",
    "ax[0].set_title(\"Box Plot of num_cast variable\")\n",
    "sns.distplot(a=train.num_cast, kde = False, ax = ax[1], color='darkslateblue', hist_kws=dict(alpha=1))\n",
    "ax[1].set_title(\"Histogram of num_cast variable\")\n",
    "sns.distplot(a=np.log1p(train.num_cast), kde = False, ax = ax[2], color='darkslateblue', hist_kws=dict(alpha=1))\n",
    "ax[2].set_title(\"Log1p transformed num_cast Histogram\")\n",
    "f.tight_layout()"
   ]
  },
  {
   "cell_type": "code",
   "execution_count": null,
   "metadata": {},
   "outputs": [],
   "source": [
    "plt.figure(figsize=(16, 8))\n",
    "plt.subplot(1, 2, 1)\n",
    "plt.scatter(train['num_cast'], train['revenue'], color='darkslateblue')\n",
    "plt.title('Revenue vs num_cast');\n",
    "plt.subplot(1, 2, 2)\n",
    "plt.scatter(np.log1p(train['num_cast']), np.log1p(train['revenue']), color='darkslateblue')\n",
    "plt.title('Log Revenue vs log num_cast');"
   ]
  },
  {
   "cell_type": "code",
   "execution_count": null,
   "metadata": {},
   "outputs": [],
   "source": [
    "# calculate Pearson's correlation\n",
    "corr, _ = pearsonr(train['num_cast'], train['revenue'])\n",
    "print('Pearsons correlation: %.3f' % corr)\n",
    "corr, _ = pearsonr(np.log1p(train['num_cast']), np.log1p(train['revenue']))\n",
    "print('Pearsons correlation: %.3f' % corr)"
   ]
  },
  {
   "cell_type": "code",
   "execution_count": null,
   "metadata": {},
   "outputs": [],
   "source": [
    "train['log_num_cast'] =  np.log1p(train['num_cast'])\n",
    "test['log_num_cast'] =  np.log1p(test['num_cast'])"
   ]
  },
  {
   "cell_type": "code",
   "execution_count": null,
   "metadata": {},
   "outputs": [],
   "source": []
  },
  {
   "cell_type": "code",
   "execution_count": null,
   "metadata": {
    "scrolled": true
   },
   "outputs": [],
   "source": [
    "actorsDict = {}\n",
    "for element in train[[\"revenue\", \"cast_processed\"]].values:\n",
    "    \n",
    "    for actor in element[1]:\n",
    "        if actor not in actorsDict:\n",
    "            actorsDict[actor] = [element[0], 1]\n",
    "        else:\n",
    "            actorsDict[actor][0] += element[0]\n",
    "            actorsDict[actor][1] += 1    \n",
    "\n",
    "actorsDict = {k: v for k, v in actorsDict.items() if v[1] >= 5}\n",
    "\n",
    "for actor in actorsDict:\n",
    "    actorsDict[actor][0] = actorsDict[actor][0]/actorsDict[actor][1]\n",
    "    actorsDict[actor] = actorsDict[actor][0]\n",
    "\n",
    "\n",
    "    \n",
    "    \n",
    "actors_train = pd.DataFrame.from_dict(actorsDict, orient='index', columns=[\"mean_movies_revenue\"])\n",
    "actors_train.sort_values(by=\"mean_movies_revenue\", ascending=False).head(20).plot.bar(color='darkslateblue')"
   ]
  },
  {
   "cell_type": "markdown",
   "metadata": {},
   "source": [
    "This is a plot of the top 20 actors based on average box office revenue. This list is not very reliable, as it factors in anyone in the cast, meaning cameos are factored in. As shown by the plot, Stan Lee is at the top of the list, however he never holds a significant role in movies, but tends to have cameos in very successful movies, putting him above much more notable actors/actresses."
   ]
  },
  {
   "cell_type": "code",
   "execution_count": null,
   "metadata": {
    "scrolled": false
   },
   "outputs": [],
   "source": [
    "#cast\n",
    "\n",
    "actorsDict = {}\n",
    "for element in train[[\"revenue\", \"cast_processed\"]].values:\n",
    "   # compare results when looking at x top actors in films vs whole cast \n",
    "    temp = 5\n",
    "    if len(element[1]) < temp:\n",
    "        temp = len(element[1])\n",
    "    for i in range(temp):\n",
    "        if element[1][i] not in actorsDict:\n",
    "            actorsDict[element[1][i]] = [element[0], 1]\n",
    "        else:\n",
    "            actorsDict[element[1][i]][0] += element[0]\n",
    "            actorsDict[element[1][i]][1] += 1    \n",
    "\n",
    "actorsDict = {k: v for k, v in actorsDict.items() if v[1] >= 5}\n",
    "\n",
    "for actor in actorsDict:\n",
    "    actorsDict[actor][0] = actorsDict[actor][0]/actorsDict[actor][1]\n",
    "    actorsDict[actor] = actorsDict[actor][0]\n",
    "\n",
    "\n",
    "    \n",
    "    \n",
    "actors_train = pd.DataFrame.from_dict(actorsDict, orient='index', columns=[\"mean_movies_revenue\"])\n",
    "actors_train.sort_values(by=\"mean_movies_revenue\", ascending=False).head(25).plot.bar(color='darkslateblue')"
   ]
  },
  {
   "cell_type": "code",
   "execution_count": null,
   "metadata": {
    "scrolled": false
   },
   "outputs": [],
   "source": [
    "#analysis\n"
   ]
  },
  {
   "cell_type": "code",
   "execution_count": null,
   "metadata": {
    "scrolled": false
   },
   "outputs": [],
   "source": [
    "leadActorsDict = {}\n",
    "for element in train[[\"revenue\", \"cast_processed\"]].values:\n",
    "   # compare results when looking at x top actors in films vs whole cast \n",
    "    temp = 1\n",
    "    if len(element[1]) < temp:\n",
    "        temp = len(element[1])\n",
    "    for i in range(temp):\n",
    "        if element[1][i] not in leadActorsDict:\n",
    "            leadActorsDict[element[1][i]] = [element[0], 1]\n",
    "        else:\n",
    "            leadActorsDict[element[1][i]][0] += element[0]\n",
    "            leadActorsDict[element[1][i]][1] += 1    \n",
    "\n",
    "leadActorsDict = {k: v for k, v in leadActorsDict.items() if v[1] >= 5}\n",
    "\n",
    "for actor in leadActorsDict:\n",
    "    leadActorsDict[actor][0] = leadActorsDict[actor][0]/leadActorsDict[actor][1]\n",
    "    leadActorsDict[actor] = leadActorsDict[actor][0]\n",
    "\n",
    "\n",
    "    \n",
    "    \n",
    "actors_train = pd.DataFrame.from_dict(leadActorsDict, orient='index', columns=[\"mean_movies_revenue\"])\n",
    "actors_train.sort_values(by=\"mean_movies_revenue\", ascending=False).head(25).plot.bar(color='darkslateblue')\n"
   ]
  },
  {
   "cell_type": "markdown",
   "metadata": {},
   "source": [
    "This is a plot of the top 50 actors as a LEAD actor, meaning the first one credited for a film. This could be a useful feature as these actors have proven success as a lead role."
   ]
  },
  {
   "cell_type": "code",
   "execution_count": null,
   "metadata": {
    "scrolled": false
   },
   "outputs": [],
   "source": []
  },
  {
   "cell_type": "markdown",
   "metadata": {},
   "source": [
    "Because of how drastically different the results are depending on if you only look at the lead actor, compared to several of the lead actors, we will create a feature for each. \n",
    "\n",
    "The first feature will be a dummy variable representing simply whether or not the lead actor of the movie is a 'top lead actor'. The second feature will be a count of how many 'top actors' the movie has in it's cast, limiting to only the top 5 actors of the cast to only factor in significant roles and not cameos. \n",
    "\n",
    "We decided to classify a 'top actor' as an actor in the top 50 for the lead actor, and top 100 for all actors, ranked based on average box office revenue of past movies."
   ]
  },
  {
   "cell_type": "code",
   "execution_count": null,
   "metadata": {
    "scrolled": true
   },
   "outputs": [],
   "source": [
    "# Sort both of our dicts of actors and lead actors to more easily access the 'top actors'\n",
    "leadActorsDict = {k: v for k, v in sorted(leadActorsDict.items(), key=lambda item: item[1], reverse = True)}\n",
    "actorsDict = {k: v for k, v in sorted(actorsDict.items(), key=lambda item: item[1], reverse = True)}\n",
    "\n",
    "\n",
    "# function to check if lead role is a 'top actor'\n",
    "def checkLeadActor(cast):\n",
    "    if len(cast) < 1 or cast[0] not in list(leadActorsDict)[:25]:\n",
    "        return 0\n",
    "    else:\n",
    "        return 1\n",
    "\n",
    "def checkTopActors(cast):\n",
    "    if len(cast) < 1:\n",
    "        return 0\n",
    "    count = 0\n",
    "    for actor in cast[:5]:\n",
    "        if actor in list(actorsDict)[:100]:\n",
    "            count += 1\n",
    "    return count\n",
    "\n",
    "#Creating a feature for top LEAD actors\n",
    "train['topLeadActor'] = train['cast_processed'].apply(lambda x: checkLeadActor(x))\n",
    "test['topLeadActor'] = test['cast_processed'].apply(lambda x: checkLeadActor(x))\n",
    "#Creating feature for number of top actors\n",
    "train['numTopActors'] = train['cast_processed'].apply(lambda x: checkTopActors(x))\n",
    "test['numTopActors'] = test['cast_processed'].apply(lambda x: checkTopActors(x))\n",
    "\n",
    "print(train['topLeadActor'].value_counts())\n",
    "print()\n",
    "print(train['numTopActors'].value_counts())"
   ]
  },
  {
   "cell_type": "markdown",
   "metadata": {},
   "source": [
    "These results are questionable and our methods need further inspection. It seems a bit odd that the overwhelming majority of movies don't have a single 'top actor', but there are plenty of actors so maybe this is accurate. There is a lot of fluctuation in the results based on changing any single one of the variables, so this should be analyzed more closely before moving on."
   ]
  },
  {
   "cell_type": "code",
   "execution_count": null,
   "metadata": {
    "scrolled": false
   },
   "outputs": [],
   "source": [
    "# plotting original data\n",
    "labels = 'Top Actor in Lead Role', 'Not in a Top Actor in Lead Role'\n",
    "btc_1 = [sum(train.topLeadActor), (train.topLeadActor == 0).sum(axis=0)]\n",
    "explode = (0.1, 0)\n",
    "\n",
    "colors = ['darkslateblue', 'thistle']\n",
    "\n",
    "fig, ax = plt.subplots()\n",
    "plt.pie(btc_1, explode=explode, autopct='%1.1f%%', shadow=True, startangle=90, colors=colors, textprops={'color':\"w\", 'fontsize': 22, 'weight':\"bold\"})\n",
    "plt.axis('equal') # ensures chart is a circle\n",
    "\n",
    "ax.legend(labels,\n",
    "          title=\"Legend\",\n",
    "          loc=\"center left\",\n",
    "          fontsize=14,\n",
    "          bbox_to_anchor=(0.8, 0.25, 0.5, 1))\n",
    "\n",
    "\n",
    "plt.show()"
   ]
  },
  {
   "cell_type": "code",
   "execution_count": null,
   "metadata": {
    "scrolled": false
   },
   "outputs": [],
   "source": [
    "pal6 = ['thistle', 'darkslateblue']\n",
    "\n",
    "ax = sns.catplot(x='topLeadActor', y='revenue', data=train, palette=pal6);\n",
    "plt.title('Revenue for films produced in the USA vs produced in other countries');\n",
    "\n",
    "labels = 'Not in a Top Actor in Lead Role', 'Top Actor in Lead Role'\n",
    "ax.set_xticklabels(labels)"
   ]
  },
  {
   "cell_type": "code",
   "execution_count": null,
   "metadata": {
    "scrolled": false
   },
   "outputs": [],
   "source": [
    "# calculate Pearson's correlation\n",
    "corr, _ = pearsonr(train['topLeadActor'], train['revenue'])\n",
    "print('Pearsons correlation: %.3f' % corr)"
   ]
  },
  {
   "cell_type": "code",
   "execution_count": null,
   "metadata": {
    "scrolled": false
   },
   "outputs": [],
   "source": []
  },
  {
   "cell_type": "code",
   "execution_count": null,
   "metadata": {
    "scrolled": false
   },
   "outputs": [],
   "source": [
    "sns.set(rc={'figure.figsize':(12,8)})\n",
    "sns.countplot(x=train.numTopActors, color='darkslateblue')"
   ]
  },
  {
   "cell_type": "code",
   "execution_count": null,
   "metadata": {
    "scrolled": false
   },
   "outputs": [],
   "source": [
    "sns.catplot(x='numTopActors', y='revenue', data=train, color='darkslateblue');\n",
    "plt.title('Revenue for films produced in the USA vs produced in other countries');"
   ]
  },
  {
   "cell_type": "code",
   "execution_count": null,
   "metadata": {
    "scrolled": false
   },
   "outputs": [],
   "source": [
    "# calculate Pearson's correlation\n",
    "corr, _ = pearsonr(train['numTopActors'], train['revenue'])\n",
    "print('Pearsons correlation: %.3f' % corr)\n",
    "corr, _ = pearsonr(np.log1p(train['numTopActors']), np.log1p((train['revenue'])))\n",
    "print('Pearsons correlation: %.3f' % corr)"
   ]
  },
  {
   "cell_type": "markdown",
   "metadata": {},
   "source": [
    "#### Univariate Analysis"
   ]
  },
  {
   "cell_type": "code",
   "execution_count": null,
   "metadata": {},
   "outputs": [],
   "source": []
  },
  {
   "cell_type": "markdown",
   "metadata": {},
   "source": [
    "#### Bivariate Analysis"
   ]
  },
  {
   "cell_type": "code",
   "execution_count": null,
   "metadata": {},
   "outputs": [],
   "source": []
  },
  {
   "cell_type": "markdown",
   "metadata": {},
   "source": [
    "### Crew"
   ]
  },
  {
   "cell_type": "markdown",
   "metadata": {},
   "source": [
    "#### Univariate Analysis"
   ]
  },
  {
   "cell_type": "code",
   "execution_count": null,
   "metadata": {},
   "outputs": [],
   "source": [
    "# pre-processing\n",
    "train.crew = train.crew.fillna(\"\")\n",
    "train['crew_processed'] = train['crew'].apply(lambda x: re.findall(\"'name': \\'(.+?)\\'\", x))"
   ]
  },
  {
   "cell_type": "code",
   "execution_count": null,
   "metadata": {},
   "outputs": [],
   "source": [
    "train.crew.head()"
   ]
  },
  {
   "cell_type": "code",
   "execution_count": null,
   "metadata": {},
   "outputs": [],
   "source": [
    "train.crew.describe()"
   ]
  },
  {
   "cell_type": "markdown",
   "metadata": {},
   "source": [
    "#### General Crew Features"
   ]
  },
  {
   "cell_type": "code",
   "execution_count": null,
   "metadata": {},
   "outputs": [],
   "source": [
    "# new feature for a count of the number of crew\n",
    "train['crew']= train['crew'].fillna(\"\")\n",
    "train[\"num_crew\"] = train[\"crew\"].str.count(\"'job\")\n",
    "\n",
    "test['crew']= test['crew'].fillna(\"\")\n",
    "test[\"num_crew\"] = test[\"crew\"].str.count(\"'job\")\n",
    "\n",
    "f, ax = plt.subplots(3, figsize=(12,7))\n",
    "\n",
    "# plot\n",
    "sns.boxplot(x=train.num_crew, ax = ax[0], color='salmon')\n",
    "ax[0].set_title(\"num_crew Boxplot\")\n",
    "\n",
    "sns.distplot(a=train.num_crew, kde = False, ax = ax[1], color='salmon', hist_kws=dict(alpha=1))\n",
    "ax[1].set_title(\"num_crew Histogram\")\n",
    "\n",
    "sns.distplot(a=np.log1p(train.num_crew), kde = False, ax = ax[2], color='salmon', hist_kws=dict(alpha=1))\n",
    "ax[2].set_title(\"Log1p transformed num_crew Histogram\")\n",
    "\n",
    "f.tight_layout()\n"
   ]
  },
  {
   "cell_type": "code",
   "execution_count": null,
   "metadata": {},
   "outputs": [],
   "source": [
    "#analysis of correlation and create log feature\n",
    "corr, _ = pearsonr(train['num_crew'], train['revenue'])\n",
    "print('Pearsons correlation between num_crew and revenue: %.3f' % corr)\n",
    "corr, _ = pearsonr(np.log1p(train['num_crew']), np.log1p(train['revenue']))\n",
    "print('Pearsons correlation between num_crew and revenue: %.3f' % corr)"
   ]
  },
  {
   "cell_type": "code",
   "execution_count": null,
   "metadata": {},
   "outputs": [],
   "source": []
  },
  {
   "cell_type": "code",
   "execution_count": null,
   "metadata": {},
   "outputs": [],
   "source": [
    "# male crew\n",
    "train[\"num_male_crew\"] = train[\"crew\"].str.count(\"'gender': 2\")\n",
    "test[\"num_male_crew\"] = test[\"crew\"].str.count(\"'gender': 2\")\n",
    "\n",
    "f, ax = plt.subplots(3, figsize=(12,7))\n",
    "\n",
    "train.num_male_crew = train.num_male_crew.fillna(0)\n",
    "test.num_male_crew = test.num_crew.fillna(0)\n",
    "\n",
    "# plot\n",
    "sns.boxplot(x=train.num_male_crew, ax = ax[0], color='salmon')\n",
    "ax[0].set_title(\"num_male_crew Boxplot\")\n",
    "\n",
    "sns.distplot(a=train.num_male_crew, kde = False, ax = ax[1], color='salmon', hist_kws=dict(alpha=1))\n",
    "ax[1].set_title(\"num_male_crew Histogram\")\n",
    "\n",
    "sns.distplot(a=np.log1p(train.num_male_crew), kde = False, ax = ax[2], color='salmon', hist_kws=dict(alpha=1))\n",
    "ax[2].set_title(\"Log1p transformed num_male_crew Histogram\")\n",
    "\n",
    "f.tight_layout()\n"
   ]
  },
  {
   "cell_type": "code",
   "execution_count": null,
   "metadata": {},
   "outputs": [],
   "source": [
    "#analysis of correlation and create log feature\n",
    "corr, _ = pearsonr(train['num_male_crew'], train['revenue'])\n",
    "print('Pearsons correlation between num_male_crew and revenue: %.3f' % corr)\n",
    "corr, _ = pearsonr(np.log1p(train['num_male_crew']), np.log1p(train['revenue']))\n",
    "print('Pearsons correlation between num_male_crew and revenue: %.3f' % corr)"
   ]
  },
  {
   "cell_type": "code",
   "execution_count": null,
   "metadata": {},
   "outputs": [],
   "source": []
  },
  {
   "cell_type": "code",
   "execution_count": null,
   "metadata": {},
   "outputs": [],
   "source": [
    "# female crew\n",
    "train[\"num_female_crew\"] = train[\"crew\"].str.count(\"'gender': 1\")\n",
    "test[\"num_female_crew\"] = test[\"crew\"].str.count(\"'gender': 1\")\n",
    "\n",
    "f, ax = plt.subplots(3, figsize=(12,7))\n",
    "\n",
    "train.num_male_crew = train.num_male_crew.fillna(0)\n",
    "test.num_male_crew = test.num_crew.fillna(0)\n",
    "\n",
    "# plot\n",
    "sns.boxplot(x=train.num_female_crew, ax = ax[0], color='salmon')\n",
    "ax[0].set_title(\"num_female_crew Boxplot\")\n",
    "\n",
    "sns.distplot(a=train.num_female_crew, kde = False, ax = ax[1], color='salmon', hist_kws=dict(alpha=1))\n",
    "ax[1].set_title(\"num_female_crew Histogram\")\n",
    "\n",
    "sns.distplot(a=np.log1p(train.num_female_crew), kde = False, ax = ax[2], color='salmon', hist_kws=dict(alpha=1))\n",
    "ax[2].set_title(\"Log1p transformed num_female_crew Histogram\")\n",
    "\n",
    "f.tight_layout()\n"
   ]
  },
  {
   "cell_type": "code",
   "execution_count": null,
   "metadata": {
    "scrolled": true
   },
   "outputs": [],
   "source": [
    "#analysis of correlation and create log feature\n",
    "corr, _ = pearsonr(train['num_female_crew'], train['revenue'])\n",
    "print('Pearsons correlation between num_female_crew and revenue: %.3f' % corr)\n",
    "corr, _ = pearsonr(np.log1p(train['num_female_crew']), np.log1p(train['revenue']))\n",
    "print('Pearsons correlation between num_female_crew and revenue: %.3f' % corr)"
   ]
  },
  {
   "cell_type": "code",
   "execution_count": null,
   "metadata": {},
   "outputs": [],
   "source": []
  },
  {
   "cell_type": "markdown",
   "metadata": {},
   "source": [
    "#### Bivariate Analysis"
   ]
  },
  {
   "cell_type": "markdown",
   "metadata": {},
   "source": [
    "#### Specific Crew Features by Revenue"
   ]
  },
  {
   "cell_type": "code",
   "execution_count": null,
   "metadata": {},
   "outputs": [],
   "source": [
    "# bivariate directors\n",
    "train['directors'] = train['crew'].apply(lambda x: re.findall(\"Director', 'name': '(.+?)'\", x))\n",
    "test['directors'] = test['crew'].apply(lambda x: re.findall(\"Director', 'name': '(.+?)'\", x))\n",
    "\n",
    "directorsDict = {}\n",
    "for element in train[[\"revenue\", \"directors\"]].values:\n",
    "\n",
    "    for director in element[1]:\n",
    "        if director not in directorsDict:\n",
    "            directorsDict[director] = [element[0], 1]\n",
    "        else:\n",
    "            directorsDict[director][0] += element[0]\n",
    "            directorsDict[director][1] += 1\n",
    "\n",
    "directorsDict = {k: v for k, v in directorsDict.items() if v[1] >= 5}\n",
    "\n",
    "for director in directorsDict:\n",
    "    directorsDict[director][0] = directorsDict[director][0]/directorsDict[director][1]\n",
    "    directorsDict[director] = directorsDict[director][0]\n",
    "\n",
    "    \n",
    "directors_train = pd.DataFrame.from_dict(directorsDict, orient='index', columns=[\"mean_movies_revenue\"])\n",
    "directors_train.sort_values(by=\"mean_movies_revenue\", ascending=False).head(25).plot.bar(color='salmon')\n",
    "\n",
    "directors_train.columns = [\"number_of_directors\"]"
   ]
  },
  {
   "cell_type": "markdown",
   "metadata": {},
   "source": [
    "The plot above shows the top 25 directors by mean revenue for all of the movies they have produced. Because of the goal of the project to predict box office totals for an unknown example, ranking directors in order of their box office success will allow us to create a feature indicative of whether a top director is associated with a movie or not. Given that these directors are the more influential toward revenue in the training set of data, denoting their presence in test data should be a good predictor of future success. This obviously doesn't account for flubs. Botched films can come from great directors, but are likely outliers more than the norm. It is hypothesized that more successful directors with respect to revenue will be an influential factor in predicting the success of their future film projects."
   ]
  },
  {
   "cell_type": "code",
   "execution_count": null,
   "metadata": {},
   "outputs": [],
   "source": [
    "leadDirectorsDict = {}\n",
    "for element in train[[\"revenue\", \"directors\"]].values:\n",
    "   # compare results when looking at x top directors in films vs whole cast \n",
    "    temp = 1\n",
    "    if len(element[1]) < temp:\n",
    "        temp = len(element[1])\n",
    "    for i in range(temp):\n",
    "        if element[1][i] not in leadDirectorsDict:\n",
    "            leadDirectorsDict[element[1][i]] = [element[0], 1]\n",
    "        else:\n",
    "            leadDirectorsDict[element[1][i]][0] += element[0]\n",
    "            leadDirectorsDict[element[1][i]][1] += 1    \n",
    "\n",
    "leadDirectorsDict = {k: v for k, v in leadDirectorsDict.items() if v[1] >= 5}\n",
    "\n",
    "for director in leadDirectorsDict:\n",
    "    leadDirectorsDict[director][0] = leadDirectorsDict[director][0]/leadDirectorsDict[director][1]\n",
    "    leadDirectorsDict[director] = leadDirectorsDict[director][0]\n",
    "\n",
    "\n",
    "    \n",
    "    \n",
    "directors_train = pd.DataFrame.from_dict(leadDirectorsDict, orient='index', columns=[\"mean_movies_revenue\"])\n",
    "directors_train.sort_values(by=\"mean_movies_revenue\", ascending=False).head(25).plot.bar(color='salmon')\n"
   ]
  },
  {
   "cell_type": "code",
   "execution_count": null,
   "metadata": {},
   "outputs": [],
   "source": [
    "# Sort both of our dicts\n",
    "leadDirectorsDict = {k: v for k, v in sorted(leadDirectorsDict.items(), key=lambda item: item[1], reverse = True)}\n",
    "directorsDict = {k: v for k, v in sorted(directorsDict.items(), key=lambda item: item[1], reverse = True)}\n",
    "\n",
    "\n",
    "# function to check if lead role is a 'top director'\n",
    "def checkLeadDirector(crew):\n",
    "    if len(crew) < 1 or crew[0] not in list(leadDirectorsDict)[:25]:\n",
    "        return 0\n",
    "    else:\n",
    "        return 1\n",
    "\n",
    "def checkTopDirectors(crew):\n",
    "    if len(crew) < 1:\n",
    "        return 0\n",
    "    count = 0\n",
    "    for director in crew[:5]:\n",
    "        if director in list(directorsDict)[:100]:\n",
    "            count += 1\n",
    "    return count\n",
    "\n",
    "#Creating a feature for top LEAD directors\n",
    "train['topLeadDirector'] = train['directors'].apply(lambda x: checkLeadDirector(x))\n",
    "test['topLeadDirector'] = test['directors'].apply(lambda x: checkLeadDirector(x))\n",
    "\n",
    "#Creating feature for number of top directors\n",
    "train['numTopDirectors'] = train['directors'].apply(lambda x: checkTopDirectors(x))\n",
    "test['numTopDirectors'] = test['directors'].apply(lambda x: checkTopDirectors(x))\n",
    "\n",
    "\n",
    "print(train['topLeadDirector'].value_counts())\n",
    "print()\n",
    "print(train['numTopDirectors'].value_counts())"
   ]
  },
  {
   "cell_type": "code",
   "execution_count": null,
   "metadata": {},
   "outputs": [],
   "source": []
  },
  {
   "cell_type": "code",
   "execution_count": null,
   "metadata": {},
   "outputs": [],
   "source": [
    "# bivariate executive producers\n",
    "train['exec_producers'] = train['crew'].apply(lambda x: re.findall(\"Executive Producer', 'name': '(.+?)'\", x))\n",
    "test['exec_producers'] = test['crew'].apply(lambda x: re.findall(\"Executive Producer', 'name': '(.+?)'\", x))\n",
    "\n",
    "exec_producersDict = {}\n",
    "for element in train[[\"revenue\", \"exec_producers\"]].values:\n",
    "\n",
    "    for exec_producer in element[1]:\n",
    "        if exec_producer not in exec_producersDict:\n",
    "            exec_producersDict[exec_producer] = [element[0], 1]\n",
    "        else:\n",
    "            exec_producersDict[exec_producer][0] += element[0]\n",
    "            exec_producersDict[exec_producer][1] += 1\n",
    "\n",
    "exec_producersDict = {k: v for k, v in exec_producersDict.items() if v[1] >= 5}\n",
    "\n",
    "for exec_producer in exec_producersDict:\n",
    "    exec_producersDict[exec_producer][0] = exec_producersDict[exec_producer][0]/exec_producersDict[exec_producer][1]\n",
    "    exec_producersDict[exec_producer] = exec_producersDict[exec_producer][0]\n",
    "\n",
    "\n",
    "\n",
    "\n",
    "exec_producers_train = pd.DataFrame.from_dict(exec_producersDict, orient='index', columns=[\"mean_movies_revenue\"])\n",
    "exec_producers_train.sort_values(by=\"mean_movies_revenue\", ascending=False).head(25).plot.bar(color='salmon')"
   ]
  },
  {
   "cell_type": "markdown",
   "metadata": {},
   "source": [
    "Similarly to the top directors by revenue, the top executive producers by revenue should be a good feature for determining the future success of a film with the same crew. Executive producers are merely another important instance of analyzing the impact of crew members on predicting box office totals. This can be done with any category of crew member."
   ]
  },
  {
   "cell_type": "code",
   "execution_count": null,
   "metadata": {},
   "outputs": [],
   "source": [
    "leadExecProdDict = {}\n",
    "for element in train[[\"revenue\", \"exec_producers\"]].values:\n",
    "   # compare results when looking at x top exec producers in films vs whole cast \n",
    "    temp = 1\n",
    "    if len(element[1]) < temp:\n",
    "        temp = len(element[1])\n",
    "    for i in range(temp):\n",
    "        if element[1][i] not in leadExecProdDict:\n",
    "            leadExecProdDict[element[1][i]] = [element[0], 1]\n",
    "        else:\n",
    "            leadExecProdDict[element[1][i]][0] += element[0]\n",
    "            leadExecProdDict[element[1][i]][1] += 1    \n",
    "\n",
    "leadExecProdDict = {k: v for k, v in leadExecProdDict.items() if v[1] >= 5}\n",
    "\n",
    "for exec_producer in leadExecProdDict:\n",
    "    leadExecProdDict[exec_producer][0] = leadExecProdDict[exec_producer][0]/leadExecProdDict[exec_producer][1]\n",
    "    leadExecProdDict[exec_producer] = leadExecProdDict[exec_producer][0]\n",
    "\n",
    "\n",
    "    \n",
    "    \n",
    "exec_producers_train = pd.DataFrame.from_dict(leadExecProdDict, orient='index', columns=[\"mean_movies_revenue\"])\n",
    "exec_producers_train.sort_values(by=\"mean_movies_revenue\", ascending=False).head(25).plot.bar(color='salmon')\n"
   ]
  },
  {
   "cell_type": "code",
   "execution_count": null,
   "metadata": {},
   "outputs": [],
   "source": [
    "# Sort both of our dicts\n",
    "leadExecProdDict = {k: v for k, v in sorted(leadExecProdDict.items(), key=lambda item: item[1], reverse = True)}\n",
    "exec_producersDict = {k: v for k, v in sorted(exec_producersDict.items(), key=lambda item: item[1], reverse = True)}\n",
    "\n",
    "\n",
    "# function to check if lead role is a 'top director'\n",
    "def checkLeadExecProd(crew):\n",
    "    if len(crew) < 1 or crew[0] not in list(leadExecProdDict)[:25]:\n",
    "        return 0\n",
    "    else:\n",
    "        return 1\n",
    "\n",
    "def checkTopExecProd(crew):\n",
    "    if len(crew) < 1:\n",
    "        return 0\n",
    "    count = 0\n",
    "    for director in crew[:5]:\n",
    "        if director in list(exec_producersDict)[:100]:\n",
    "            count += 1\n",
    "    return count\n",
    "\n",
    "#Creating a feature for top LEAD execprod\n",
    "train['topLeadExecProd'] = train['exec_producers'].apply(lambda x: checkLeadExecProd(x))\n",
    "test['topLeadExecProd'] = test['exec_producers'].apply(lambda x: checkLeadExecProd(x))\n",
    "\n",
    "#Creating feature for number of top execprod\n",
    "train['numTopExecProd'] = train['exec_producers'].apply(lambda x: checkTopExecProd(x))\n",
    "test['numTopExecProd'] = test['exec_producers'].apply(lambda x: checkTopExecProd(x))\n",
    "\n",
    "\n",
    "print(train['topLeadExecProd'].value_counts())\n",
    "print()\n",
    "print(train['numTopExecProd'].value_counts())"
   ]
  },
  {
   "cell_type": "code",
   "execution_count": null,
   "metadata": {},
   "outputs": [],
   "source": []
  },
  {
   "cell_type": "code",
   "execution_count": null,
   "metadata": {},
   "outputs": [],
   "source": [
    "# bivariate producers\n",
    "train['producers'] = train['crew'].apply(lambda x: re.findall(\"Producer', 'name': '(.+?)'\", x))\n",
    "test['producers'] = test['crew'].apply(lambda x: re.findall(\"Producer', 'name': '(.+?)'\", x))\n",
    "\n",
    "producersDict = {}\n",
    "for element in train[[\"revenue\", \"producers\"]].values:\n",
    "\n",
    "    for producer in element[1]:\n",
    "        if producer not in producersDict:\n",
    "            producersDict[producer] = [element[0], 1]\n",
    "        else:\n",
    "            producersDict[producer][0] += element[0]\n",
    "            producersDict[producer][1] += 1\n",
    "\n",
    "producersDict = {k: v for k, v in producersDict.items() if v[1] >= 5}\n",
    "\n",
    "for producer in producersDict:\n",
    "    producersDict[producer][0] = producersDict[producer][0]/producersDict[producer][1]\n",
    "    producersDict[producer] = producersDict[producer][0]\n",
    "\n",
    "\n",
    "\n",
    "\n",
    "producers_train = pd.DataFrame.from_dict(producersDict, orient='index', columns=[\"mean_movies_revenue\"])\n",
    "producers_train.sort_values(by=\"mean_movies_revenue\", ascending=False).head(25).plot.bar(color='salmon')"
   ]
  },
  {
   "cell_type": "markdown",
   "metadata": {},
   "source": [
    "Changing the search from \"Executive Producer\" to \"Producer\" provides different results with some similar/overlapping data."
   ]
  },
  {
   "cell_type": "code",
   "execution_count": null,
   "metadata": {},
   "outputs": [],
   "source": [
    "leadProducerDict = {}\n",
    "for element in train[[\"revenue\", \"producers\"]].values:\n",
    "   # compare results when looking at x top producers in films vs whole cast \n",
    "    temp = 1\n",
    "    if len(element[1]) < temp:\n",
    "        temp = len(element[1])\n",
    "    for i in range(temp):\n",
    "        if element[1][i] not in leadProducerDict:\n",
    "            leadProducerDict[element[1][i]] = [element[0], 1]\n",
    "        else:\n",
    "            leadProducerDict[element[1][i]][0] += element[0]\n",
    "            leadProducerDict[element[1][i]][1] += 1    \n",
    "\n",
    "leadProducerDict = {k: v for k, v in leadProducerDict.items() if v[1] >= 5}\n",
    "\n",
    "for producer in leadProducerDict:\n",
    "    leadProducerDict[producer][0] = leadProducerDict[producer][0]/leadProducerDict[producer][1]\n",
    "    leadProducerDict[producer] = leadProducerDict[producer][0]\n",
    "\n",
    "\n",
    "    \n",
    "    \n",
    "producers_train = pd.DataFrame.from_dict(leadProducerDict, orient='index', columns=[\"mean_movies_revenue\"])\n",
    "producers_train.sort_values(by=\"mean_movies_revenue\", ascending=False).head(25).plot.bar(color='salmon')\n"
   ]
  },
  {
   "cell_type": "code",
   "execution_count": null,
   "metadata": {},
   "outputs": [],
   "source": [
    "# Sort both of our dicts\n",
    "leadProducerDict = {k: v for k, v in sorted(leadProducerDict.items(), key=lambda item: item[1], reverse = True)}\n",
    "producersDict = {k: v for k, v in sorted(producersDict.items(), key=lambda item: item[1], reverse = True)}\n",
    "\n",
    "\n",
    "# function to check if lead role is a 'top producer'\n",
    "def checkLeadProducer(crew):\n",
    "    if len(crew) < 1 or crew[0] not in list(leadProducerDict)[:25]:\n",
    "        return 0\n",
    "    else:\n",
    "        return 1\n",
    "\n",
    "def checkTopProducers(crew):\n",
    "    if len(crew) < 1:\n",
    "        return 0\n",
    "    count = 0\n",
    "    for producer in crew[:5]:\n",
    "        if producer in list(producersDict)[:100]:\n",
    "            count += 1\n",
    "    return count\n",
    "\n",
    "#Creating a feature for top LEAD Producers\n",
    "train['topLeadProducer'] = train['producers'].apply(lambda x: checkLeadProducer(x))\n",
    "test['topLeadProducer'] = test['producers'].apply(lambda x: checkLeadProducer(x))\n",
    "\n",
    "#Creating feature for number of top Producers\n",
    "train['numTopProducers'] = train['producers'].apply(lambda x: checkTopProducers(x))\n",
    "test['numTopProducers'] = test['producers'].apply(lambda x: checkTopProducers(x))\n",
    "\n",
    "\n",
    "print(train['topLeadProducer'].value_counts())\n",
    "print()\n",
    "print(train['numTopProducers'].value_counts())"
   ]
  },
  {
   "cell_type": "code",
   "execution_count": null,
   "metadata": {},
   "outputs": [],
   "source": []
  },
  {
   "cell_type": "code",
   "execution_count": null,
   "metadata": {},
   "outputs": [],
   "source": [
    "# bivariate composer\n",
    "train['composers'] = train['crew'].apply(lambda x: re.findall(\"Composer', 'name': '(.+?)'\", x))\n",
    "test['composers'] = test['crew'].apply(lambda x: re.findall(\"Composer', 'name': '(.+?)'\", x))\n",
    "\n",
    "composersDict = {}\n",
    "for element in train[[\"revenue\", \"composers\"]].values:\n",
    "\n",
    "    for composer in element[1]:\n",
    "        if composer not in composersDict:\n",
    "            composersDict[composer] = [element[0], 1]\n",
    "        else:\n",
    "            composersDict[composer][0] += element[0]\n",
    "            composersDict[composer][1] += 1\n",
    "\n",
    "composersDict = {k: v for k, v in composersDict.items() if v[1] >= 5}\n",
    "\n",
    "for composer in composersDict:\n",
    "    composersDict[composer][0] = composersDict[composer][0]/composersDict[composer][1]\n",
    "    composersDict[composer] = composersDict[composer][0]\n",
    "\n",
    "\n",
    "\n",
    "\n",
    "composers_train = pd.DataFrame.from_dict(composersDict, orient='index', columns=[\"mean_movies_revenue\"])\n",
    "composers_train.sort_values(by=\"mean_movies_revenue\", ascending=False).head(25).plot.bar(color='salmon')"
   ]
  },
  {
   "cell_type": "code",
   "execution_count": null,
   "metadata": {},
   "outputs": [],
   "source": [
    "leadComposerDict = {}\n",
    "for element in train[[\"revenue\", \"composers\"]].values:\n",
    "   # compare results when looking at x top composers in films vs whole cast \n",
    "    temp = 1\n",
    "    if len(element[1]) < temp:\n",
    "        temp = len(element[1])\n",
    "    for i in range(temp):\n",
    "        if element[1][i] not in leadComposerDict:\n",
    "            leadComposerDict[element[1][i]] = [element[0], 1]\n",
    "        else:\n",
    "            leadComposerDict[element[1][i]][0] += element[0]\n",
    "            leadComposerDict[element[1][i]][1] += 1    \n",
    "\n",
    "leadComposerDict = {k: v for k, v in leadComposerDict.items() if v[1] >= 5}\n",
    "\n",
    "for composer in leadComposerDict:\n",
    "    leadComposerDict[composer][0] = leadComposerDict[composer][0]/leadComposerDict[composer][1]\n",
    "    leadComposerDict[composer] = leadComposerDict[composer][0]\n",
    "\n",
    "\n",
    "    \n",
    "    \n",
    "composers_train = pd.DataFrame.from_dict(leadComposerDict, orient='index', columns=[\"mean_movies_revenue\"])\n",
    "composers_train.sort_values(by=\"mean_movies_revenue\", ascending=False).head(25).plot.bar(color='salmon')\n"
   ]
  },
  {
   "cell_type": "code",
   "execution_count": null,
   "metadata": {},
   "outputs": [],
   "source": [
    "# Sort both of our dicts\n",
    "leadComposerDict = {k: v for k, v in sorted(leadComposerDict.items(), key=lambda item: item[1], reverse = True)}\n",
    "composersDict = {k: v for k, v in sorted(composersDict.items(), key=lambda item: item[1], reverse = True)}\n",
    "\n",
    "\n",
    "# function to check if lead role is a 'top Composer'\n",
    "def checkLeadComposer(crew):\n",
    "    if len(crew) < 1 or crew[0] not in list(leadComposerDict)[:25]:\n",
    "        return 0\n",
    "    else:\n",
    "        return 1\n",
    "\n",
    "def checkTopComposers(crew):\n",
    "    if len(crew) < 1:\n",
    "        return 0\n",
    "    count = 0\n",
    "    for composer in crew[:5]:\n",
    "        if composer in list(composersDict)[:100]:\n",
    "            count += 1\n",
    "    return count\n",
    "\n",
    "#Creating a feature for top LEAD Composers\n",
    "train['topLeadComposer'] = train['composers'].apply(lambda x: checkLeadComposer(x))\n",
    "test['topLeadComposer'] = test['composers'].apply(lambda x: checkLeadComposer(x))\n",
    "\n",
    "#Creating feature for number of top Composers\n",
    "train['numTopComposers'] = train['composers'].apply(lambda x: checkTopComposers(x))\n",
    "test['numTopComposers'] = test['composers'].apply(lambda x: checkTopComposers(x))\n",
    "\n",
    "\n",
    "print(train['topLeadComposer'].value_counts())\n",
    "print()\n",
    "print(train['numTopComposers'].value_counts())"
   ]
  },
  {
   "cell_type": "code",
   "execution_count": null,
   "metadata": {},
   "outputs": [],
   "source": []
  },
  {
   "cell_type": "code",
   "execution_count": null,
   "metadata": {},
   "outputs": [],
   "source": [
    "# bivariate director of photography\n",
    "train['director_photos'] = train['crew'].apply(lambda x: re.findall(\"Director of Photography', 'name': '(.+?)'\", x))\n",
    "test['director_photos'] = test['crew'].apply(lambda x: re.findall(\"Director of Photography', 'name': '(.+?)'\", x))\n",
    "\n",
    "director_photosDict = {}\n",
    "for element in train[[\"revenue\", \"director_photos\"]].values:\n",
    "\n",
    "    for director_photo in element[1]:\n",
    "        if director_photo not in director_photosDict:\n",
    "            director_photosDict[director_photo] = [element[0], 1]\n",
    "        else:\n",
    "            director_photosDict[director_photo][0] += element[0]\n",
    "            director_photosDict[director_photo][1] += 1\n",
    "\n",
    "director_photosDict = {k: v for k, v in director_photosDict.items() if v[1] >= 5}\n",
    "\n",
    "for director_photo in director_photosDict:\n",
    "    director_photosDict[director_photo][0] = director_photosDict[director_photo][0]/director_photosDict[director_photo][1]\n",
    "    director_photosDict[director_photo] = director_photosDict[director_photo][0]\n",
    "\n",
    "\n",
    "\n",
    "\n",
    "director_photos_train = pd.DataFrame.from_dict(director_photosDict, orient='index', columns=[\"mean_movies_revenue\"])\n",
    "director_photos_train.sort_values(by=\"mean_movies_revenue\", ascending=False).head(25).plot.bar(color='salmon')"
   ]
  },
  {
   "cell_type": "code",
   "execution_count": null,
   "metadata": {},
   "outputs": [],
   "source": [
    "leadDirectorPhotoDict = {}\n",
    "for element in train[[\"revenue\", \"director_photos\"]].values:\n",
    "   # compare results when looking at x top director_photos in films vs whole cast \n",
    "    temp = 1\n",
    "    if len(element[1]) < temp:\n",
    "        temp = len(element[1])\n",
    "    for i in range(temp):\n",
    "        if element[1][i] not in leadDirectorPhotoDict:\n",
    "            leadDirectorPhotoDict[element[1][i]] = [element[0], 1]\n",
    "        else:\n",
    "            leadDirectorPhotoDict[element[1][i]][0] += element[0]\n",
    "            leadDirectorPhotoDict[element[1][i]][1] += 1    \n",
    "\n",
    "leadDirectorPhotoDict = {k: v for k, v in leadDirectorPhotoDict.items() if v[1] >= 5}\n",
    "\n",
    "for director_photo in leadDirectorPhotoDict:\n",
    "    leadDirectorPhotoDict[director_photo][0] = leadDirectorPhotoDict[director_photo][0]/leadDirectorPhotoDict[director_photo][1]\n",
    "    leadDirectorPhotoDict[director_photo] = leadDirectorPhotoDict[director_photo][0]\n",
    "\n",
    "\n",
    "    \n",
    "    \n",
    "director_photos_train = pd.DataFrame.from_dict(leadDirectorPhotoDict, orient='index', columns=[\"mean_movies_revenue\"])\n",
    "director_photos_train.sort_values(by=\"mean_movies_revenue\", ascending=False).head(25).plot.bar(color='salmon')\n"
   ]
  },
  {
   "cell_type": "code",
   "execution_count": null,
   "metadata": {},
   "outputs": [],
   "source": [
    "# Sort both of our dicts\n",
    "leadDirectorPhotoDict = {k: v for k, v in sorted(leadDirectorPhotoDict.items(), key=lambda item: item[1], reverse = True)}\n",
    "director_photosDict = {k: v for k, v in sorted(director_photosDict.items(), key=lambda item: item[1], reverse = True)}\n",
    "\n",
    "\n",
    "# function to check if lead role is a 'top director'\n",
    "def checkLeadDirectorPhoto(crew):\n",
    "    if len(crew) < 1 or crew[0] not in list(leadDirectorPhotoDict)[:25]:\n",
    "        return 0\n",
    "    else:\n",
    "        return 1\n",
    "\n",
    "def checkTopDirectorsPhotos(crew):\n",
    "    if len(crew) < 1:\n",
    "        return 0\n",
    "    count = 0\n",
    "    for director in crew[:5]:\n",
    "        if director in list(director_photosDict)[:100]:\n",
    "            count += 1\n",
    "    return count\n",
    "\n",
    "#Creating a feature for top LEAD director of photography\n",
    "train['topLeadDirectorPhoto'] = train['director_photos'].apply(lambda x: checkLeadDirectorPhoto(x))\n",
    "test['topLeadDirectorPhoto'] = test['director_photos'].apply(lambda x: checkLeadDirectorPhoto(x))\n",
    "\n",
    "#Creating feature for number of top director of photography\n",
    "train['numTopDirectorsPhoto'] = train['director_photos'].apply(lambda x: checkTopDirectorsPhotos(x))\n",
    "test['numTopDirectorsPhoto'] = test['director_photos'].apply(lambda x: checkTopDirectorsPhotos(x))\n",
    "\n",
    "\n",
    "print(train['topLeadDirectorPhoto'].value_counts())\n",
    "print()\n",
    "print(train['numTopDirectorsPhoto'].value_counts())"
   ]
  },
  {
   "cell_type": "code",
   "execution_count": null,
   "metadata": {},
   "outputs": [],
   "source": []
  },
  {
   "cell_type": "code",
   "execution_count": null,
   "metadata": {},
   "outputs": [],
   "source": [
    "# bivariate editor\n",
    "train['editors'] = train['crew'].apply(lambda x: re.findall(\"Editor', 'name': '(.+?)'\", x))\n",
    "test['editors'] = test['crew'].apply(lambda x: re.findall(\"Editor', 'name': '(.+?)'\", x))\n",
    "\n",
    "editorsDict = {}\n",
    "for element in train[[\"revenue\", \"editors\"]].values:\n",
    "\n",
    "    for editor in element[1]:\n",
    "        if editor not in editorsDict:\n",
    "            editorsDict[editor] = [element[0], 1]\n",
    "        else:\n",
    "            editorsDict[editor][0] += element[0]\n",
    "            editorsDict[editor][1] += 1\n",
    "\n",
    "editorsDict = {k: v for k, v in editorsDict.items() if v[1] >= 5}\n",
    "\n",
    "for editor in editorsDict:\n",
    "    editorsDict[editor][0] = editorsDict[editor][0]/editorsDict[editor][1]\n",
    "    editorsDict[editor] = editorsDict[editor][0]\n",
    "\n",
    "\n",
    "\n",
    "\n",
    "editors_train = pd.DataFrame.from_dict(editorsDict, orient='index', columns=[\"mean_movies_revenue\"])\n",
    "editors_train.sort_values(by=\"mean_movies_revenue\", ascending=False).head(25).plot.bar(color='salmon')"
   ]
  },
  {
   "cell_type": "code",
   "execution_count": null,
   "metadata": {},
   "outputs": [],
   "source": [
    "leadEditorDict = {}\n",
    "for element in train[[\"revenue\", \"editors\"]].values:\n",
    "   # compare results when looking at x top editors in films vs whole cast \n",
    "    temp = 1\n",
    "    if len(element[1]) < temp:\n",
    "        temp = len(element[1])\n",
    "    for i in range(temp):\n",
    "        if element[1][i] not in leadEditorDict:\n",
    "            leadEditorDict[element[1][i]] = [element[0], 1]\n",
    "        else:\n",
    "            leadEditorDict[element[1][i]][0] += element[0]\n",
    "            leadEditorDict[element[1][i]][1] += 1    \n",
    "\n",
    "leadEditorDict = {k: v for k, v in leadEditorDict.items() if v[1] >= 5}\n",
    "\n",
    "for editor in leadEditorDict:\n",
    "    leadEditorDict[editor][0] = leadEditorDict[editor][0]/leadEditorDict[editor][1]\n",
    "    leadEditorDict[editor] = leadEditorDict[editor][0]\n",
    "\n",
    "\n",
    "    \n",
    "    \n",
    "editors_train = pd.DataFrame.from_dict(leadEditorDict, orient='index', columns=[\"mean_movies_revenue\"])\n",
    "editors_train.sort_values(by=\"mean_movies_revenue\", ascending=False).head(25).plot.bar(color='salmon')\n"
   ]
  },
  {
   "cell_type": "code",
   "execution_count": null,
   "metadata": {
    "scrolled": false
   },
   "outputs": [],
   "source": [
    "# Sort both of our dicts\n",
    "leadEditorDict = {k: v for k, v in sorted(leadEditorDict.items(), key=lambda item: item[1], reverse = True)}\n",
    "editorsDict = {k: v for k, v in sorted(editorsDict.items(), key=lambda item: item[1], reverse = True)}\n",
    "\n",
    "\n",
    "# function to check if lead role is a 'top Editor'\n",
    "def checkLeadEditor(crew):\n",
    "    if len(crew) < 1 or crew[0] not in list(leadEditorDict)[:25]:\n",
    "        return 0\n",
    "    else:\n",
    "        return 1\n",
    "\n",
    "def checkTopEditors(crew):\n",
    "    if len(crew) < 1:\n",
    "        return 0\n",
    "    count = 0\n",
    "    for editor in crew[:5]:\n",
    "        if editor in list(editorsDict)[:100]:\n",
    "            count += 1\n",
    "    return count\n",
    "\n",
    "#Creating a feature for top LEAD Editors\n",
    "train['topLeadEditor'] = train['editors'].apply(lambda x: checkLeadEditor(x))\n",
    "test['topLeadEditor'] = test['editors'].apply(lambda x: checkLeadEditor(x))\n",
    "\n",
    "#Creating feature for number of top Editors\n",
    "train['numTopEditors'] = train['editors'].apply(lambda x: checkTopEditors(x))\n",
    "test['numTopEditors'] = test['editors'].apply(lambda x: checkTopEditors(x))\n",
    "\n",
    "\n",
    "print(train['topLeadEditor'].value_counts())\n",
    "print()\n",
    "print(train['numTopEditors'].value_counts())"
   ]
  },
  {
   "cell_type": "code",
   "execution_count": null,
   "metadata": {},
   "outputs": [],
   "source": []
  },
  {
   "cell_type": "markdown",
   "metadata": {},
   "source": [
    "## Feature Selection"
   ]
  },
  {
   "cell_type": "code",
   "execution_count": null,
   "metadata": {},
   "outputs": [],
   "source": [
    "train.columns"
   ]
  },
  {
   "cell_type": "code",
   "execution_count": null,
   "metadata": {},
   "outputs": [],
   "source": [
    "# Correlation matrix here\n",
    "sns.set(rc={'figure.figsize':(25,32)})\n",
    "\n",
    "# Compute the correlation matrix\n",
    "corr = train[[ 'revenue', 'belongs_to_collection', 'budget_processed',\n",
    "       'num_genres', 'genre_rank', 'has_homepage', 'in_english', \n",
    "       'num_studios', 'topStudio', 'numTopStudios', 'overview_len', 'month',\n",
    "       'season', 'year', 'day_of_week', 'week_of_year',\n",
    "       'num_languages', 'num_production_countries','usa_produced',  \n",
    "       'num_crew','num_male_crew','num_female_crew','topLeadDirector', 'numTopDirectors', 'topLeadExecProd', \n",
    "       'numTopExecProd', 'topLeadProducer','numTopProducers', 'topLeadComposer', \n",
    "       'numTopComposers','topLeadDirectorPhoto', 'numTopDirectorsPhoto',\n",
    "       'topLeadEditor', 'numTopEditors', 'runtime_processed', 'title_len',\n",
    "       'num_cast', 'topLeadActor','numTopActors']].corr()\n",
    "\n",
    "# Generate a mask for the upper triangle\n",
    "mask = np.zeros_like(corr, dtype=np.bool)\n",
    "mask[np.triu_indices_from(mask)] = True\n",
    "\n",
    "sns.heatmap(corr, mask=mask, \n",
    "            annot=True, \n",
    "            fmt=\".2f\", \n",
    "            cmap='coolwarm')\n",
    "\n",
    "plt.title(\"Correlation between numerical features\")"
   ]
  },
  {
   "cell_type": "code",
   "execution_count": null,
   "metadata": {},
   "outputs": [],
   "source": [
    "train_features = [ 'has_homepage', 'in_english',\n",
    "       'topStudio', 'usa_produced', 'topLeadActor', \n",
    "       'topLeadDirector', 'topLeadExecProd', 'topLeadProducer',\n",
    "       'topLeadComposer',  'topLeadDirectorPhoto',  'topLeadEditor' ]"
   ]
  },
  {
   "cell_type": "code",
   "execution_count": null,
   "metadata": {},
   "outputs": [],
   "source": [
    "# Creating logarithmic features\n",
    "log_features = ['budget_processed', 'num_genres', 'genre_rank', \n",
    "       'overview_len', 'num_studios', 'numTopStudios',\n",
    "       'num_production_countries', 'month', 'season', \n",
    "       'year', 'day_of_week','week_of_year', 'runtime_processed',\n",
    "       'num_languages', 'title_len', 'num_cast', 'numTopActors',\n",
    "       'num_crew', 'num_male_crew', 'num_female_crew',\n",
    "       'numTopDirectors',  'numTopExecProd', 'numTopProducers', \n",
    "       'numTopComposers', 'numTopDirectorsPhoto', 'numTopEditors']"
   ]
  },
  {
   "cell_type": "code",
   "execution_count": null,
   "metadata": {},
   "outputs": [],
   "source": [
    "for feat in log_features:\n",
    "    train[\"log_\" + feat] = np.log1p(train[feat])\n",
    "    test[\"log_\" + feat] = np.log1p(test[feat]) \n",
    "    train_features.append(\"log_\" + feat)"
   ]
  },
  {
   "cell_type": "code",
   "execution_count": null,
   "metadata": {},
   "outputs": [],
   "source": [
    "train_features"
   ]
  },
  {
   "cell_type": "code",
   "execution_count": null,
   "metadata": {},
   "outputs": [],
   "source": []
  },
  {
   "cell_type": "markdown",
   "metadata": {},
   "source": [
    "## Modeling"
   ]
  },
  {
   "cell_type": "code",
   "execution_count": null,
   "metadata": {},
   "outputs": [],
   "source": [
    "X = train[train_features]\n",
    "y = train['log_revenue']"
   ]
  },
  {
   "cell_type": "code",
   "execution_count": null,
   "metadata": {},
   "outputs": [],
   "source": [
    "print ('Train set:', X.shape,  y.shape)"
   ]
  },
  {
   "cell_type": "code",
   "execution_count": null,
   "metadata": {},
   "outputs": [],
   "source": []
  },
  {
   "cell_type": "code",
   "execution_count": null,
   "metadata": {},
   "outputs": [],
   "source": []
  },
  {
   "cell_type": "code",
   "execution_count": null,
   "metadata": {},
   "outputs": [],
   "source": []
  }
 ],
 "metadata": {
  "kernelspec": {
   "display_name": "Python 3",
   "language": "python",
   "name": "python3"
  },
  "language_info": {
   "codemirror_mode": {
    "name": "ipython",
    "version": 3
   },
   "file_extension": ".py",
   "mimetype": "text/x-python",
   "name": "python",
   "nbconvert_exporter": "python",
   "pygments_lexer": "ipython3",
   "version": "3.7.6"
  }
 },
 "nbformat": 4,
 "nbformat_minor": 4
}
