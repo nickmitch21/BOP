{
 "cells": [
  {
   "cell_type": "code",
   "execution_count": 1,
   "metadata": {},
   "outputs": [],
   "source": [
    "import pandas as pd\n",
    "import numpy as np\n",
    "from sklearn.model_selection import train_test_split, KFold\n",
    "import matplotlib.pyplot as plt\n",
    "from matplotlib import cm"
   ]
  },
  {
   "cell_type": "code",
   "execution_count": 2,
   "metadata": {},
   "outputs": [],
   "source": [
    "#Load in the data\n",
    "X = pd.read_csv(\"../Data/trainX.csv\")\n",
    "y = pd.read_csv(\"../Data/trainY.csv\")"
   ]
  },
  {
   "cell_type": "code",
   "execution_count": 3,
   "metadata": {},
   "outputs": [],
   "source": [
    "y = y['log_revenue']"
   ]
  },
  {
   "cell_type": "code",
   "execution_count": 4,
   "metadata": {},
   "outputs": [],
   "source": [
    "# create a 75/25 stratified split of the data \n",
    "X_train, X_test, y_train, y_test = train_test_split(X, y, random_state=7, test_size=0.25)"
   ]
  },
  {
   "cell_type": "code",
   "execution_count": 5,
   "metadata": {},
   "outputs": [
    {
     "name": "stdout",
     "output_type": "stream",
     "text": [
      "Train set: (2249, 44) (2249,)\n",
      "Test set: (750, 44) (750,)\n"
     ]
    }
   ],
   "source": [
    "print ('Train set:', X_train.shape,  y_train.shape)\n",
    "print ('Test set:', X_test.shape,  y_test.shape)"
   ]
  },
  {
   "cell_type": "code",
   "execution_count": null,
   "metadata": {},
   "outputs": [],
   "source": []
  },
  {
   "cell_type": "markdown",
   "metadata": {},
   "source": [
    "# Modeling"
   ]
  },
  {
   "cell_type": "markdown",
   "metadata": {},
   "source": [
    "## Random Forest"
   ]
  },
  {
   "cell_type": "code",
   "execution_count": 6,
   "metadata": {},
   "outputs": [],
   "source": [
    "from sklearn.preprocessing import StandardScaler\n",
    "from sklearn.ensemble import RandomForestClassifier\n",
    "from sklearn.ensemble import RandomForestRegressor\n",
    "from sklearn.datasets import make_classification\n",
    "from sklearn import metrics\n",
    "from sklearn.metrics import classification_report, confusion_matrix, accuracy_score\n",
    "from sklearn.model_selection import RandomizedSearchCV\n",
    "from sklearn.model_selection import GridSearchCV\n",
    "from sklearn.ensemble import ExtraTreesRegressor\n",
    "from sklearn.tree import DecisionTreeRegressor\n"
   ]
  },
  {
   "cell_type": "code",
   "execution_count": 7,
   "metadata": {},
   "outputs": [],
   "source": [
    "# Scaling features\n",
    "sc = StandardScaler()\n",
    "X_train = sc.fit_transform(X_train)\n",
    "X_test = sc.transform(X_test)"
   ]
  },
  {
   "cell_type": "code",
   "execution_count": 8,
   "metadata": {},
   "outputs": [
    {
     "name": "stdout",
     "output_type": "stream",
     "text": [
      "Mean Absolute Error: 1.4172198760802797\n",
      "Mean Squared Error: 4.661534817163203\n",
      "Root Mean Squared Error: 2.159058780386306\n",
      "Accuracy: 85.7 %\n"
     ]
    }
   ],
   "source": [
    "# First create the base model to tune\n",
    "rf = RandomForestRegressor()\n",
    "# Random search of parameters, using 3 fold cross validation, \n",
    "\n",
    "# Fit the random search model\n",
    "rf.fit(X_train, y_train.values.ravel())\n",
    "y_pred = rf.predict(X_test)\n",
    "\n",
    "# Mean error calculations\n",
    "print('Mean Absolute Error:', metrics.mean_absolute_error(y_test, y_pred))\n",
    "print('Mean Squared Error:', metrics.mean_squared_error(y_test, y_pred))\n",
    "print('Root Mean Squared Error:', np.sqrt(metrics.mean_squared_error(y_test, y_pred)))\n",
    "\n",
    "# Calculate absolute errors\n",
    "errors = abs(y_pred - y_test.values)\n",
    "\n",
    "# Calculate mean absolute percentage error\n",
    "mape = 100 * (errors / y_test.values)\n",
    "\n",
    "# Calculate and display percent accuracy\n",
    "accuracy = 100 - np.mean(mape)\n",
    "print('Accuracy:', round(accuracy, 2), '%')"
   ]
  },
  {
   "cell_type": "code",
   "execution_count": 9,
   "metadata": {},
   "outputs": [
    {
     "name": "stdout",
     "output_type": "stream",
     "text": [
      "{'n_estimators': [200, 400, 600, 800, 1000, 1200, 1400, 1600, 1800, 2000], 'max_features': ['auto', 'sqrt'], 'max_depth': [10, 20, 30, 40, 50, 60, 70, 80, 90, 100, 110, None], 'min_samples_split': [2, 5, 10], 'min_samples_leaf': [1, 2, 4], 'bootstrap': [True, False]}\n",
      "Fitting 3 folds for each of 10 candidates, totalling 30 fits\n"
     ]
    },
    {
     "name": "stderr",
     "output_type": "stream",
     "text": [
      "[Parallel(n_jobs=-1)]: Using backend LokyBackend with 8 concurrent workers.\n",
      "[Parallel(n_jobs=-1)]: Done  30 out of  30 | elapsed:  1.1min finished\n"
     ]
    },
    {
     "name": "stdout",
     "output_type": "stream",
     "text": [
      "Mean Absolute Error: 1.3919461405470417\n",
      "Mean Squared Error: 4.597803997272401\n",
      "Root Mean Squared Error: 2.144249052062843\n",
      "Accuracy: 84.79 %\n"
     ]
    }
   ],
   "source": [
    "# Make Random Forest model\n",
    "\n",
    "# Number of trees in random forest\n",
    "n_estimators = [int(x) for x in np.linspace(start = 200, stop = 2000, num = 10)]\n",
    "# Number of features to consider at every split\n",
    "max_features = ['auto', 'sqrt']\n",
    "# Maximum number of levels in tree\n",
    "max_depth = [int(x) for x in np.linspace(10, 110, num = 11)]\n",
    "max_depth.append(None)\n",
    "# Minimum number of samples required to split a node\n",
    "min_samples_split = [2, 5, 10]\n",
    "# Minimum number of samples required at each leaf node\n",
    "min_samples_leaf = [1, 2, 4]\n",
    "# Method of selecting samples for training each tree\n",
    "bootstrap = [True, False]\n",
    "# Create the random grid\n",
    "random_grid = {'n_estimators': n_estimators,\n",
    "               'max_features': max_features,\n",
    "               'max_depth': max_depth,\n",
    "               'min_samples_split': min_samples_split,\n",
    "               'min_samples_leaf': min_samples_leaf,\n",
    "               'bootstrap': bootstrap}\n",
    "print(random_grid)\n",
    "\n",
    "# Use the random grid to search for best hyperparameters\n",
    "\n",
    "# First create the base model to tune\n",
    "rf = RandomForestRegressor()\n",
    "# Random search of parameters, using 3 fold cross validation, \n",
    "# search across 100 different combinations, and use all available cores\n",
    "rf_random = RandomizedSearchCV(estimator = rf, param_distributions = random_grid, n_iter = 10, cv = 3, verbose=2, random_state=42, n_jobs = -1)\n",
    "# Fit the random search model\n",
    "rf_random.fit(X_train, y_train.values.ravel())\n",
    "y_pred = rf_random.predict(X_test)\n",
    "\n",
    "# Mean error calculations\n",
    "print('Mean Absolute Error:', metrics.mean_absolute_error(y_test, y_pred))\n",
    "print('Mean Squared Error:', metrics.mean_squared_error(y_test, y_pred))\n",
    "print('Root Mean Squared Error:', np.sqrt(metrics.mean_squared_error(y_test, y_pred)))\n",
    "\n",
    "# Calculate absolute errors\n",
    "errors = abs(y_pred - y_test.values)\n",
    "\n",
    "# Calculate mean absolute percentage error\n",
    "mape = 100 * (errors / y_test.values)\n",
    "\n",
    "# Calculate and display percent accuracy\n",
    "accuracy = 100 - np.mean(mape)\n",
    "print('Accuracy:', round(accuracy, 2), '%')"
   ]
  },
  {
   "cell_type": "code",
   "execution_count": 10,
   "metadata": {},
   "outputs": [
    {
     "name": "stdout",
     "output_type": "stream",
     "text": [
      "Fitting 3 folds for each of 288 candidates, totalling 864 fits\n"
     ]
    },
    {
     "name": "stderr",
     "output_type": "stream",
     "text": [
      "[Parallel(n_jobs=-1)]: Using backend LokyBackend with 8 concurrent workers.\n",
      "[Parallel(n_jobs=-1)]: Done  25 tasks      | elapsed:    3.9s\n",
      "[Parallel(n_jobs=-1)]: Done 146 tasks      | elapsed:   27.6s\n",
      "[Parallel(n_jobs=-1)]: Done 349 tasks      | elapsed:  1.1min\n",
      "[Parallel(n_jobs=-1)]: Done 632 tasks      | elapsed:  2.1min\n",
      "[Parallel(n_jobs=-1)]: Done 864 out of 864 | elapsed:  2.8min finished\n"
     ]
    },
    {
     "name": "stdout",
     "output_type": "stream",
     "text": [
      "Mean Absolute Error: 1.428224983827001\n",
      "Mean Squared Error: 4.751512965303648\n",
      "Root Mean Squared Error: 2.1797965421808634\n",
      "Accuracy: 84.0 %\n"
     ]
    }
   ],
   "source": [
    "# Create the parameter grid based on the results of random search \n",
    "param_grid = {\n",
    "    'bootstrap': [True],\n",
    "    'max_depth': [80, 90, 100, 110],\n",
    "    'max_features': [2, 3],\n",
    "    'min_samples_leaf': [3, 4, 5],\n",
    "    'min_samples_split': [8, 10, 12],\n",
    "    'n_estimators': [100, 200, 300, 1000]\n",
    "}\n",
    "\n",
    "# Instantiate the grid search model\n",
    "grid_search = GridSearchCV(estimator = rf, param_grid = param_grid, \n",
    "                          cv = 3, n_jobs = -1, verbose = 2)\n",
    "\n",
    "grid_search.fit(X_train, y_train.values.ravel())\n",
    "y_pred = grid_search.predict(X_test)\n",
    "\n",
    "# Mean error calculations\n",
    "print('Mean Absolute Error:', metrics.mean_absolute_error(y_test, y_pred))\n",
    "print('Mean Squared Error:', metrics.mean_squared_error(y_test, y_pred))\n",
    "print('Root Mean Squared Error:', np.sqrt(metrics.mean_squared_error(y_test, y_pred)))\n",
    "\n",
    "# Calculate absolute errors\n",
    "errors = abs(y_pred - y_test.values)\n",
    "\n",
    "# Calculate mean absolute percentage error\n",
    "mape = 100 * (errors / y_test.values)\n",
    "\n",
    "# Calculate and display percent accuracy\n",
    "accuracy = 100 - np.mean(mape)\n",
    "print('Accuracy:', round(accuracy, 2), '%')"
   ]
  },
  {
   "cell_type": "code",
   "execution_count": 11,
   "metadata": {},
   "outputs": [
    {
     "name": "stdout",
     "output_type": "stream",
     "text": [
      "[1.26637028e-02 3.97692611e-03 2.83828630e-03 2.22077193e-02\n",
      " 3.87611368e-03 2.13426212e-03 6.18412758e-04 5.17961656e-03\n",
      " 4.99842081e-03 2.97865001e-04 2.91543119e-04 3.60336303e-04\n",
      " 1.00194016e-03 9.52015014e-04 3.93197458e-04 7.10642889e-02\n",
      " 1.20241062e-02 2.40761768e-02 5.07811813e-02 2.10920702e-02\n",
      " 6.47906258e-03 9.11263234e-03 1.09734059e-02 9.73795447e-03\n",
      " 4.42327967e-02 1.71099000e-02 3.07659970e-02 4.48134536e-02\n",
      " 6.57640966e-03 2.78530671e-02 3.91042000e-02 2.32216617e-03\n",
      " 2.63580161e-02 7.09271368e-02 1.16016823e-02 2.07915393e-03\n",
      " 1.57332333e-03 1.50117065e-03 3.89937124e-03 3.89386560e-03\n",
      " 8.22798680e-04 3.49380242e-01 3.45578208e-02 3.49619224e-03]\n"
     ]
    },
    {
     "data": {
      "image/png": "[encoded data removed]",
      "text/plain": [
       "<Figure size 432x288 with 1 Axes>"
      ]
     },
     "metadata": {
      "needs_background": "light"
     },
     "output_type": "display_data"
    }
   ],
   "source": [
    "# Feature Importance\n",
    "model = RandomForestRegressor()\n",
    "model.fit(X_train, y_train.values.ravel())\n",
    "print(model.feature_importances_) #use inbuilt class feature_importances of tree based classifiers\n",
    "# Plot graph of feature importances for better visualization\n",
    "feat_importances = pd.Series(model.feature_importances_, index=X.columns)\n",
    "feat_importances.nlargest(20).plot(kind='barh')\n",
    "plt.show()"
   ]
  },
  {
   "cell_type": "code",
   "execution_count": 12,
   "metadata": {},
   "outputs": [
    {
     "name": "stdout",
     "output_type": "stream",
     "text": [
      "[0.02361224 0.01526458 0.00828614 0.08793032 0.00954302 0.00902173\n",
      " 0.0016507  0.01768353 0.01221103 0.00083195 0.00095781 0.00228583\n",
      " 0.0021175  0.00109484 0.00097463 0.0721075  0.01928291 0.0269231\n",
      " 0.02852312 0.03044095 0.06953002 0.01991493 0.01869179 0.01648453\n",
      " 0.02462619 0.02699068 0.02395571 0.0342706  0.0136273  0.01904919\n",
      " 0.03211237 0.00715207 0.02484804 0.08041943 0.01662577 0.00678422\n",
      " 0.003172   0.00451116 0.01532159 0.03591081 0.00276992 0.09145282\n",
      " 0.027961   0.01307445]\n"
     ]
    },
    {
     "data": {
      "image/png": "[encoded data removed]",
      "text/plain": [
       "<Figure size 432x288 with 1 Axes>"
      ]
     },
     "metadata": {
      "needs_background": "light"
     },
     "output_type": "display_data"
    }
   ],
   "source": [
    "# More Feature Importance\n",
    "model = ExtraTreesRegressor()\n",
    "model.fit(X_train, y_train.values.ravel())\n",
    "print(model.feature_importances_) #use inbuilt class feature_importances of tree based classifiers\n",
    "# Plot graph of feature importances for better visualization\n",
    "feat_importances = pd.Series(model.feature_importances_, index=X.columns)\n",
    "feat_importances.nlargest(20).plot(kind='barh')\n",
    "plt.show()"
   ]
  },
  {
   "cell_type": "code",
   "execution_count": 13,
   "metadata": {},
   "outputs": [
    {
     "name": "stdout",
     "output_type": "stream",
     "text": [
      "(0, 0.011599817981499923)\n",
      "(1, 0.00438615903960315)\n",
      "(2, 0.005172901595234841)\n",
      "(3, 0.0195756545547416)\n",
      "(4, 0.00440951636944469)\n",
      "(5, 0.0062541961895032595)\n",
      "(6, 0.00022726277974566994)\n",
      "(7, 0.006176233633374584)\n",
      "(8, 0.010163257758613146)\n",
      "(9, 0.0003015024965421635)\n",
      "(10, 0.000165019902236412)\n",
      "(11, 2.9307630545715968e-05)\n",
      "(12, 0.0012537745130673814)\n",
      "(13, 1.4197404594151029e-05)\n",
      "(14, 0.0002621022837493337)\n",
      "(15, 0.005209301290721095)\n",
      "(16, 0.014668785614243784)\n",
      "(17, 0.026286323794971388)\n",
      "(18, 0.05987551770651328)\n",
      "(19, 0.021639571915143162)\n",
      "(20, 0.002046585903860881)\n",
      "(21, 0.009077277668101383)\n",
      "(22, 0.008665997725074658)\n",
      "(23, 0.009756244582041964)\n",
      "(24, 0.050259113479833604)\n",
      "(25, 0.012102965033040126)\n",
      "(26, 0.03859464281500734)\n",
      "(27, 0.03303507988520909)\n",
      "(28, 0.0036245131107086707)\n",
      "(29, 0.017646420565837366)\n",
      "(30, 0.030162523711468103)\n",
      "(31, 0.0035289778318679313)\n",
      "(32, 0.020741637423648897)\n",
      "(33, 0.08044372776889139)\n",
      "(34, 0.011718431251780173)\n",
      "(35, 0.0008544315246057037)\n",
      "(36, 0.0038655203948341414)\n",
      "(37, 7.821998980791028e-05)\n",
      "(38, 0.006045254463545606)\n",
      "(39, 0.006106500656599314)\n",
      "(40, 0.0004234596237405978)\n",
      "(41, 0.40376495353460357)\n",
      "(42, 0.04709917143910349)\n",
      "(43, 0.002687945162699422)\n"
     ]
    },
    {
     "data": {
      "image/png": "[encoded data removed]",
      "text/plain": [
       "<Figure size 432x288 with 1 Axes>"
      ]
     },
     "metadata": {
      "needs_background": "light"
     },
     "output_type": "display_data"
    }
   ],
   "source": [
    "# Even More Feature Importance\n",
    "model = DecisionTreeRegressor()\n",
    "model.fit(X_train, y_train.values.ravel())\n",
    "importance = model.feature_importances_\n",
    "# summarize feature importance\n",
    "for i,v in enumerate(importance):\n",
    "    print((i,v))\n",
    "# plot feature importance\n",
    "plt.bar([x for x in range(len(importance))], importance)\n",
    "plt.show()"
   ]
  },
  {
   "cell_type": "code",
   "execution_count": null,
   "metadata": {},
   "outputs": [],
   "source": []
  },
  {
   "cell_type": "markdown",
   "metadata": {},
   "source": [
    "## XGBoost"
   ]
  },
  {
   "cell_type": "code",
   "execution_count": null,
   "metadata": {},
   "outputs": [],
   "source": []
  },
  {
   "cell_type": "code",
   "execution_count": null,
   "metadata": {},
   "outputs": [],
   "source": []
  }
 ],
 "metadata": {
  "kernelspec": {
   "display_name": "Python 3",
   "language": "python",
   "name": "python3"
  },
  "language_info": {
   "codemirror_mode": {
    "name": "ipython",
    "version": 3
   },
   "file_extension": ".py",
   "mimetype": "text/x-python",
   "name": "python",
   "nbconvert_exporter": "python",
   "pygments_lexer": "ipython3",
   "version": "3.7.6"
  }
 },
 "nbformat": 4,
 "nbformat_minor": 4
}
