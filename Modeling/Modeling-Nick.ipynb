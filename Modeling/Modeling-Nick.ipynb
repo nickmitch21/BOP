{
 "cells": [
  {
   "cell_type": "code",
   "execution_count": 1,
   "metadata": {},
   "outputs": [],
   "source": [
    "import pandas as pd\n",
    "import numpy as np\n",
    "from sklearn.model_selection import train_test_split, KFold\n",
    "import matplotlib.pyplot as plt\n",
    "from matplotlib import cm"
   ]
  },
  {
   "cell_type": "code",
   "execution_count": 2,
   "metadata": {},
   "outputs": [],
   "source": [
    "#Load in the data\n",
    "X = pd.read_csv(\"../Data/trainX-test.csv\")\n",
    "y = pd.read_csv(\"../Data/trainY-test.csv\")"
   ]
  },
  {
   "cell_type": "code",
   "execution_count": 3,
   "metadata": {},
   "outputs": [],
   "source": [
    "y = y['log_revenue']"
   ]
  },
  {
   "cell_type": "code",
   "execution_count": 4,
   "metadata": {},
   "outputs": [],
   "source": [
    "# create a 75/25 stratified split of the data \n",
    "X_train, X_test, y_train, y_test = train_test_split(X, y, random_state=7, test_size=0.25)"
   ]
  },
  {
   "cell_type": "code",
   "execution_count": 5,
   "metadata": {},
   "outputs": [
    {
     "name": "stdout",
     "output_type": "stream",
     "text": [
      "Train set: (2249, 57) (2249,)\n",
      "Test set: (750, 57) (750,)\n"
     ]
    }
   ],
   "source": [
    "print ('Train set:', X_train.shape,  y_train.shape)\n",
    "print ('Test set:', X_test.shape,  y_test.shape)"
   ]
  },
  {
   "cell_type": "code",
   "execution_count": null,
   "metadata": {},
   "outputs": [],
   "source": []
  },
  {
   "cell_type": "markdown",
   "metadata": {},
   "source": [
    "# Modeling"
   ]
  },
  {
   "cell_type": "markdown",
   "metadata": {},
   "source": [
    "## Random Forest"
   ]
  },
  {
   "cell_type": "code",
   "execution_count": 6,
   "metadata": {},
   "outputs": [],
   "source": [
    "from sklearn.preprocessing import StandardScaler\n",
    "from sklearn.ensemble import RandomForestClassifier\n",
    "from sklearn.ensemble import RandomForestRegressor\n",
    "from sklearn.datasets import make_classification\n",
    "from sklearn import metrics\n",
    "from sklearn.metrics import classification_report, confusion_matrix, accuracy_score\n",
    "from sklearn.model_selection import RandomizedSearchCV\n",
    "from sklearn.model_selection import GridSearchCV\n",
    "from sklearn.ensemble import ExtraTreesRegressor\n",
    "from sklearn.tree import DecisionTreeRegressor\n"
   ]
  },
  {
   "cell_type": "code",
   "execution_count": 7,
   "metadata": {},
   "outputs": [],
   "source": [
    "# Scaling features\n",
    "sc = StandardScaler()\n",
    "X_train = sc.fit_transform(X_train)\n",
    "X_test = sc.transform(X_test)"
   ]
  },
  {
   "cell_type": "code",
   "execution_count": 8,
   "metadata": {},
   "outputs": [
    {
     "name": "stdout",
     "output_type": "stream",
     "text": [
      "Mean Absolute Error: 1.165792703297993\n",
      "Mean Squared Error: 2.801677935348375\n",
      "Root Mean Squared Error: 1.673821357059461\n",
      "Accuracy: 90.89 %\n"
     ]
    }
   ],
   "source": [
    "# First create the base model to tune\n",
    "rf = RandomForestRegressor()\n",
    "# Random search of parameters, using 3 fold cross validation, \n",
    "\n",
    "# Fit the random search model\n",
    "rf.fit(X_train, y_train.values.ravel())\n",
    "y_pred = rf.predict(X_test)\n",
    "\n",
    "# Mean error calculations\n",
    "print('Mean Absolute Error:', metrics.mean_absolute_error(y_test, y_pred))\n",
    "print('Mean Squared Error:', metrics.mean_squared_error(y_test, y_pred))\n",
    "print('Root Mean Squared Error:', np.sqrt(metrics.mean_squared_error(y_test, y_pred)))\n",
    "\n",
    "# Calculate absolute errors\n",
    "errors = abs(y_pred - y_test.values)\n",
    "\n",
    "# Calculate mean absolute percentage error\n",
    "mape = 100 * (errors / y_test.values)\n",
    "\n",
    "# Calculate and display percent accuracy\n",
    "accuracy = 100 - np.mean(mape)\n",
    "print('Accuracy:', round(accuracy, 2), '%')"
   ]
  },
  {
   "cell_type": "code",
   "execution_count": 9,
   "metadata": {},
   "outputs": [
    {
     "name": "stdout",
     "output_type": "stream",
     "text": [
      "{'n_estimators': [200, 400, 600, 800, 1000, 1200, 1400, 1600, 1800, 2000], 'max_features': ['auto', 'sqrt'], 'max_depth': [10, 20, 30, 40, 50, 60, 70, 80, 90, 100, 110, None], 'min_samples_split': [2, 5, 10], 'min_samples_leaf': [1, 2, 4], 'bootstrap': [True, False]}\n",
      "Fitting 3 folds for each of 10 candidates, totalling 30 fits\n"
     ]
    },
    {
     "name": "stderr",
     "output_type": "stream",
     "text": [
      "[Parallel(n_jobs=-1)]: Using backend LokyBackend with 8 concurrent workers.\n",
      "[Parallel(n_jobs=-1)]: Done  30 out of  30 | elapsed:  1.6min finished\n"
     ]
    },
    {
     "name": "stdout",
     "output_type": "stream",
     "text": [
      "Mean Absolute Error: 1.1550750222374317\n",
      "Mean Squared Error: 2.7648758853438586\n",
      "Root Mean Squared Error: 1.6627915940802258\n",
      "Accuracy: 90.97 %\n"
     ]
    }
   ],
   "source": [
    "# Make Random Forest model\n",
    "\n",
    "# Number of trees in random forest\n",
    "n_estimators = [int(x) for x in np.linspace(start = 200, stop = 2000, num = 10)]\n",
    "# Number of features to consider at every split\n",
    "max_features = ['auto', 'sqrt']\n",
    "# Maximum number of levels in tree\n",
    "max_depth = [int(x) for x in np.linspace(10, 110, num = 11)]\n",
    "max_depth.append(None)\n",
    "# Minimum number of samples required to split a node\n",
    "min_samples_split = [2, 5, 10]\n",
    "# Minimum number of samples required at each leaf node\n",
    "min_samples_leaf = [1, 2, 4]\n",
    "# Method of selecting samples for training each tree\n",
    "bootstrap = [True, False]\n",
    "# Create the random grid\n",
    "random_grid = {'n_estimators': n_estimators,\n",
    "               'max_features': max_features,\n",
    "               'max_depth': max_depth,\n",
    "               'min_samples_split': min_samples_split,\n",
    "               'min_samples_leaf': min_samples_leaf,\n",
    "               'bootstrap': bootstrap}\n",
    "print(random_grid)\n",
    "\n",
    "# Use the random grid to search for best hyperparameters\n",
    "\n",
    "# First create the base model to tune\n",
    "rf = RandomForestRegressor()\n",
    "# Random search of parameters, using 3 fold cross validation, \n",
    "# search across 100 different combinations, and use all available cores\n",
    "rf_random = RandomizedSearchCV(estimator = rf, param_distributions = random_grid, n_iter = 10, cv = 3, verbose=2, random_state=42, n_jobs = -1)\n",
    "# Fit the random search model\n",
    "rf_random.fit(X_train, y_train.values.ravel())\n",
    "y_pred = rf_random.predict(X_test)\n",
    "\n",
    "# Mean error calculations\n",
    "print('Mean Absolute Error:', metrics.mean_absolute_error(y_test, y_pred))\n",
    "print('Mean Squared Error:', metrics.mean_squared_error(y_test, y_pred))\n",
    "print('Root Mean Squared Error:', np.sqrt(metrics.mean_squared_error(y_test, y_pred)))\n",
    "\n",
    "# Calculate absolute errors\n",
    "errors = abs(y_pred - y_test.values)\n",
    "\n",
    "# Calculate mean absolute percentage error\n",
    "mape = 100 * (errors / y_test.values)\n",
    "\n",
    "# Calculate and display percent accuracy\n",
    "accuracy = 100 - np.mean(mape)\n",
    "print('Accuracy:', round(accuracy, 2), '%')"
   ]
  },
  {
   "cell_type": "code",
   "execution_count": 10,
   "metadata": {},
   "outputs": [
    {
     "name": "stdout",
     "output_type": "stream",
     "text": [
      "Fitting 3 folds for each of 288 candidates, totalling 864 fits\n"
     ]
    },
    {
     "name": "stderr",
     "output_type": "stream",
     "text": [
      "[Parallel(n_jobs=-1)]: Using backend LokyBackend with 8 concurrent workers.\n",
      "[Parallel(n_jobs=-1)]: Done  25 tasks      | elapsed:    3.9s\n",
      "[Parallel(n_jobs=-1)]: Done 146 tasks      | elapsed:   27.9s\n",
      "[Parallel(n_jobs=-1)]: Done 349 tasks      | elapsed:  1.3min\n",
      "[Parallel(n_jobs=-1)]: Done 632 tasks      | elapsed:  2.3min\n",
      "[Parallel(n_jobs=-1)]: Done 864 out of 864 | elapsed:  3.2min finished\n"
     ]
    },
    {
     "name": "stdout",
     "output_type": "stream",
     "text": [
      "Mean Absolute Error: 1.283482635618804\n",
      "Mean Squared Error: 3.404302362917668\n",
      "Root Mean Squared Error: 1.8450751645712615\n",
      "Accuracy: 87.49 %\n"
     ]
    }
   ],
   "source": [
    "# Create the parameter grid based on the results of random search \n",
    "param_grid = {\n",
    "    'bootstrap': [True],\n",
    "    'max_depth': [80, 90, 100, 110],\n",
    "    'max_features': [2, 3],\n",
    "    'min_samples_leaf': [3, 4, 5],\n",
    "    'min_samples_split': [8, 10, 12],\n",
    "    'n_estimators': [100, 200, 300, 1000]\n",
    "}\n",
    "\n",
    "# Instantiate the grid search model\n",
    "grid_search = GridSearchCV(estimator = rf, param_grid = param_grid, \n",
    "                          cv = 3, n_jobs = -1, verbose = 2)\n",
    "\n",
    "grid_search.fit(X_train, y_train.values.ravel())\n",
    "y_pred = grid_search.predict(X_test)\n",
    "\n",
    "# Mean error calculations\n",
    "print('Mean Absolute Error:', metrics.mean_absolute_error(y_test, y_pred))\n",
    "print('Mean Squared Error:', metrics.mean_squared_error(y_test, y_pred))\n",
    "print('Root Mean Squared Error:', np.sqrt(metrics.mean_squared_error(y_test, y_pred)))\n",
    "\n",
    "# Calculate absolute errors\n",
    "errors = abs(y_pred - y_test.values)\n",
    "\n",
    "# Calculate mean absolute percentage error\n",
    "mape = 100 * (errors / y_test.values)\n",
    "\n",
    "# Calculate and display percent accuracy\n",
    "accuracy = 100 - np.mean(mape)\n",
    "print('Accuracy:', round(accuracy, 2), '%')"
   ]
  },
  {
   "cell_type": "code",
   "execution_count": 11,
   "metadata": {},
   "outputs": [
    {
     "name": "stdout",
     "output_type": "stream",
     "text": [
      "[8.49621256e-03 3.66183728e-03 1.36870282e-03 1.59421487e-02\n",
      " 2.97859677e-03 1.42385881e-03 2.64034312e-03 3.30553652e-03\n",
      " 7.09775430e-04 2.66060082e-04 2.85420098e-04 1.51667102e-04\n",
      " 3.06461845e-04 2.69986122e-04 1.67743003e-04 9.61032443e-05\n",
      " 1.43902479e-03 6.12525615e-04 1.95219483e-03 1.90695149e-03\n",
      " 2.77339289e-03 3.38580416e-01 2.33657158e-02 6.34031274e-03\n",
      " 2.23599924e-02 1.10950175e-02 3.22206452e-02 2.54507840e-02\n",
      " 4.70300630e-03 1.10115652e-02 2.34962435e-02 7.49376380e-03\n",
      " 1.74716238e-02 5.52523269e-03 1.84686826e-02 2.54150146e-03\n",
      " 1.38510630e-02 2.12855627e-02 3.41130671e-03 2.96262793e-02\n",
      " 1.89118567e-02 3.26529443e-02 8.22152645e-03 9.38650415e-04\n",
      " 6.06459142e-03 1.56567529e-03 4.46578726e-03 8.07693791e-04\n",
      " 1.05230149e-02 2.17205235e-03 4.17408993e-03 1.67374631e-03\n",
      " 7.24007044e-03 6.23045564e-04 1.04679951e-02 1.89097972e-01\n",
      " 3.13460296e-02]\n"
     ]
    },
    {
     "data": {
      "image/png": "[encoded data removed]",
      "text/plain": [
       "<Figure size 432x288 with 1 Axes>"
      ]
     },
     "metadata": {
      "needs_background": "light"
     },
     "output_type": "display_data"
    }
   ],
   "source": [
    "# Feature Importance\n",
    "model = RandomForestRegressor()\n",
    "model.fit(X_train, y_train.values.ravel())\n",
    "print(model.feature_importances_) #use inbuilt class feature_importances of tree based classifiers\n",
    "# Plot graph of feature importances for better visualization\n",
    "feat_importances = pd.Series(model.feature_importances_, index=X.columns)\n",
    "feat_importances.nlargest(20).plot(kind='barh')\n",
    "plt.show()"
   ]
  },
  {
   "cell_type": "code",
   "execution_count": 12,
   "metadata": {},
   "outputs": [
    {
     "name": "stdout",
     "output_type": "stream",
     "text": [
      "[0.01816752 0.01404285 0.00377091 0.06299981 0.00795284 0.00450314\n",
      " 0.01069838 0.00964275 0.00162336 0.00074853 0.00083819 0.00091782\n",
      " 0.00183667 0.00120318 0.00068127 0.00029394 0.00604902 0.00328858\n",
      " 0.0063337  0.00750062 0.00967803 0.13977757 0.01412376 0.00976284\n",
      " 0.01519162 0.05863767 0.06029248 0.02484246 0.00959002 0.01355967\n",
      " 0.01176968 0.01034878 0.00902184 0.00960552 0.01519264 0.0059324\n",
      " 0.01025784 0.01789337 0.01173632 0.01662165 0.01471783 0.03540635\n",
      " 0.01057488 0.00289204 0.00658739 0.00315577 0.00609231 0.00198075\n",
      " 0.01041547 0.00805082 0.00445419 0.01465404 0.00780057 0.00172015\n",
      " 0.01124857 0.20217902 0.02114063]\n"
     ]
    },
    {
     "data": {
      "image/png": "[encoded data removed]",
      "text/plain": [
       "<Figure size 432x288 with 1 Axes>"
      ]
     },
     "metadata": {
      "needs_background": "light"
     },
     "output_type": "display_data"
    }
   ],
   "source": [
    "# More Feature Importance\n",
    "model = ExtraTreesRegressor()\n",
    "model.fit(X_train, y_train.values.ravel())\n",
    "print(model.feature_importances_) #use inbuilt class feature_importances of tree based classifiers\n",
    "# Plot graph of feature importances for better visualization\n",
    "feat_importances = pd.Series(model.feature_importances_, index=X.columns)\n",
    "feat_importances.nlargest(20).plot(kind='barh')\n",
    "plt.show()"
   ]
  },
  {
   "cell_type": "code",
   "execution_count": 13,
   "metadata": {},
   "outputs": [
    {
     "name": "stdout",
     "output_type": "stream",
     "text": [
      "(0, 0.005054246660564095)\n",
      "(1, 0.0020609550983087103)\n",
      "(2, 0.0003219842083224254)\n",
      "(3, 0.02265641254755352)\n",
      "(4, 0.003266350822868223)\n",
      "(5, 0.0005819283146086324)\n",
      "(6, 0.0029175638627020176)\n",
      "(7, 0.00295829368738921)\n",
      "(8, 0.0006404984924768207)\n",
      "(9, 0.000968195300885066)\n",
      "(10, 7.947697678801408e-06)\n",
      "(11, 0.0008616213750930866)\n",
      "(12, 6.119387733310849e-05)\n",
      "(13, 0.0004963737299370877)\n",
      "(14, 2.1928985378462048e-05)\n",
      "(15, 0.0)\n",
      "(16, 0.0)\n",
      "(17, 0.00037970621798790556)\n",
      "(18, 0.0012336647568580799)\n",
      "(19, 0.003869433735493119)\n",
      "(20, 0.005365511144869259)\n",
      "(21, 0.37673027414293886)\n",
      "(22, 0.0264964209128095)\n",
      "(23, 0.004493514782919348)\n",
      "(24, 0.015179476276229887)\n",
      "(25, 0.007698090349044013)\n",
      "(26, 0.008740259634424086)\n",
      "(27, 0.014443372610869112)\n",
      "(28, 0.0025747100125515583)\n",
      "(29, 0.012860987028661277)\n",
      "(30, 0.019023393782456814)\n",
      "(31, 0.008484677355674649)\n",
      "(32, 0.009892511813089925)\n",
      "(33, 0.002307352764317293)\n",
      "(34, 0.025912367890027335)\n",
      "(35, 0.002154283383813092)\n",
      "(36, 0.015718052015313632)\n",
      "(37, 0.021803601430096225)\n",
      "(38, 0.006715030388204378)\n",
      "(39, 0.03852578200956764)\n",
      "(40, 0.012029643103258629)\n",
      "(41, 0.030732402685447215)\n",
      "(42, 0.008845082152723971)\n",
      "(43, 0.0011228703095863984)\n",
      "(44, 0.0056674430707903236)\n",
      "(45, 0.0017867570060727488)\n",
      "(46, 0.007844097507093287)\n",
      "(47, 0.0014264755494339482)\n",
      "(48, 0.009196542648605487)\n",
      "(49, 0.004988685624945441)\n",
      "(50, 0.0019549392159208295)\n",
      "(51, 0.0004292518835252733)\n",
      "(52, 0.005822843252228962)\n",
      "(53, 0.00011160958339206378)\n",
      "(54, 0.009424772040902956)\n",
      "(55, 0.1960873513976434)\n",
      "(56, 0.02905126386911288)\n"
     ]
    },
    {
     "data": {
      "image/png": "[encoded data removed]",
      "text/plain": [
       "<Figure size 432x288 with 1 Axes>"
      ]
     },
     "metadata": {
      "needs_background": "light"
     },
     "output_type": "display_data"
    }
   ],
   "source": [
    "# Even More Feature Importance\n",
    "model = DecisionTreeRegressor()\n",
    "model.fit(X_train, y_train.values.ravel())\n",
    "importance = model.feature_importances_\n",
    "# summarize feature importance\n",
    "for i,v in enumerate(importance):\n",
    "    print((i,v))\n",
    "# plot feature importance\n",
    "plt.bar([x for x in range(len(importance))], importance)\n",
    "plt.show()"
   ]
  },
  {
   "cell_type": "code",
   "execution_count": null,
   "metadata": {},
   "outputs": [],
   "source": []
  },
  {
   "cell_type": "code",
   "execution_count": null,
   "metadata": {},
   "outputs": [],
   "source": []
  },
  {
   "cell_type": "markdown",
   "metadata": {},
   "source": [
    "## LightGBM"
   ]
  },
  {
   "cell_type": "code",
   "execution_count": 26,
   "metadata": {},
   "outputs": [],
   "source": [
    "import lightgbm as lgb\n",
    "from sklearn.metrics import mean_squared_error\n"
   ]
  },
  {
   "cell_type": "code",
   "execution_count": null,
   "metadata": {},
   "outputs": [],
   "source": []
  },
  {
   "cell_type": "code",
   "execution_count": null,
   "metadata": {},
   "outputs": [],
   "source": []
  },
  {
   "cell_type": "markdown",
   "metadata": {},
   "source": [
    "## XGBoost"
   ]
  },
  {
   "cell_type": "code",
   "execution_count": null,
   "metadata": {},
   "outputs": [],
   "source": []
  },
  {
   "cell_type": "code",
   "execution_count": null,
   "metadata": {},
   "outputs": [],
   "source": []
  }
 ],
 "metadata": {
  "kernelspec": {
   "display_name": "Python 3",
   "language": "python",
   "name": "python3"
  },
  "language_info": {
   "codemirror_mode": {
    "name": "ipython",
    "version": 3
   },
   "file_extension": ".py",
   "mimetype": "text/x-python",
   "name": "python",
   "nbconvert_exporter": "python",
   "pygments_lexer": "ipython3",
   "version": "3.7.6"
  }
 },
 "nbformat": 4,
 "nbformat_minor": 4
}
