{
 "cells": [
  {
   "cell_type": "code",
   "execution_count": null,
   "metadata": {},
   "outputs": [],
   "source": [
    "#imports"
   ]
  },
  {
   "cell_type": "code",
   "execution_count": null,
   "metadata": {},
   "outputs": [],
   "source": [
    "#Load in the data\n",
    "train = pd.read_csv(\"../data/trainFeatures.csv\")\n",
    "test = pd.read_csv(\"../data/testFeatures.csv\")"
   ]
  },
  {
   "cell_type": "code",
   "execution_count": null,
   "metadata": {},
   "outputs": [],
   "source": [
    "sns.set(rc={'figure.figsize':(25,30)})\n",
    "\n",
    "# Compute the correlation matrix\n",
    "corr = train[[ 'revenue', 'belongs_to_collection', 'budget', 'genres', 'homepage',\n",
    "       'runtime','has_collection', 'log_budget', 'budget_processed',\n",
    "       'Family', 'Animation', 'Adventure', 'Science Fiction', 'Fantasy', 'num_genres', 'genre_rank',\n",
    "        'has_homepage', 'in_english','overview_len', 'month', 'season', 'year', 'day_of_week',\n",
    "       'week_of_year', 'has_poster_path','num_production_countries', 'usa_produced', 'num_crew', 'directors',\n",
    "       'runtime_processed', 'title_len', 'cast_processed', 'num_cast',\n",
    "       'topLeadActor', 'numTopActors']].corr()\n",
    "\n",
    "# Generate a mask for the upper triangle\n",
    "mask = np.zeros_like(corr, dtype=np.bool)\n",
    "mask[np.triu_indices_from(mask)] = True\n",
    "\n",
    "sns.heatmap(corr, mask=mask, \n",
    "            annot=True, \n",
    "            fmt=\".2f\", \n",
    "            cmap='coolwarm')\n",
    "\n",
    "plt.title(\"Correlation between numerical features\")"
   ]
  },
  {
   "cell_type": "code",
   "execution_count": null,
   "metadata": {},
   "outputs": [],
   "source": [
    "train['genre_rank'] = train['genres_reform'].apply(lambda x: list(topGenreDict.keys()).index(x[0]) if len(x) > 0 else 0)\n",
    "train['genre_rank'].value_counts()"
   ]
  },
  {
   "cell_type": "code",
   "execution_count": null,
   "metadata": {},
   "outputs": [],
   "source": [
    "# Sort both of our dicts of studios and top studios to more easily access the 'most successful studios'\n",
    "topGenreDict = {k: v for k, v in sorted(topGenreDict.items(), key=lambda item: item[1], reverse = False)}\n",
    "genresDict = {k: v for k, v in sorted(genresDict.items(), key=lambda item: item[1], reverse = True)}\n",
    "print(topGenreDict)\n",
    "print(genresDict)"
   ]
  }
 ],
 "metadata": {
  "kernelspec": {
   "display_name": "Python 3",
   "language": "python",
   "name": "python3"
  },
  "language_info": {
   "codemirror_mode": {
    "name": "ipython",
    "version": 3
   },
   "file_extension": ".py",
   "mimetype": "text/x-python",
   "name": "python",
   "nbconvert_exporter": "python",
   "pygments_lexer": "ipython3",
   "version": "3.7.6"
  }
 },
 "nbformat": 4,
 "nbformat_minor": 4
}
