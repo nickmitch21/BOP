{
 "cells": [
  {
   "cell_type": "code",
   "execution_count": 153,
   "metadata": {},
   "outputs": [],
   "source": [
    "import sys\n",
    "import pandas as pd\n",
    "import numpy as np\n",
    "from numpy import mean\n",
    "import time\n",
    "import imdb\n",
    "from datetime import datetime\n",
    "import calendar\n",
    "import matplotlib.pyplot as plt\n",
    "from matplotlib import cm\n",
    "import seaborn as sns\n",
    "plt.style.use('ggplot')\n",
    "pd.options.mode.chained_assignment = None  # default='warn'"
   ]
  },
  {
   "cell_type": "code",
   "execution_count": 154,
   "metadata": {},
   "outputs": [],
   "source": [
    "import re\n",
    "\n",
    "#function that uses a regex to extract data we need from various cols in dataset\n",
    "def extractData(str):\n",
    "    return re.findall(\"'name': \\'(.+?)\\'\", str)"
   ]
  },
  {
   "cell_type": "code",
   "execution_count": 155,
   "metadata": {},
   "outputs": [],
   "source": [
    "#function to get past movie success\n",
    "def calcPastSuccess(movie, ia):\n",
    "    start_time = time.time()\n",
    "    for i in range(8):\n",
    "        actor = movie['cast'][i]\n",
    "        filmList = ia.get_person_filmography(actor.getID())['data']['filmography'][0]\n",
    "        filmography = filmList.get('actor')\n",
    "        if filmography is None:\n",
    "            filmography = filmList.get('actress')\n",
    "\n",
    "        totalRating = 0\n",
    "        totalBO = 0\n",
    "        movieCount = 0\n",
    "        accMovieCount = 0\n",
    "        for film in filmography:\n",
    "            if film['kind'] == 'movie':\n",
    "                film = ia.get_movie(film.getID())\n",
    "                rating = film.get(\"rating\")\n",
    "                boxOffice = film.get(\"box office\")\n",
    "                if boxOffice is not None :\n",
    "                    gross = boxOffice.get('Cumulative Worldwide Gross')\n",
    "                else:\n",
    "                    gross = None\n",
    "\n",
    "                accMovieCount += 1\n",
    "                if rating is not None and gross is not None:\n",
    "                    totalRating += float(rating)\n",
    "                    gross = gross.split(' ')[0][1:].replace(',','')\n",
    "                    totalBO += float(gross)\n",
    "                    movieCount += 1\n",
    "        if movieCount > 0:\n",
    "            AvgIMDbScore = totalRating/movieCount\n",
    "            AvgBO = totalBO/movieCount\n",
    "        else:\n",
    "            AvgIMDbScore = 0\n",
    "            AvgBO = 0\n",
    "        print(\"Statistics for\", actor)\n",
    "        print('Number of Movies used in formula: ',movieCount)\n",
    "        print('Number of Movies Total: ', accMovieCount)\n",
    "        print(\"Average IMDb Score: \", AvgIMDbScore)\n",
    "        pastIMDbFormula = AvgIMDbScore - 10 * (1/3)**movieCount\n",
    "        pastBoxOfficeFormula = 10* (AvgBO / 100000000) - 10 * (1/3)**movieCount\n",
    "\n",
    "        print('IMDb Weighted Average Rating for: ', pastIMDbFormula)\n",
    "        print('Box Office Weighted Average for: ', pastBoxOfficeFormula)\n",
    "        print(\"--- %s minutes ---\" % ((time.time() - start_time)/60))\n",
    "        print()"
   ]
  },
  {
   "cell_type": "code",
   "execution_count": 156,
   "metadata": {},
   "outputs": [
    {
     "name": "stdout",
     "output_type": "stream",
     "text": [
      "Index(['id', 'belongs_to_collection', 'budget', 'genres', 'homepage',\n",
      "       'imdb_id', 'original_language', 'original_title', 'overview',\n",
      "       'popularity', 'poster_path', 'production_companies',\n",
      "       'production_countries', 'release_date', 'runtime', 'spoken_languages',\n",
      "       'status', 'tagline', 'title', 'Keywords', 'cast', 'crew', 'revenue'],\n",
      "      dtype='object')\n"
     ]
    }
   ],
   "source": [
    "#Load in the data\n",
    "train = pd.read_csv(\"../data/train.csv\")\n",
    "test = pd.read_csv(\"../data/test.csv\")\n",
    "#Look at all of the columns\n",
    "print(train.columns)"
   ]
  },
  {
   "cell_type": "code",
   "execution_count": 157,
   "metadata": {},
   "outputs": [
    {
     "data": {
      "text/html": [
       "<div>\n",
       "<style scoped>\n",
       "    .dataframe tbody tr th:only-of-type {\n",
       "        vertical-align: middle;\n",
       "    }\n",
       "\n",
       "    .dataframe tbody tr th {\n",
       "        vertical-align: top;\n",
       "    }\n",
       "\n",
       "    .dataframe thead th {\n",
       "        text-align: right;\n",
       "    }\n",
       "</style>\n",
       "<table border=\"1\" class=\"dataframe\">\n",
       "  <thead>\n",
       "    <tr style=\"text-align: right;\">\n",
       "      <th></th>\n",
       "      <th>id</th>\n",
       "      <th>belongs_to_collection</th>\n",
       "      <th>budget</th>\n",
       "      <th>genres</th>\n",
       "      <th>imdb_id</th>\n",
       "      <th>original_language</th>\n",
       "      <th>popularity</th>\n",
       "      <th>production_companies</th>\n",
       "      <th>production_countries</th>\n",
       "      <th>release_date</th>\n",
       "      <th>runtime</th>\n",
       "      <th>spoken_languages</th>\n",
       "      <th>status</th>\n",
       "      <th>title</th>\n",
       "      <th>cast</th>\n",
       "      <th>crew</th>\n",
       "      <th>revenue</th>\n",
       "    </tr>\n",
       "  </thead>\n",
       "  <tbody>\n",
       "    <tr>\n",
       "      <th>0</th>\n",
       "      <td>1</td>\n",
       "      <td>[{'id': 313576, 'name': 'Hot Tub Time Machine ...</td>\n",
       "      <td>14000000</td>\n",
       "      <td>[{'id': 35, 'name': 'Comedy'}]</td>\n",
       "      <td>tt2637294</td>\n",
       "      <td>en</td>\n",
       "      <td>6.575393</td>\n",
       "      <td>[{'name': 'Paramount Pictures', 'id': 4}, {'na...</td>\n",
       "      <td>[{'iso_3166_1': 'US', 'name': 'United States o...</td>\n",
       "      <td>2/20/15</td>\n",
       "      <td>93.0</td>\n",
       "      <td>[{'iso_639_1': 'en', 'name': 'English'}]</td>\n",
       "      <td>Released</td>\n",
       "      <td>Hot Tub Time Machine 2</td>\n",
       "      <td>[{'cast_id': 4, 'character': 'Lou', 'credit_id...</td>\n",
       "      <td>[{'credit_id': '59ac067c92514107af02c8c8', 'de...</td>\n",
       "      <td>12314651</td>\n",
       "    </tr>\n",
       "    <tr>\n",
       "      <th>1</th>\n",
       "      <td>2</td>\n",
       "      <td>[{'id': 107674, 'name': 'The Princess Diaries ...</td>\n",
       "      <td>40000000</td>\n",
       "      <td>[{'id': 35, 'name': 'Comedy'}, {'id': 18, 'nam...</td>\n",
       "      <td>tt0368933</td>\n",
       "      <td>en</td>\n",
       "      <td>8.248895</td>\n",
       "      <td>[{'name': 'Walt Disney Pictures', 'id': 2}]</td>\n",
       "      <td>[{'iso_3166_1': 'US', 'name': 'United States o...</td>\n",
       "      <td>8/6/04</td>\n",
       "      <td>113.0</td>\n",
       "      <td>[{'iso_639_1': 'en', 'name': 'English'}]</td>\n",
       "      <td>Released</td>\n",
       "      <td>The Princess Diaries 2: Royal Engagement</td>\n",
       "      <td>[{'cast_id': 1, 'character': 'Mia Thermopolis'...</td>\n",
       "      <td>[{'credit_id': '52fe43fe9251416c7502563d', 'de...</td>\n",
       "      <td>95149435</td>\n",
       "    </tr>\n",
       "    <tr>\n",
       "      <th>2</th>\n",
       "      <td>3</td>\n",
       "      <td>NaN</td>\n",
       "      <td>3300000</td>\n",
       "      <td>[{'id': 18, 'name': 'Drama'}]</td>\n",
       "      <td>tt2582802</td>\n",
       "      <td>en</td>\n",
       "      <td>64.299990</td>\n",
       "      <td>[{'name': 'Bold Films', 'id': 2266}, {'name': ...</td>\n",
       "      <td>[{'iso_3166_1': 'US', 'name': 'United States o...</td>\n",
       "      <td>10/10/14</td>\n",
       "      <td>105.0</td>\n",
       "      <td>[{'iso_639_1': 'en', 'name': 'English'}]</td>\n",
       "      <td>Released</td>\n",
       "      <td>Whiplash</td>\n",
       "      <td>[{'cast_id': 5, 'character': 'Andrew Neimann',...</td>\n",
       "      <td>[{'credit_id': '54d5356ec3a3683ba0000039', 'de...</td>\n",
       "      <td>13092000</td>\n",
       "    </tr>\n",
       "    <tr>\n",
       "      <th>3</th>\n",
       "      <td>4</td>\n",
       "      <td>NaN</td>\n",
       "      <td>1200000</td>\n",
       "      <td>[{'id': 53, 'name': 'Thriller'}, {'id': 18, 'n...</td>\n",
       "      <td>tt1821480</td>\n",
       "      <td>hi</td>\n",
       "      <td>3.174936</td>\n",
       "      <td>NaN</td>\n",
       "      <td>[{'iso_3166_1': 'IN', 'name': 'India'}]</td>\n",
       "      <td>3/9/12</td>\n",
       "      <td>122.0</td>\n",
       "      <td>[{'iso_639_1': 'en', 'name': 'English'}, {'iso...</td>\n",
       "      <td>Released</td>\n",
       "      <td>Kahaani</td>\n",
       "      <td>[{'cast_id': 1, 'character': 'Vidya Bagchi', '...</td>\n",
       "      <td>[{'credit_id': '52fe48779251416c9108d6eb', 'de...</td>\n",
       "      <td>16000000</td>\n",
       "    </tr>\n",
       "    <tr>\n",
       "      <th>4</th>\n",
       "      <td>5</td>\n",
       "      <td>NaN</td>\n",
       "      <td>0</td>\n",
       "      <td>[{'id': 28, 'name': 'Action'}, {'id': 53, 'nam...</td>\n",
       "      <td>tt1380152</td>\n",
       "      <td>ko</td>\n",
       "      <td>1.148070</td>\n",
       "      <td>NaN</td>\n",
       "      <td>[{'iso_3166_1': 'KR', 'name': 'South Korea'}]</td>\n",
       "      <td>2/5/09</td>\n",
       "      <td>118.0</td>\n",
       "      <td>[{'iso_639_1': 'ko', 'name': '한국어/조선말'}]</td>\n",
       "      <td>Released</td>\n",
       "      <td>Marine Boy</td>\n",
       "      <td>[{'cast_id': 3, 'character': 'Chun-soo', 'cred...</td>\n",
       "      <td>[{'credit_id': '52fe464b9251416c75073b43', 'de...</td>\n",
       "      <td>3923970</td>\n",
       "    </tr>\n",
       "    <tr>\n",
       "      <th>5</th>\n",
       "      <td>6</td>\n",
       "      <td>NaN</td>\n",
       "      <td>8000000</td>\n",
       "      <td>[{'id': 16, 'name': 'Animation'}, {'id': 12, '...</td>\n",
       "      <td>tt0093743</td>\n",
       "      <td>en</td>\n",
       "      <td>0.743274</td>\n",
       "      <td>NaN</td>\n",
       "      <td>NaN</td>\n",
       "      <td>8/6/87</td>\n",
       "      <td>83.0</td>\n",
       "      <td>[{'iso_639_1': 'en', 'name': 'English'}]</td>\n",
       "      <td>Released</td>\n",
       "      <td>Pinocchio and the Emperor of the Night</td>\n",
       "      <td>[{'cast_id': 6, 'character': 'Pinocchio (voice...</td>\n",
       "      <td>[{'credit_id': '52fe46f49251416c9106558b', 'de...</td>\n",
       "      <td>3261638</td>\n",
       "    </tr>\n",
       "    <tr>\n",
       "      <th>6</th>\n",
       "      <td>7</td>\n",
       "      <td>NaN</td>\n",
       "      <td>14000000</td>\n",
       "      <td>[{'id': 27, 'name': 'Horror'}, {'id': 53, 'nam...</td>\n",
       "      <td>tt0431021</td>\n",
       "      <td>en</td>\n",
       "      <td>7.286477</td>\n",
       "      <td>[{'name': 'Ghost House Pictures', 'id': 768}, ...</td>\n",
       "      <td>[{'iso_3166_1': 'US', 'name': 'United States o...</td>\n",
       "      <td>8/30/12</td>\n",
       "      <td>92.0</td>\n",
       "      <td>[{'iso_639_1': 'en', 'name': 'English'}]</td>\n",
       "      <td>Released</td>\n",
       "      <td>The Possession</td>\n",
       "      <td>[{'cast_id': 23, 'character': 'Clyde', 'credit...</td>\n",
       "      <td>[{'credit_id': '52fe4981c3a368484e12ee29', 'de...</td>\n",
       "      <td>85446075</td>\n",
       "    </tr>\n",
       "    <tr>\n",
       "      <th>7</th>\n",
       "      <td>8</td>\n",
       "      <td>NaN</td>\n",
       "      <td>0</td>\n",
       "      <td>[{'id': 99, 'name': 'Documentary'}]</td>\n",
       "      <td>tt0391024</td>\n",
       "      <td>en</td>\n",
       "      <td>1.949044</td>\n",
       "      <td>NaN</td>\n",
       "      <td>NaN</td>\n",
       "      <td>1/15/04</td>\n",
       "      <td>84.0</td>\n",
       "      <td>[{'iso_639_1': 'ar', 'name': 'العربية'}, {'iso...</td>\n",
       "      <td>Released</td>\n",
       "      <td>Control Room</td>\n",
       "      <td>[{'cast_id': 2, 'character': 'Himself', 'credi...</td>\n",
       "      <td>[{'credit_id': '52fe47a69251416c750a0daf', 'de...</td>\n",
       "      <td>2586511</td>\n",
       "    </tr>\n",
       "    <tr>\n",
       "      <th>8</th>\n",
       "      <td>9</td>\n",
       "      <td>[{'id': 256377, 'name': 'The Muppet Collection...</td>\n",
       "      <td>0</td>\n",
       "      <td>[{'id': 28, 'name': 'Action'}, {'id': 35, 'nam...</td>\n",
       "      <td>tt0117110</td>\n",
       "      <td>en</td>\n",
       "      <td>6.902423</td>\n",
       "      <td>[{'name': 'Walt Disney Pictures', 'id': 2}, {'...</td>\n",
       "      <td>[{'iso_3166_1': 'US', 'name': 'United States o...</td>\n",
       "      <td>2/16/96</td>\n",
       "      <td>100.0</td>\n",
       "      <td>[{'iso_639_1': 'en', 'name': 'English'}]</td>\n",
       "      <td>Released</td>\n",
       "      <td>Muppet Treasure Island</td>\n",
       "      <td>[{'cast_id': 1, 'character': 'Long John Silver...</td>\n",
       "      <td>[{'credit_id': '52fe43c89251416c7501deb3', 'de...</td>\n",
       "      <td>34327391</td>\n",
       "    </tr>\n",
       "    <tr>\n",
       "      <th>9</th>\n",
       "      <td>10</td>\n",
       "      <td>NaN</td>\n",
       "      <td>6000000</td>\n",
       "      <td>[{'id': 35, 'name': 'Comedy'}, {'id': 10402, '...</td>\n",
       "      <td>tt0310281</td>\n",
       "      <td>en</td>\n",
       "      <td>4.672036</td>\n",
       "      <td>[{'name': 'Castle Rock Entertainment', 'id': 97}]</td>\n",
       "      <td>[{'iso_3166_1': 'US', 'name': 'United States o...</td>\n",
       "      <td>4/16/03</td>\n",
       "      <td>91.0</td>\n",
       "      <td>[{'iso_639_1': 'en', 'name': 'English'}]</td>\n",
       "      <td>Released</td>\n",
       "      <td>A Mighty Wind</td>\n",
       "      <td>[{'cast_id': 24, 'character': 'Jonathan Steinb...</td>\n",
       "      <td>[{'credit_id': '52fe45609251416c750545b3', 'de...</td>\n",
       "      <td>18750246</td>\n",
       "    </tr>\n",
       "  </tbody>\n",
       "</table>\n",
       "</div>"
      ],
      "text/plain": [
       "   id                              belongs_to_collection    budget  \\\n",
       "0   1  [{'id': 313576, 'name': 'Hot Tub Time Machine ...  14000000   \n",
       "1   2  [{'id': 107674, 'name': 'The Princess Diaries ...  40000000   \n",
       "2   3                                                NaN   3300000   \n",
       "3   4                                                NaN   1200000   \n",
       "4   5                                                NaN         0   \n",
       "5   6                                                NaN   8000000   \n",
       "6   7                                                NaN  14000000   \n",
       "7   8                                                NaN         0   \n",
       "8   9  [{'id': 256377, 'name': 'The Muppet Collection...         0   \n",
       "9  10                                                NaN   6000000   \n",
       "\n",
       "                                              genres    imdb_id  \\\n",
       "0                     [{'id': 35, 'name': 'Comedy'}]  tt2637294   \n",
       "1  [{'id': 35, 'name': 'Comedy'}, {'id': 18, 'nam...  tt0368933   \n",
       "2                      [{'id': 18, 'name': 'Drama'}]  tt2582802   \n",
       "3  [{'id': 53, 'name': 'Thriller'}, {'id': 18, 'n...  tt1821480   \n",
       "4  [{'id': 28, 'name': 'Action'}, {'id': 53, 'nam...  tt1380152   \n",
       "5  [{'id': 16, 'name': 'Animation'}, {'id': 12, '...  tt0093743   \n",
       "6  [{'id': 27, 'name': 'Horror'}, {'id': 53, 'nam...  tt0431021   \n",
       "7                [{'id': 99, 'name': 'Documentary'}]  tt0391024   \n",
       "8  [{'id': 28, 'name': 'Action'}, {'id': 35, 'nam...  tt0117110   \n",
       "9  [{'id': 35, 'name': 'Comedy'}, {'id': 10402, '...  tt0310281   \n",
       "\n",
       "  original_language  popularity  \\\n",
       "0                en    6.575393   \n",
       "1                en    8.248895   \n",
       "2                en   64.299990   \n",
       "3                hi    3.174936   \n",
       "4                ko    1.148070   \n",
       "5                en    0.743274   \n",
       "6                en    7.286477   \n",
       "7                en    1.949044   \n",
       "8                en    6.902423   \n",
       "9                en    4.672036   \n",
       "\n",
       "                                production_companies  \\\n",
       "0  [{'name': 'Paramount Pictures', 'id': 4}, {'na...   \n",
       "1        [{'name': 'Walt Disney Pictures', 'id': 2}]   \n",
       "2  [{'name': 'Bold Films', 'id': 2266}, {'name': ...   \n",
       "3                                                NaN   \n",
       "4                                                NaN   \n",
       "5                                                NaN   \n",
       "6  [{'name': 'Ghost House Pictures', 'id': 768}, ...   \n",
       "7                                                NaN   \n",
       "8  [{'name': 'Walt Disney Pictures', 'id': 2}, {'...   \n",
       "9  [{'name': 'Castle Rock Entertainment', 'id': 97}]   \n",
       "\n",
       "                                production_countries release_date  runtime  \\\n",
       "0  [{'iso_3166_1': 'US', 'name': 'United States o...      2/20/15     93.0   \n",
       "1  [{'iso_3166_1': 'US', 'name': 'United States o...       8/6/04    113.0   \n",
       "2  [{'iso_3166_1': 'US', 'name': 'United States o...     10/10/14    105.0   \n",
       "3            [{'iso_3166_1': 'IN', 'name': 'India'}]       3/9/12    122.0   \n",
       "4      [{'iso_3166_1': 'KR', 'name': 'South Korea'}]       2/5/09    118.0   \n",
       "5                                                NaN       8/6/87     83.0   \n",
       "6  [{'iso_3166_1': 'US', 'name': 'United States o...      8/30/12     92.0   \n",
       "7                                                NaN      1/15/04     84.0   \n",
       "8  [{'iso_3166_1': 'US', 'name': 'United States o...      2/16/96    100.0   \n",
       "9  [{'iso_3166_1': 'US', 'name': 'United States o...      4/16/03     91.0   \n",
       "\n",
       "                                    spoken_languages    status  \\\n",
       "0           [{'iso_639_1': 'en', 'name': 'English'}]  Released   \n",
       "1           [{'iso_639_1': 'en', 'name': 'English'}]  Released   \n",
       "2           [{'iso_639_1': 'en', 'name': 'English'}]  Released   \n",
       "3  [{'iso_639_1': 'en', 'name': 'English'}, {'iso...  Released   \n",
       "4           [{'iso_639_1': 'ko', 'name': '한국어/조선말'}]  Released   \n",
       "5           [{'iso_639_1': 'en', 'name': 'English'}]  Released   \n",
       "6           [{'iso_639_1': 'en', 'name': 'English'}]  Released   \n",
       "7  [{'iso_639_1': 'ar', 'name': 'العربية'}, {'iso...  Released   \n",
       "8           [{'iso_639_1': 'en', 'name': 'English'}]  Released   \n",
       "9           [{'iso_639_1': 'en', 'name': 'English'}]  Released   \n",
       "\n",
       "                                      title  \\\n",
       "0                    Hot Tub Time Machine 2   \n",
       "1  The Princess Diaries 2: Royal Engagement   \n",
       "2                                  Whiplash   \n",
       "3                                   Kahaani   \n",
       "4                                Marine Boy   \n",
       "5    Pinocchio and the Emperor of the Night   \n",
       "6                            The Possession   \n",
       "7                              Control Room   \n",
       "8                    Muppet Treasure Island   \n",
       "9                             A Mighty Wind   \n",
       "\n",
       "                                                cast  \\\n",
       "0  [{'cast_id': 4, 'character': 'Lou', 'credit_id...   \n",
       "1  [{'cast_id': 1, 'character': 'Mia Thermopolis'...   \n",
       "2  [{'cast_id': 5, 'character': 'Andrew Neimann',...   \n",
       "3  [{'cast_id': 1, 'character': 'Vidya Bagchi', '...   \n",
       "4  [{'cast_id': 3, 'character': 'Chun-soo', 'cred...   \n",
       "5  [{'cast_id': 6, 'character': 'Pinocchio (voice...   \n",
       "6  [{'cast_id': 23, 'character': 'Clyde', 'credit...   \n",
       "7  [{'cast_id': 2, 'character': 'Himself', 'credi...   \n",
       "8  [{'cast_id': 1, 'character': 'Long John Silver...   \n",
       "9  [{'cast_id': 24, 'character': 'Jonathan Steinb...   \n",
       "\n",
       "                                                crew   revenue  \n",
       "0  [{'credit_id': '59ac067c92514107af02c8c8', 'de...  12314651  \n",
       "1  [{'credit_id': '52fe43fe9251416c7502563d', 'de...  95149435  \n",
       "2  [{'credit_id': '54d5356ec3a3683ba0000039', 'de...  13092000  \n",
       "3  [{'credit_id': '52fe48779251416c9108d6eb', 'de...  16000000  \n",
       "4  [{'credit_id': '52fe464b9251416c75073b43', 'de...   3923970  \n",
       "5  [{'credit_id': '52fe46f49251416c9106558b', 'de...   3261638  \n",
       "6  [{'credit_id': '52fe4981c3a368484e12ee29', 'de...  85446075  \n",
       "7  [{'credit_id': '52fe47a69251416c750a0daf', 'de...   2586511  \n",
       "8  [{'credit_id': '52fe43c89251416c7501deb3', 'de...  34327391  \n",
       "9  [{'credit_id': '52fe45609251416c750545b3', 'de...  18750246  "
      ]
     },
     "execution_count": 157,
     "metadata": {},
     "output_type": "execute_result"
    }
   ],
   "source": [
    "#Drop columns we will not be using and inspect the head of df\n",
    "train = train.drop(columns=[ 'homepage', 'poster_path', 'original_title', 'overview','tagline','Keywords'])\n",
    "train.head(10)"
   ]
  },
  {
   "cell_type": "code",
   "execution_count": 158,
   "metadata": {},
   "outputs": [
    {
     "name": "stdout",
     "output_type": "stream",
     "text": [
      "(3000, 17)\n"
     ]
    }
   ],
   "source": [
    "print(train.shape)"
   ]
  },
  {
   "cell_type": "code",
   "execution_count": 159,
   "metadata": {},
   "outputs": [
    {
     "name": "stdout",
     "output_type": "stream",
     "text": [
      "                id        budget   popularity      runtime       revenue\n",
      "count  3000.000000  3.000000e+03  3000.000000  2998.000000  3.000000e+03\n",
      "mean   1500.500000  2.253133e+07     8.463274   107.856571  6.672585e+07\n",
      "std     866.169729  3.702609e+07    12.104000    22.086434  1.375323e+08\n",
      "min       1.000000  0.000000e+00     0.000001     0.000000  1.000000e+00\n",
      "25%     750.750000  0.000000e+00     4.018053    94.000000  2.379808e+06\n",
      "50%    1500.500000  8.000000e+06     7.374861   104.000000  1.680707e+07\n",
      "75%    2250.250000  2.900000e+07    10.890983   118.000000  6.891920e+07\n",
      "max    3000.000000  3.800000e+08   294.337037   338.000000  1.519558e+09\n"
     ]
    }
   ],
   "source": [
    "print(train.describe())"
   ]
  },
  {
   "cell_type": "code",
   "execution_count": 160,
   "metadata": {},
   "outputs": [],
   "source": [
    "#replace all NA values to empty strings so we can extract data cleanly\n",
    "train.genres = train.genres.fillna(\"\")\n",
    "train.production_companies = train.production_companies.fillna(\"\")\n",
    "train.production_countries = train.production_countries.fillna(\"\")\n",
    "train.spoken_languages = train.spoken_languages.fillna(\"\")"
   ]
  },
  {
   "cell_type": "code",
   "execution_count": 161,
   "metadata": {},
   "outputs": [],
   "source": [
    "#use helper function to extract data from necessary features\n",
    "train['genres_reform'] = train['genres'].apply(lambda x: extractData(x))\n",
    "train['production_companies_reform'] = train['production_companies'].apply(lambda x: extractData(x))\n",
    "train['production_countries_reform'] = train['production_countries'].apply(lambda x: extractData(x))\n",
    "train['spoken_languages_reform'] = train['spoken_languages'].apply(lambda x: extractData(x))"
   ]
  },
  {
   "cell_type": "code",
   "execution_count": 162,
   "metadata": {},
   "outputs": [
    {
     "data": {
      "text/html": [
       "<div>\n",
       "<style scoped>\n",
       "    .dataframe tbody tr th:only-of-type {\n",
       "        vertical-align: middle;\n",
       "    }\n",
       "\n",
       "    .dataframe tbody tr th {\n",
       "        vertical-align: top;\n",
       "    }\n",
       "\n",
       "    .dataframe thead th {\n",
       "        text-align: right;\n",
       "    }\n",
       "</style>\n",
       "<table border=\"1\" class=\"dataframe\">\n",
       "  <thead>\n",
       "    <tr style=\"text-align: right;\">\n",
       "      <th></th>\n",
       "      <th>id</th>\n",
       "      <th>belongs_to_collection</th>\n",
       "      <th>budget</th>\n",
       "      <th>genres</th>\n",
       "      <th>imdb_id</th>\n",
       "      <th>original_language</th>\n",
       "      <th>popularity</th>\n",
       "      <th>production_companies</th>\n",
       "      <th>production_countries</th>\n",
       "      <th>release_date</th>\n",
       "      <th>...</th>\n",
       "      <th>spoken_languages</th>\n",
       "      <th>status</th>\n",
       "      <th>title</th>\n",
       "      <th>cast</th>\n",
       "      <th>crew</th>\n",
       "      <th>revenue</th>\n",
       "      <th>genres_reform</th>\n",
       "      <th>production_companies_reform</th>\n",
       "      <th>production_countries_reform</th>\n",
       "      <th>spoken_languages_reform</th>\n",
       "    </tr>\n",
       "  </thead>\n",
       "  <tbody>\n",
       "    <tr>\n",
       "      <th>0</th>\n",
       "      <td>1</td>\n",
       "      <td>[{'id': 313576, 'name': 'Hot Tub Time Machine ...</td>\n",
       "      <td>14000000</td>\n",
       "      <td>[{'id': 35, 'name': 'Comedy'}]</td>\n",
       "      <td>tt2637294</td>\n",
       "      <td>en</td>\n",
       "      <td>6.575393</td>\n",
       "      <td>[{'name': 'Paramount Pictures', 'id': 4}, {'na...</td>\n",
       "      <td>[{'iso_3166_1': 'US', 'name': 'United States o...</td>\n",
       "      <td>2/20/15</td>\n",
       "      <td>...</td>\n",
       "      <td>[{'iso_639_1': 'en', 'name': 'English'}]</td>\n",
       "      <td>Released</td>\n",
       "      <td>Hot Tub Time Machine 2</td>\n",
       "      <td>[{'cast_id': 4, 'character': 'Lou', 'credit_id...</td>\n",
       "      <td>[{'credit_id': '59ac067c92514107af02c8c8', 'de...</td>\n",
       "      <td>12314651</td>\n",
       "      <td>[Comedy]</td>\n",
       "      <td>[Paramount Pictures, United Artists, Metro-Gol...</td>\n",
       "      <td>[United States of America]</td>\n",
       "      <td>[English]</td>\n",
       "    </tr>\n",
       "    <tr>\n",
       "      <th>1</th>\n",
       "      <td>2</td>\n",
       "      <td>[{'id': 107674, 'name': 'The Princess Diaries ...</td>\n",
       "      <td>40000000</td>\n",
       "      <td>[{'id': 35, 'name': 'Comedy'}, {'id': 18, 'nam...</td>\n",
       "      <td>tt0368933</td>\n",
       "      <td>en</td>\n",
       "      <td>8.248895</td>\n",
       "      <td>[{'name': 'Walt Disney Pictures', 'id': 2}]</td>\n",
       "      <td>[{'iso_3166_1': 'US', 'name': 'United States o...</td>\n",
       "      <td>8/6/04</td>\n",
       "      <td>...</td>\n",
       "      <td>[{'iso_639_1': 'en', 'name': 'English'}]</td>\n",
       "      <td>Released</td>\n",
       "      <td>The Princess Diaries 2: Royal Engagement</td>\n",
       "      <td>[{'cast_id': 1, 'character': 'Mia Thermopolis'...</td>\n",
       "      <td>[{'credit_id': '52fe43fe9251416c7502563d', 'de...</td>\n",
       "      <td>95149435</td>\n",
       "      <td>[Comedy, Drama, Family, Romance]</td>\n",
       "      <td>[Walt Disney Pictures]</td>\n",
       "      <td>[United States of America]</td>\n",
       "      <td>[English]</td>\n",
       "    </tr>\n",
       "    <tr>\n",
       "      <th>2</th>\n",
       "      <td>3</td>\n",
       "      <td>NaN</td>\n",
       "      <td>3300000</td>\n",
       "      <td>[{'id': 18, 'name': 'Drama'}]</td>\n",
       "      <td>tt2582802</td>\n",
       "      <td>en</td>\n",
       "      <td>64.299990</td>\n",
       "      <td>[{'name': 'Bold Films', 'id': 2266}, {'name': ...</td>\n",
       "      <td>[{'iso_3166_1': 'US', 'name': 'United States o...</td>\n",
       "      <td>10/10/14</td>\n",
       "      <td>...</td>\n",
       "      <td>[{'iso_639_1': 'en', 'name': 'English'}]</td>\n",
       "      <td>Released</td>\n",
       "      <td>Whiplash</td>\n",
       "      <td>[{'cast_id': 5, 'character': 'Andrew Neimann',...</td>\n",
       "      <td>[{'credit_id': '54d5356ec3a3683ba0000039', 'de...</td>\n",
       "      <td>13092000</td>\n",
       "      <td>[Drama]</td>\n",
       "      <td>[Bold Films, Blumhouse Productions, Right of W...</td>\n",
       "      <td>[United States of America]</td>\n",
       "      <td>[English]</td>\n",
       "    </tr>\n",
       "    <tr>\n",
       "      <th>3</th>\n",
       "      <td>4</td>\n",
       "      <td>NaN</td>\n",
       "      <td>1200000</td>\n",
       "      <td>[{'id': 53, 'name': 'Thriller'}, {'id': 18, 'n...</td>\n",
       "      <td>tt1821480</td>\n",
       "      <td>hi</td>\n",
       "      <td>3.174936</td>\n",
       "      <td></td>\n",
       "      <td>[{'iso_3166_1': 'IN', 'name': 'India'}]</td>\n",
       "      <td>3/9/12</td>\n",
       "      <td>...</td>\n",
       "      <td>[{'iso_639_1': 'en', 'name': 'English'}, {'iso...</td>\n",
       "      <td>Released</td>\n",
       "      <td>Kahaani</td>\n",
       "      <td>[{'cast_id': 1, 'character': 'Vidya Bagchi', '...</td>\n",
       "      <td>[{'credit_id': '52fe48779251416c9108d6eb', 'de...</td>\n",
       "      <td>16000000</td>\n",
       "      <td>[Thriller, Drama]</td>\n",
       "      <td>[]</td>\n",
       "      <td>[India]</td>\n",
       "      <td>[English, हिन्दी]</td>\n",
       "    </tr>\n",
       "    <tr>\n",
       "      <th>4</th>\n",
       "      <td>5</td>\n",
       "      <td>NaN</td>\n",
       "      <td>0</td>\n",
       "      <td>[{'id': 28, 'name': 'Action'}, {'id': 53, 'nam...</td>\n",
       "      <td>tt1380152</td>\n",
       "      <td>ko</td>\n",
       "      <td>1.148070</td>\n",
       "      <td></td>\n",
       "      <td>[{'iso_3166_1': 'KR', 'name': 'South Korea'}]</td>\n",
       "      <td>2/5/09</td>\n",
       "      <td>...</td>\n",
       "      <td>[{'iso_639_1': 'ko', 'name': '한국어/조선말'}]</td>\n",
       "      <td>Released</td>\n",
       "      <td>Marine Boy</td>\n",
       "      <td>[{'cast_id': 3, 'character': 'Chun-soo', 'cred...</td>\n",
       "      <td>[{'credit_id': '52fe464b9251416c75073b43', 'de...</td>\n",
       "      <td>3923970</td>\n",
       "      <td>[Action, Thriller]</td>\n",
       "      <td>[]</td>\n",
       "      <td>[South Korea]</td>\n",
       "      <td>[한국어/조선말]</td>\n",
       "    </tr>\n",
       "  </tbody>\n",
       "</table>\n",
       "<p>5 rows × 21 columns</p>\n",
       "</div>"
      ],
      "text/plain": [
       "   id                              belongs_to_collection    budget  \\\n",
       "0   1  [{'id': 313576, 'name': 'Hot Tub Time Machine ...  14000000   \n",
       "1   2  [{'id': 107674, 'name': 'The Princess Diaries ...  40000000   \n",
       "2   3                                                NaN   3300000   \n",
       "3   4                                                NaN   1200000   \n",
       "4   5                                                NaN         0   \n",
       "\n",
       "                                              genres    imdb_id  \\\n",
       "0                     [{'id': 35, 'name': 'Comedy'}]  tt2637294   \n",
       "1  [{'id': 35, 'name': 'Comedy'}, {'id': 18, 'nam...  tt0368933   \n",
       "2                      [{'id': 18, 'name': 'Drama'}]  tt2582802   \n",
       "3  [{'id': 53, 'name': 'Thriller'}, {'id': 18, 'n...  tt1821480   \n",
       "4  [{'id': 28, 'name': 'Action'}, {'id': 53, 'nam...  tt1380152   \n",
       "\n",
       "  original_language  popularity  \\\n",
       "0                en    6.575393   \n",
       "1                en    8.248895   \n",
       "2                en   64.299990   \n",
       "3                hi    3.174936   \n",
       "4                ko    1.148070   \n",
       "\n",
       "                                production_companies  \\\n",
       "0  [{'name': 'Paramount Pictures', 'id': 4}, {'na...   \n",
       "1        [{'name': 'Walt Disney Pictures', 'id': 2}]   \n",
       "2  [{'name': 'Bold Films', 'id': 2266}, {'name': ...   \n",
       "3                                                      \n",
       "4                                                      \n",
       "\n",
       "                                production_countries release_date  ...  \\\n",
       "0  [{'iso_3166_1': 'US', 'name': 'United States o...      2/20/15  ...   \n",
       "1  [{'iso_3166_1': 'US', 'name': 'United States o...       8/6/04  ...   \n",
       "2  [{'iso_3166_1': 'US', 'name': 'United States o...     10/10/14  ...   \n",
       "3            [{'iso_3166_1': 'IN', 'name': 'India'}]       3/9/12  ...   \n",
       "4      [{'iso_3166_1': 'KR', 'name': 'South Korea'}]       2/5/09  ...   \n",
       "\n",
       "                                    spoken_languages    status  \\\n",
       "0           [{'iso_639_1': 'en', 'name': 'English'}]  Released   \n",
       "1           [{'iso_639_1': 'en', 'name': 'English'}]  Released   \n",
       "2           [{'iso_639_1': 'en', 'name': 'English'}]  Released   \n",
       "3  [{'iso_639_1': 'en', 'name': 'English'}, {'iso...  Released   \n",
       "4           [{'iso_639_1': 'ko', 'name': '한국어/조선말'}]  Released   \n",
       "\n",
       "                                      title  \\\n",
       "0                    Hot Tub Time Machine 2   \n",
       "1  The Princess Diaries 2: Royal Engagement   \n",
       "2                                  Whiplash   \n",
       "3                                   Kahaani   \n",
       "4                                Marine Boy   \n",
       "\n",
       "                                                cast  \\\n",
       "0  [{'cast_id': 4, 'character': 'Lou', 'credit_id...   \n",
       "1  [{'cast_id': 1, 'character': 'Mia Thermopolis'...   \n",
       "2  [{'cast_id': 5, 'character': 'Andrew Neimann',...   \n",
       "3  [{'cast_id': 1, 'character': 'Vidya Bagchi', '...   \n",
       "4  [{'cast_id': 3, 'character': 'Chun-soo', 'cred...   \n",
       "\n",
       "                                                crew   revenue  \\\n",
       "0  [{'credit_id': '59ac067c92514107af02c8c8', 'de...  12314651   \n",
       "1  [{'credit_id': '52fe43fe9251416c7502563d', 'de...  95149435   \n",
       "2  [{'credit_id': '54d5356ec3a3683ba0000039', 'de...  13092000   \n",
       "3  [{'credit_id': '52fe48779251416c9108d6eb', 'de...  16000000   \n",
       "4  [{'credit_id': '52fe464b9251416c75073b43', 'de...   3923970   \n",
       "\n",
       "                      genres_reform  \\\n",
       "0                          [Comedy]   \n",
       "1  [Comedy, Drama, Family, Romance]   \n",
       "2                           [Drama]   \n",
       "3                 [Thriller, Drama]   \n",
       "4                [Action, Thriller]   \n",
       "\n",
       "                         production_companies_reform  \\\n",
       "0  [Paramount Pictures, United Artists, Metro-Gol...   \n",
       "1                             [Walt Disney Pictures]   \n",
       "2  [Bold Films, Blumhouse Productions, Right of W...   \n",
       "3                                                 []   \n",
       "4                                                 []   \n",
       "\n",
       "  production_countries_reform spoken_languages_reform  \n",
       "0  [United States of America]               [English]  \n",
       "1  [United States of America]               [English]  \n",
       "2  [United States of America]               [English]  \n",
       "3                     [India]       [English, हिन्दी]  \n",
       "4               [South Korea]               [한국어/조선말]  \n",
       "\n",
       "[5 rows x 21 columns]"
      ]
     },
     "execution_count": 162,
     "metadata": {},
     "output_type": "execute_result"
    }
   ],
   "source": [
    "train.head()"
   ]
  },
  {
   "cell_type": "code",
   "execution_count": 163,
   "metadata": {},
   "outputs": [
    {
     "name": "stdout",
     "output_type": "stream",
     "text": [
      "['Comedy', 'Drama', 'Family', 'Romance']\n",
      "Comedy\n",
      "Drama\n",
      "Family\n",
      "Romance\n"
     ]
    }
   ],
   "source": [
    "# you can easily index through it now, like so:\n",
    "print(train['genres_reform'][1])\n",
    "for genre in train['genres_reform'][1]:\n",
    "    print(genre)"
   ]
  },
  {
   "cell_type": "code",
   "execution_count": 164,
   "metadata": {},
   "outputs": [],
   "source": [
    "#making a copy so i can play with stuff and show you how i've done some things without changing the real dataset\n",
    "df = train.copy(deep=True)"
   ]
  },
  {
   "cell_type": "code",
   "execution_count": 165,
   "metadata": {},
   "outputs": [],
   "source": [
    "# Will likely make this another separate file as a helper function, can be used for several of the features\n",
    "def unpackCol(list, df):\n",
    "    for i in range(len(df)):\n",
    "        for name in list[i]:\n",
    "            if name not in df.columns:\n",
    "                df[name] = 0\n",
    "            df[name][i] = 1\n",
    "    return df"
   ]
  },
  {
   "cell_type": "code",
   "execution_count": 166,
   "metadata": {},
   "outputs": [
    {
     "data": {
      "text/plain": [
       "0       2637294\n",
       "1       0368933\n",
       "2       2582802\n",
       "3       1821480\n",
       "4       1380152\n",
       "         ...   \n",
       "2995    0109403\n",
       "2996    2364975\n",
       "2997    0116908\n",
       "2998    0343135\n",
       "2999    1600195\n",
       "Name: imdb_id, Length: 3000, dtype: object"
      ]
     },
     "execution_count": 166,
     "metadata": {},
     "output_type": "execute_result"
    }
   ],
   "source": [
    "# stripping the 'tt' from the idmb id, only used in url and easier to get movies without it\n",
    "df['imdb_id'] = df['imdb_id'].str[2:]\n",
    "df['imdb_id']"
   ]
  },
  {
   "cell_type": "code",
   "execution_count": null,
   "metadata": {},
   "outputs": [],
   "source": []
  },
  {
   "cell_type": "code",
   "execution_count": null,
   "metadata": {},
   "outputs": [],
   "source": []
  },
  {
   "cell_type": "markdown",
   "metadata": {},
   "source": [
    "Belongs to Collection"
   ]
  },
  {
   "cell_type": "code",
   "execution_count": 167,
   "metadata": {},
   "outputs": [],
   "source": [
    "# here is a quick line to sort out the collection stuff\n",
    "df.belongs_to_collection = df.belongs_to_collection.apply(lambda x: 1 if type(x) == str else 0)"
   ]
  },
  {
   "cell_type": "code",
   "execution_count": 168,
   "metadata": {},
   "outputs": [
    {
     "name": "stdout",
     "output_type": "stream",
     "text": [
      "0       1\n",
      "1       1\n",
      "2       0\n",
      "3       0\n",
      "4       0\n",
      "       ..\n",
      "2995    0\n",
      "2996    0\n",
      "2997    0\n",
      "2998    0\n",
      "2999    0\n",
      "Name: belongs_to_collection, Length: 3000, dtype: int64\n",
      "\n",
      "Total movies in collections: 604\n",
      "Total movies not in collections: 2396\n"
     ]
    }
   ],
   "source": [
    "print(df.belongs_to_collection)\n",
    "print()\n",
    "print('Total movies in collections:', sum(df.belongs_to_collection))\n",
    "print('Total movies not in collections:', (df.belongs_to_collection == 0).sum(axis=0))"
   ]
  },
  {
   "cell_type": "code",
   "execution_count": 169,
   "metadata": {},
   "outputs": [
    {
     "data": {
      "image/png": "[encoded data removed]",
      "text/plain": [
       "<Figure size 1080x432 with 1 Axes>"
      ]
     },
     "metadata": {},
     "output_type": "display_data"
    }
   ],
   "source": [
    "# plotting belongs to collection data\n",
    "labels = 'Belongs to Collection', 'Not in Collection'\n",
    "btc_1 = [sum(df.belongs_to_collection), (df.belongs_to_collection == 0).sum(axis=0)]\n",
    "explode = (0.1, 0)\n",
    "# cs=['#66b3ff', '#ff9999']\n",
    "\n",
    "fig, ax = plt.subplots()\n",
    "ax.pie(btc_1, explode=explode, labels=labels, autopct='%1.1f%%', shadow=True, startangle=90)\n",
    "ax.axis('equal') # ensures chart is a circle\n",
    "\n",
    "plt.show()"
   ]
  },
  {
   "cell_type": "markdown",
   "metadata": {},
   "source": [
    "From a total of 3000 data points, 604 or 20.1% were a part of a collection of films, while the other 2396 or 79.9% were not. Belonging to a collection has the potential to be an important feature when predicting revenue as customers may be more likely to pay for a movie-going experience when it is the next iteration of a series into which they have already invested time and money. The origin of serial media is largely accredited to The Pickwick Papers, written by Charles Dickens in 1836, and has since boomed all the way into the 21st century. Given the current and historic popularity of the format, it is hypothesized that belonging to a collection will indicate a positive correlation with revenue."
   ]
  },
  {
   "cell_type": "code",
   "execution_count": 170,
   "metadata": {},
   "outputs": [],
   "source": [
    "avg = mean(df.revenue)\n",
    "btc_2 = df.belongs_to_collection"
   ]
  },
  {
   "cell_type": "code",
   "execution_count": null,
   "metadata": {},
   "outputs": [],
   "source": []
  },
  {
   "cell_type": "code",
   "execution_count": null,
   "metadata": {},
   "outputs": [],
   "source": []
  },
  {
   "cell_type": "code",
   "execution_count": null,
   "metadata": {},
   "outputs": [],
   "source": []
  },
  {
   "cell_type": "markdown",
   "metadata": {},
   "source": [
    "Genres"
   ]
  },
  {
   "cell_type": "code",
   "execution_count": 171,
   "metadata": {},
   "outputs": [],
   "source": [
    "#example of using it to unpack the genres \n",
    "df = unpackCol(df['genres_reform'], df)"
   ]
  },
  {
   "cell_type": "code",
   "execution_count": 172,
   "metadata": {},
   "outputs": [
    {
     "name": "stdout",
     "output_type": "stream",
     "text": [
      "Index(['id', 'belongs_to_collection', 'budget', 'genres', 'imdb_id',\n",
      "       'original_language', 'popularity', 'production_companies',\n",
      "       'production_countries', 'release_date', 'runtime', 'spoken_languages',\n",
      "       'status', 'title', 'cast', 'crew', 'revenue', 'genres_reform',\n",
      "       'production_companies_reform', 'production_countries_reform',\n",
      "       'spoken_languages_reform', 'Comedy', 'Drama', 'Family', 'Romance',\n",
      "       'Thriller', 'Action', 'Animation', 'Adventure', 'Horror', 'Documentary',\n",
      "       'Music', 'Crime', 'Science Fiction', 'Mystery', 'Foreign', 'Fantasy',\n",
      "       'War', 'Western', 'History', 'TV Movie'],\n",
      "      dtype='object')\n",
      "\n",
      "0       0\n",
      "1       1\n",
      "2       1\n",
      "3       1\n",
      "4       0\n",
      "       ..\n",
      "2995    0\n",
      "2996    1\n",
      "2997    0\n",
      "2998    0\n",
      "2999    0\n",
      "Name: Drama, Length: 3000, dtype: int64\n",
      "\n",
      "Total number of Dramas:  1531\n"
     ]
    }
   ],
   "source": [
    "#here's what it did\n",
    "print(df.columns)\n",
    "print()\n",
    "print(df['Drama'])\n",
    "print()\n",
    "# This total number lines up with what other people had too for amount of dramas, so assuming it is correct\n",
    "print('Total number of Dramas: ', sum(df['Drama']))"
   ]
  },
  {
   "cell_type": "code",
   "execution_count": 173,
   "metadata": {},
   "outputs": [
    {
     "data": {
      "text/html": [
       "<div>\n",
       "<style scoped>\n",
       "    .dataframe tbody tr th:only-of-type {\n",
       "        vertical-align: middle;\n",
       "    }\n",
       "\n",
       "    .dataframe tbody tr th {\n",
       "        vertical-align: top;\n",
       "    }\n",
       "\n",
       "    .dataframe thead th {\n",
       "        text-align: right;\n",
       "    }\n",
       "</style>\n",
       "<table border=\"1\" class=\"dataframe\">\n",
       "  <thead>\n",
       "    <tr style=\"text-align: right;\">\n",
       "      <th></th>\n",
       "      <th>genre</th>\n",
       "      <th>Family</th>\n",
       "      <th>Mystery</th>\n",
       "      <th>Foreign</th>\n",
       "      <th>Adventure</th>\n",
       "      <th>Fantasy</th>\n",
       "      <th>War</th>\n",
       "      <th>History</th>\n",
       "      <th>Romance</th>\n",
       "      <th>Music</th>\n",
       "      <th>...</th>\n",
       "      <th>Animation</th>\n",
       "      <th>Action</th>\n",
       "      <th>Western</th>\n",
       "      <th>Horror</th>\n",
       "      <th>Drama</th>\n",
       "      <th>Thriller</th>\n",
       "      <th>TV Movie</th>\n",
       "      <th>Comedy</th>\n",
       "      <th>Crime</th>\n",
       "      <th>Documentary</th>\n",
       "    </tr>\n",
       "  </thead>\n",
       "  <tbody>\n",
       "    <tr>\n",
       "      <th>0</th>\n",
       "      <td>(Comedy)</td>\n",
       "      <td>0</td>\n",
       "      <td>0</td>\n",
       "      <td>0</td>\n",
       "      <td>0</td>\n",
       "      <td>0</td>\n",
       "      <td>0</td>\n",
       "      <td>0</td>\n",
       "      <td>0</td>\n",
       "      <td>0</td>\n",
       "      <td>...</td>\n",
       "      <td>0</td>\n",
       "      <td>0</td>\n",
       "      <td>0</td>\n",
       "      <td>0</td>\n",
       "      <td>0</td>\n",
       "      <td>0</td>\n",
       "      <td>0</td>\n",
       "      <td>1</td>\n",
       "      <td>0</td>\n",
       "      <td>0</td>\n",
       "    </tr>\n",
       "    <tr>\n",
       "      <th>1</th>\n",
       "      <td>(Drama, Family, Comedy, Romance)</td>\n",
       "      <td>1</td>\n",
       "      <td>0</td>\n",
       "      <td>0</td>\n",
       "      <td>0</td>\n",
       "      <td>0</td>\n",
       "      <td>0</td>\n",
       "      <td>0</td>\n",
       "      <td>1</td>\n",
       "      <td>0</td>\n",
       "      <td>...</td>\n",
       "      <td>0</td>\n",
       "      <td>0</td>\n",
       "      <td>0</td>\n",
       "      <td>0</td>\n",
       "      <td>1</td>\n",
       "      <td>0</td>\n",
       "      <td>0</td>\n",
       "      <td>1</td>\n",
       "      <td>0</td>\n",
       "      <td>0</td>\n",
       "    </tr>\n",
       "    <tr>\n",
       "      <th>2</th>\n",
       "      <td>(Drama)</td>\n",
       "      <td>0</td>\n",
       "      <td>0</td>\n",
       "      <td>0</td>\n",
       "      <td>0</td>\n",
       "      <td>0</td>\n",
       "      <td>0</td>\n",
       "      <td>0</td>\n",
       "      <td>0</td>\n",
       "      <td>0</td>\n",
       "      <td>...</td>\n",
       "      <td>0</td>\n",
       "      <td>0</td>\n",
       "      <td>0</td>\n",
       "      <td>0</td>\n",
       "      <td>1</td>\n",
       "      <td>0</td>\n",
       "      <td>0</td>\n",
       "      <td>0</td>\n",
       "      <td>0</td>\n",
       "      <td>0</td>\n",
       "    </tr>\n",
       "    <tr>\n",
       "      <th>3</th>\n",
       "      <td>(Thriller, Drama)</td>\n",
       "      <td>0</td>\n",
       "      <td>0</td>\n",
       "      <td>0</td>\n",
       "      <td>0</td>\n",
       "      <td>0</td>\n",
       "      <td>0</td>\n",
       "      <td>0</td>\n",
       "      <td>0</td>\n",
       "      <td>0</td>\n",
       "      <td>...</td>\n",
       "      <td>0</td>\n",
       "      <td>0</td>\n",
       "      <td>0</td>\n",
       "      <td>0</td>\n",
       "      <td>1</td>\n",
       "      <td>1</td>\n",
       "      <td>0</td>\n",
       "      <td>0</td>\n",
       "      <td>0</td>\n",
       "      <td>0</td>\n",
       "    </tr>\n",
       "    <tr>\n",
       "      <th>4</th>\n",
       "      <td>(Thriller, Action)</td>\n",
       "      <td>0</td>\n",
       "      <td>0</td>\n",
       "      <td>0</td>\n",
       "      <td>0</td>\n",
       "      <td>0</td>\n",
       "      <td>0</td>\n",
       "      <td>0</td>\n",
       "      <td>0</td>\n",
       "      <td>0</td>\n",
       "      <td>...</td>\n",
       "      <td>0</td>\n",
       "      <td>1</td>\n",
       "      <td>0</td>\n",
       "      <td>0</td>\n",
       "      <td>0</td>\n",
       "      <td>1</td>\n",
       "      <td>0</td>\n",
       "      <td>0</td>\n",
       "      <td>0</td>\n",
       "      <td>0</td>\n",
       "    </tr>\n",
       "  </tbody>\n",
       "</table>\n",
       "<p>5 rows × 21 columns</p>\n",
       "</div>"
      ],
      "text/plain": [
       "                              genre  Family  Mystery  Foreign  Adventure  \\\n",
       "0                          (Comedy)       0        0        0          0   \n",
       "1  (Drama, Family, Comedy, Romance)       1        0        0          0   \n",
       "2                           (Drama)       0        0        0          0   \n",
       "3                 (Thriller, Drama)       0        0        0          0   \n",
       "4                (Thriller, Action)       0        0        0          0   \n",
       "\n",
       "   Fantasy  War  History  Romance  Music  ...  Animation  Action  Western  \\\n",
       "0        0    0        0        0      0  ...          0       0        0   \n",
       "1        0    0        0        1      0  ...          0       0        0   \n",
       "2        0    0        0        0      0  ...          0       0        0   \n",
       "3        0    0        0        0      0  ...          0       0        0   \n",
       "4        0    0        0        0      0  ...          0       1        0   \n",
       "\n",
       "   Horror  Drama  Thriller  TV Movie  Comedy  Crime  Documentary  \n",
       "0       0      0         0         0       1      0            0  \n",
       "1       0      1         0         0       1      0            0  \n",
       "2       0      1         0         0       0      0            0  \n",
       "3       0      1         1         0       0      0            0  \n",
       "4       0      0         1         0       0      0            0  \n",
       "\n",
       "[5 rows x 21 columns]"
      ]
     },
     "execution_count": 173,
     "metadata": {},
     "output_type": "execute_result"
    }
   ],
   "source": [
    "# here is my lambda for featurizing the genre data - works like a dream with the reformed data! JSON be darned\n",
    "df_test = df['genres_reform'].apply(frozenset).to_frame(name='genre')\n",
    "for genre in frozenset.union(*df_test.genre):\n",
    "    df_test[genre] = df_test.apply(lambda _: int(genre in _.genre), axis=1)\n",
    "df_test.head()"
   ]
  },
  {
   "cell_type": "code",
   "execution_count": 174,
   "metadata": {},
   "outputs": [
    {
     "data": {
      "image/png": "[encoded data removed]",
      "text/plain": [
       "<Figure size 1080x432 with 1 Axes>"
      ]
     },
     "metadata": {},
     "output_type": "display_data"
    }
   ],
   "source": [
    "# plotting genres in order of number of instances in the train.csv dataset\n",
    "bx = ['Drama', 'Comedy', 'Thriller', 'Action',\n",
    "       'Romance', 'Crime', 'Adventure', 'Horror', 'Science Fiction', 'Family',\n",
    "       'Fantasy', 'Mystery', 'Animation', 'History', 'War', 'Music',\n",
    "       'Documentary', 'Western', 'Foreign', 'TV Movie']\n",
    "number = [(sum(df['Drama'])), (sum(df['Comedy'])), (sum(df['Thriller'])), (sum(df['Action'])), \n",
    "            (sum(df['Romance'])), (sum(df['Crime'])), (sum(df['Adventure'])), \n",
    "            (sum(df['Horror'])), (sum(df['Science Fiction'])), (sum(df['Family'])),\n",
    "            (sum(df['Fantasy'])), (sum(df['Mystery'])), (sum(df['Animation'])),\n",
    "            (sum(df['History'])), (sum(df['War'])), (sum(df['Music'])), (sum(df['Documentary'])),\n",
    "            (sum(df['Western'])), (sum(df['Foreign'])), (sum(df['TV Movie']))]\n",
    "\n",
    "# size and positioning\n",
    "bx_pos = [i for i, _ in enumerate(bx)]\n",
    "plt.figure(figsize=(15, 6))\n",
    "\n",
    "# plot\n",
    "plt.bar(bx_pos, number)\n",
    "plt.xlabel(\"Genre\")\n",
    "plt.ylabel(\"Number of Films\")\n",
    "plt.title(\"Films by Genre\")\n",
    "plt.xticks(bx_pos, bx, rotation=-45)\n",
    "\n",
    "plt.show()"
   ]
  },
  {
   "cell_type": "markdown",
   "metadata": {},
   "source": [
    "Genres of movies follow certain trends in popularity; such as the latest boom of superhero movies originating in the 1990s with 20th Century Fox's X-Men series. Although superhero films have been around since at least 1978 with Richard Donner's Superman, the recent trend has helped define the film industry over the past two decades. As such, the importance of genre for determining the revenue of a film (and likewise predicting future success) could be highly useful given the sometimes nebulous patterns of viewership."
   ]
  },
  {
   "cell_type": "code",
   "execution_count": 175,
   "metadata": {},
   "outputs": [
    {
     "name": "stdout",
     "output_type": "stream",
     "text": [
      "1531\n",
      "1028\n",
      "789\n",
      "741\n",
      "571\n",
      "469\n",
      "439\n",
      "301\n",
      "290\n",
      "260\n",
      "232\n",
      "225\n",
      "141\n",
      "132\n",
      "100\n",
      "100\n",
      "87\n",
      "43\n",
      "31\n",
      "1\n"
     ]
    }
   ],
   "source": [
    "# list of film genres by order of number of films in set\n",
    "print(df['Drama'].sum())\n",
    "print(df['Comedy'].sum())\n",
    "print(df['Thriller'].sum())\n",
    "print(df['Action'].sum())\n",
    "print(df['Romance'].sum())\n",
    "print(df['Crime'].sum())\n",
    "print(df['Adventure'].sum())\n",
    "print(df['Horror'].sum())\n",
    "print(df['Science Fiction'].sum())\n",
    "print(df['Family'].sum())\n",
    "print(df['Fantasy'].sum())\n",
    "print(df['Mystery'].sum())\n",
    "print(df['Animation'].sum())\n",
    "print(df['History'].sum())\n",
    "print(df['War'].sum())\n",
    "print(df['Music'].sum())\n",
    "print(df['Documentary'].sum())\n",
    "print(df['Western'].sum())\n",
    "print(df['Foreign'].sum())\n",
    "print(df['TV Movie'].sum())"
   ]
  },
  {
   "cell_type": "markdown",
   "metadata": {},
   "source": [
    "In the case of genres, we see a near logarithmic function from Drama (1531 films) to TV Movies (1). It is assumed that this dataset is representative of broader filmography trends for the purposes of constructing hypotheses about the data. The more popular genres should typically see a likewise correlation in revenue given the increased popularity. However, it is worth considering the unique attraction of 'rare genre' films. Musicals like La La Land grossed S446.1 million for its Box Office total and did so with only a $30 million budget. Therefore, the possibility for outliers or even inverse hypotheses are worth considering."
   ]
  },
  {
   "cell_type": "code",
   "execution_count": null,
   "metadata": {},
   "outputs": [],
   "source": []
  },
  {
   "cell_type": "code",
   "execution_count": null,
   "metadata": {},
   "outputs": [],
   "source": []
  },
  {
   "cell_type": "markdown",
   "metadata": {},
   "source": [
    "Popularity"
   ]
  },
  {
   "cell_type": "code",
   "execution_count": 176,
   "metadata": {},
   "outputs": [
    {
     "data": {
      "image/png": "[encoded data removed]",
      "text/plain": [
       "<Figure size 1080x432 with 1 Axes>"
      ]
     },
     "metadata": {},
     "output_type": "display_data"
    }
   ],
   "source": [
    "# plotting popularity\n",
    "sns.distplot(df['popularity'], kde=True)\n",
    "sns.set(rc={'figure.figsize':(15,6)})\n",
    "plt.title('Histogram of Film Popularity')\n",
    "plt.show();"
   ]
  },
  {
   "cell_type": "code",
   "execution_count": 177,
   "metadata": {},
   "outputs": [
    {
     "name": "stdout",
     "output_type": "stream",
     "text": [
      "count    3000.000000\n",
      "mean        8.463274\n",
      "std        12.104000\n",
      "min         0.000001\n",
      "25%         4.018053\n",
      "50%         7.374861\n",
      "75%        10.890983\n",
      "max       294.337037\n",
      "Name: popularity, dtype: float64\n"
     ]
    }
   ],
   "source": [
    "print(df['popularity'].describe())"
   ]
  },
  {
   "cell_type": "markdown",
   "metadata": {},
   "source": [
    "Popularity is likely to be a significant feature in prediting revenue outcome given the importance of popularity for movie viewership (this is of course contingent upon popularity refering to the 'hype' surrounding a film and not the post-release ratings - if the later than popularity should more directly map to revenue in theory). Because of the more popularity is a good thing for marketing, and thus increased ticket sales, it is hypothesized that popularity and revenue will have a positive correlation. \n",
    "\n",
    "Above it is seen that of the 3000 films in the dataset the average popularity was an 8.46 with a minimum of 0.00 and a max of 294.34. The histogram reveals that the bulk of the films fall between a popularity score of 0 and 25, with sparse highly popular outliers. Dealing with these outliers will be addressed later."
   ]
  },
  {
   "cell_type": "code",
   "execution_count": 178,
   "metadata": {},
   "outputs": [
    {
     "data": {
      "image/png": "[encoded data removed]",
      "text/plain": [
       "<Figure size 1080x432 with 1 Axes>"
      ]
     },
     "metadata": {},
     "output_type": "display_data"
    }
   ],
   "source": [
    "# plotting popularity and revenue\n",
    "cx = df['revenue']\n",
    "pop = df['popularity']\n",
    "plt.plot(cx, pop, 'o')\n",
    "plt.ylabel(\"Revenue\")\n",
    "plt.xlabel(\"Popularity\")\n",
    "plt.title(\"Popularity of Films by Revenue\")\n",
    "\n",
    "z = np.polyfit(cx, pop, 1)\n",
    "p = np.poly1d(z)\n",
    "plt.plot(cx, p(cx), \"--\");"
   ]
  },
  {
   "cell_type": "markdown",
   "metadata": {},
   "source": [
    "In comparing popularity against revenue, there is an overall positive correlation. This is to be expected given the influence of popularity on a film's monetary success via more developed viewership. Further investigation should be conducted by playing around with the outlier values; notably, certain highly popular films do not see concurrently higher revenue, which leads to the conclusion that popularity is not a perfect indicator of a movie's revenue."
   ]
  },
  {
   "cell_type": "code",
   "execution_count": null,
   "metadata": {},
   "outputs": [],
   "source": []
  },
  {
   "cell_type": "code",
   "execution_count": null,
   "metadata": {},
   "outputs": [],
   "source": []
  },
  {
   "cell_type": "markdown",
   "metadata": {},
   "source": [
    "Production Companies"
   ]
  },
  {
   "cell_type": "code",
   "execution_count": 179,
   "metadata": {},
   "outputs": [
    {
     "name": "stdout",
     "output_type": "stream",
     "text": [
      "0       3\n",
      "1       1\n",
      "2       3\n",
      "3       0\n",
      "4       0\n",
      "       ..\n",
      "2995    2\n",
      "2996    2\n",
      "2997    3\n",
      "2998    2\n",
      "2999    6\n",
      "Name: num_studios, Length: 3000, dtype: int64\n"
     ]
    }
   ],
   "source": [
    "# new feature for a count of the number of production studios\n",
    "df['num_studios'] = df.production_companies_reform.apply(lambda x: len(x))\n",
    "print(df['num_studios'])"
   ]
  },
  {
   "cell_type": "code",
   "execution_count": 180,
   "metadata": {},
   "outputs": [
    {
     "data": {
      "image/png": "[encoded data removed]",
      "text/plain": [
       "<Figure size 1080x432 with 1 Axes>"
      ]
     },
     "metadata": {},
     "output_type": "display_data"
    }
   ],
   "source": [
    "# plotting films by number of production studios\n",
    "sns.distplot(df['num_studios'], kde=False)\n",
    "sns.set(rc={'figure.figsize':(15,6)})\n",
    "plt.title('Histogram of Number of Production Studios')\n",
    "plt.show();"
   ]
  },
  {
   "cell_type": "markdown",
   "metadata": {},
   "source": [
    "Most movies have between 1 and 4 production studios, with fewer films having higher numbers and some even with 0 studio partners (independent films). However, given only the sheer number of production studios it is difficult to produce a reasonable hypothesis regarding the box office success of the film. Instead, determining the larger, more established, or otherwise previously successful production studios and applying those findings toward whether or not the dataset films in question have said studios would be a more useful way to analyze the impact of production companies."
   ]
  },
  {
   "cell_type": "code",
   "execution_count": null,
   "metadata": {},
   "outputs": [],
   "source": []
  },
  {
   "cell_type": "code",
   "execution_count": null,
   "metadata": {},
   "outputs": [],
   "source": []
  },
  {
   "cell_type": "markdown",
   "metadata": {},
   "source": [
    "Release Date"
   ]
  },
  {
   "cell_type": "code",
   "execution_count": 181,
   "metadata": {},
   "outputs": [
    {
     "name": "stdout",
     "output_type": "stream",
     "text": [
      "0      2015-02-20\n",
      "1      2004-08-06\n",
      "2      2014-10-10\n",
      "3      2012-03-09\n",
      "4      2009-02-05\n",
      "          ...    \n",
      "2995   1994-04-22\n",
      "2996   2013-03-28\n",
      "2997   1996-10-11\n",
      "2998   2004-01-16\n",
      "2999   2011-09-22\n",
      "Name: release_date, Length: 3000, dtype: datetime64[ns]\n"
     ]
    }
   ],
   "source": [
    "# release date data manipulation\n",
    "# naming a date-specific dataframe for housekeeping\n",
    "df_date = df['release_date']\n",
    "\n",
    "# converting to datetime format, with .dt used for accessing quantities\n",
    "df_date = pd.to_datetime(df_date)\n",
    "df_date.dt\n",
    "print(df_date)"
   ]
  },
  {
   "cell_type": "code",
   "execution_count": 182,
   "metadata": {},
   "outputs": [
    {
     "name": "stdout",
     "output_type": "stream",
     "text": [
      "0       2015\n",
      "1       2004\n",
      "2       2014\n",
      "3       2012\n",
      "4       2009\n",
      "        ... \n",
      "2995    1994\n",
      "2996    2013\n",
      "2997    1996\n",
      "2998    2004\n",
      "2999    2011\n",
      "Name: release_date, Length: 3000, dtype: int64\n",
      "0       4\n",
      "1       4\n",
      "2       4\n",
      "3       4\n",
      "4       3\n",
      "       ..\n",
      "2995    4\n",
      "2996    3\n",
      "2997    4\n",
      "2998    4\n",
      "2999    3\n",
      "Name: release_date, Length: 3000, dtype: int64\n",
      "0        51\n",
      "1       219\n",
      "2       283\n",
      "3        69\n",
      "4        36\n",
      "       ... \n",
      "2995    112\n",
      "2996     87\n",
      "2997    285\n",
      "2998     16\n",
      "2999    265\n",
      "Name: release_date, Length: 3000, dtype: int64\n",
      "0        8\n",
      "1       32\n",
      "2       41\n",
      "3       10\n",
      "4        6\n",
      "        ..\n",
      "2995    16\n",
      "2996    13\n",
      "2997    41\n",
      "2998     3\n",
      "2999    38\n",
      "Name: release_date, Length: 3000, dtype: int64\n"
     ]
    }
   ],
   "source": [
    "# possible output options\n",
    "print(df_date.dt.year) # absolutely necessary\n",
    "print(df_date.dt.dayofweek) # friday night hits!\n",
    "print(df_date.dt.dayofyear) # it's a christmas miracle\n",
    "print(df_date.dt.weekofyear) # idk might be interesting"
   ]
  },
  {
   "cell_type": "code",
   "execution_count": 183,
   "metadata": {},
   "outputs": [
    {
     "name": "stdout",
     "output_type": "stream",
     "text": [
      "count        3000\n",
      "unique       2398\n",
      "top       9/10/10\n",
      "freq            5\n",
      "Name: release_date, dtype: object\n",
      "\n",
      "count    3000.000000\n",
      "mean     2004.779667\n",
      "std        15.664767\n",
      "min      1970.000000\n",
      "25%      1995.000000\n",
      "50%      2006.000000\n",
      "75%      2012.000000\n",
      "max      2069.000000\n",
      "Name: release_date, dtype: float64\n"
     ]
    }
   ],
   "source": [
    "print(df.release_date.describe())\n",
    "print()\n",
    "print(df_date.dt.year.describe())"
   ]
  },
  {
   "cell_type": "code",
   "execution_count": 184,
   "metadata": {},
   "outputs": [
    {
     "data": {
      "image/png": "[encoded data removed]",
      "text/plain": [
       "<Figure size 1080x432 with 1 Axes>"
      ]
     },
     "metadata": {},
     "output_type": "display_data"
    }
   ],
   "source": [
    "# plotting the year of the films release\n",
    "fig, dx = plt.subplots()\n",
    "sns.distplot(df_date.dt.year, bins=99, kde=False)\n",
    "sns.set(rc={'figure.figsize':(15, 6)})\n",
    "\n",
    "dx.set(xlim=(1965, 2020),ylim=(0,400))\n",
    "dx.set_xlabel(\"Year\")\n",
    "dx.set_ylabel(\"Number of Films\")\n",
    "dx.set_title(\"Year of Release Data\")\n",
    "\n",
    "# dx.set_xticklabels(dx.get_xticklabels(), rotation=-45)\n",
    "\n",
    "plt.show();"
   ]
  },
  {
   "cell_type": "markdown",
   "metadata": {},
   "source": [
    "The plot for year of release for the dataset shows a general increase in number of films as time progresses, which makes sense for a growing/maturing industry. While mostly linear, there are several "
   ]
  },
  {
   "cell_type": "code",
   "execution_count": 187,
   "metadata": {},
   "outputs": [
    {
     "data": {
      "image/png": "[encoded data removed]",
      "text/plain": [
       "<Figure size 1080x432 with 1 Axes>"
      ]
     },
     "metadata": {},
     "output_type": "display_data"
    }
   ],
   "source": [
    "# plotting the films release day of the week\n",
    "fig, ex = plt.subplots()\n",
    "sns.distplot(df_date.dt.dayofweek, kde=False)\n",
    "sns.set(rc={'figure.figsize':(15,6)})\n",
    "\n",
    "ex.set_xlabel(\"Day of Week\")\n",
    "ex.set_ylabel(\"Number of Films\")\n",
    "ex.set_title(\"Release Data Day of the Week\")\n",
    "\n",
    "labels = [item.get_text() for item in ex.get_xticklabels()]\n",
    "labels[1] = 'Monday'\n",
    "labels[2] = 'Tuesday'\n",
    "labels[3] = 'Wednesday'\n",
    "labels[4] = 'Thursday'\n",
    "labels[5] = 'Friday'\n",
    "labels[6] = 'Saturday'\n",
    "labels[7] = 'Sunday'\n",
    "\n",
    "ex.set_xticklabels(labels)\n",
    "\n",
    "plt.show();"
   ]
  },
  {
   "cell_type": "code",
   "execution_count": null,
   "metadata": {},
   "outputs": [],
   "source": []
  },
  {
   "cell_type": "code",
   "execution_count": 105,
   "metadata": {},
   "outputs": [
    {
     "data": {
      "image/png": "[encoded data removed]",
      "text/plain": [
       "<Figure size 1080x432 with 1 Axes>"
      ]
     },
     "metadata": {},
     "output_type": "display_data"
    }
   ],
   "source": [
    "# plotting the films release day of the year\n",
    "fig, fx = plt.subplots()\n",
    "sns.distplot(df_date.dt.dayofyear, kde=False)\n",
    "sns.set(rc={'figure.figsize':(15,6)})\n",
    "\n",
    "fx.set_xlabel(\"Day of Year\")\n",
    "fx.set_ylabel(\"Number of Films\")\n",
    "fx.set_title(\"Release Data Day of the Year\")\n",
    "\n",
    "plt.show();"
   ]
  },
  {
   "cell_type": "code",
   "execution_count": null,
   "metadata": {},
   "outputs": [],
   "source": []
  },
  {
   "cell_type": "code",
   "execution_count": 106,
   "metadata": {},
   "outputs": [
    {
     "data": {
      "image/png": "[encoded data removed]",
      "text/plain": [
       "<Figure size 1080x432 with 1 Axes>"
      ]
     },
     "metadata": {},
     "output_type": "display_data"
    }
   ],
   "source": [
    "# plotting the films release week of the year\n",
    "fig, fx = plt.subplots()\n",
    "sns.distplot(df_date.dt.weekofyear, kde=False)\n",
    "sns.set(rc={'figure.figsize':(15,6)})\n",
    "\n",
    "fx.set_xlabel(\"Week of Year\")\n",
    "fx.set_ylabel(\"Number of Films\")\n",
    "fx.set_title(\"Release Data Week of the Year\")\n",
    "\n",
    "plt.show();"
   ]
  },
  {
   "cell_type": "code",
   "execution_count": null,
   "metadata": {},
   "outputs": [],
   "source": []
  },
  {
   "cell_type": "code",
   "execution_count": null,
   "metadata": {},
   "outputs": [],
   "source": []
  },
  {
   "cell_type": "code",
   "execution_count": null,
   "metadata": {},
   "outputs": [],
   "source": []
  },
  {
   "cell_type": "markdown",
   "metadata": {},
   "source": [
    "Spoken Languages"
   ]
  },
  {
   "cell_type": "code",
   "execution_count": 107,
   "metadata": {},
   "outputs": [],
   "source": [
    "# new feature for a count of the number of spoken languages\n",
    "df['num_languages'] = df.spoken_languages_reform.apply(lambda x: len(x))"
   ]
  },
  {
   "cell_type": "code",
   "execution_count": null,
   "metadata": {},
   "outputs": [],
   "source": []
  },
  {
   "cell_type": "code",
   "execution_count": null,
   "metadata": {},
   "outputs": [],
   "source": []
  },
  {
   "cell_type": "markdown",
   "metadata": {},
   "source": [
    "Crew (tbd)"
   ]
  },
  {
   "cell_type": "code",
   "execution_count": null,
   "metadata": {},
   "outputs": [],
   "source": []
  },
  {
   "cell_type": "code",
   "execution_count": null,
   "metadata": {},
   "outputs": [],
   "source": []
  },
  {
   "cell_type": "code",
   "execution_count": null,
   "metadata": {},
   "outputs": [],
   "source": []
  }
 ],
 "metadata": {
  "kernelspec": {
   "display_name": "Python 3",
   "language": "python",
   "name": "python3"
  },
  "language_info": {
   "codemirror_mode": {
    "name": "ipython",
    "version": 3
   },
   "file_extension": ".py",
   "mimetype": "text/x-python",
   "name": "python",
   "nbconvert_exporter": "python",
   "pygments_lexer": "ipython3",
   "version": "3.7.6"
  }
 },
 "nbformat": 4,
 "nbformat_minor": 4
}
